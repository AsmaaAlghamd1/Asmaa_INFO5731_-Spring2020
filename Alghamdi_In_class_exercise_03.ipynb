{
  "nbformat": 4,
  "nbformat_minor": 0,
  "metadata": {
    "kernelspec": {
      "display_name": "Python 3",
      "language": "python",
      "name": "python3"
    },
    "language_info": {
      "codemirror_mode": {
        "name": "ipython",
        "version": 3
      },
      "file_extension": ".py",
      "mimetype": "text/x-python",
      "name": "python",
      "nbconvert_exporter": "python",
      "pygments_lexer": "ipython3",
      "version": "3.7.4"
    },
    "colab": {
      "name": "Alghamdi_In-class-exercise-03.ipynb",
      "provenance": [],
      "collapsed_sections": [],
      "include_colab_link": true
    }
  },
  "cells": [
    {
      "cell_type": "markdown",
      "metadata": {
        "id": "view-in-github",
        "colab_type": "text"
      },
      "source": [
        "<a href=\"https://colab.research.google.com/github/AsmaaAlghamd1/Asmaa_INFO5731_-Spring2021/blob/main/Alghamdi_In_class_exercise_03.ipynb\" target=\"_parent\"><img src=\"https://colab.research.google.com/assets/colab-badge.svg\" alt=\"Open In Colab\"/></a>"
      ]
    },
    {
      "cell_type": "markdown",
      "metadata": {
        "id": "MQjkVPjrnZVD"
      },
      "source": [
        "## The third In-class-exercise (9/16/2020, 20 points in total)"
      ]
    },
    {
      "cell_type": "markdown",
      "metadata": {
        "id": "29KEkLGAnZVH"
      },
      "source": [
        "The purpose of this exercise is to under users' information needs, then collect the data for analysis."
      ]
    },
    {
      "cell_type": "markdown",
      "metadata": {
        "id": "8F5jW1cznZVI"
      },
      "source": [
        "Question 1 (8 points): Describe an interesting research question (or practical question) you have in mind, what kind of data should be collected to answer the question(s)? How many data needed for the analysis? The detail steps for collecting and save the data. "
      ]
    },
    {
      "cell_type": "code",
      "metadata": {
        "id": "BylFrobxnZVI"
      },
      "source": [
        "# Your answer here (no code for this question, write down your answer as detail as possible for the above questions):\n",
        "\n",
        "'''\n",
        "The search question is:\n",
        "In 2021, What the largest and smallest cities in Texas by population?\n",
        "And what is the Texas population density by the Race and Households ? \n",
        "\n",
        "\n",
        "The source of data is (https://worldpopulationreview.com/states/cities/texas)\n",
        "\n",
        "I used the BeautifulSoup library to scraping data from the world population website by using find(URL),and using “prettify” function for HTML page\n",
        " Then find the required table by specifying the table name.\n",
        "I extracted the table for Texas' 500 cities name along with their population.\n",
        "Then I get the result of the five biggest cities in population and the five lowest population cities.\n",
        "Also, I extracted the population by Race and Householders by using read_html function.     \n",
        " \n",
        " Finally, I got interesting results. I thought Dallas is the biggest city of population ,but I found that  Houston is the biggest one.\n",
        " However, by the Households, the marred people is the most for Owner, and by the Race, White people is the most In Texas \n",
        "\n",
        "\n",
        "\n",
        "\n",
        "\n",
        "\n",
        "'''"
      ],
      "execution_count": null,
      "outputs": []
    },
    {
      "cell_type": "markdown",
      "metadata": {
        "id": "iV0HlKpcnZVI"
      },
      "source": [
        "Question 2 (12 points): Write python code to collect 500 items of the data you plan to collect above."
      ]
    },
    {
      "cell_type": "code",
      "metadata": {
        "id": "jHpBx9JqnZVJ"
      },
      "source": [
        "import pandas as pd\n",
        "import requests\n",
        "import urllib.request as ur\n",
        "Pop = \"https://worldpopulationreview.com/states/cities/texas\"\n",
        "page = ur.urlopen(Pop)\n",
        "from bs4 import BeautifulSoup as bs\n",
        "soup = bs(page)\n",
        "print(soup.prettify())\n",
        "soup.a\n",
        "soup.find_all(\"a\")\n",
        "\n",
        "\n",
        "\n"
      ],
      "execution_count": null,
      "outputs": []
    },
    {
      "cell_type": "code",
      "metadata": {
        "id": "2fYS6eF3nj47"
      },
      "source": [
        "\n",
        "for link in soup.find_all(\"a\"):\n",
        "  print(link.get(\"href\"))\n"
      ],
      "execution_count": null,
      "outputs": []
    },
    {
      "cell_type": "code",
      "metadata": {
        "id": "6gcVVqKjnmKf"
      },
      "source": [
        "Population = soup.find(class_=\"jsx-2642336383 table-container\")\n",
        "print(Population)\n",
        "\n",
        "\n",
        "Pop_data = []\n",
        "\n",
        "for data in Population.findAll(\"tr\"):\n",
        "  cells = data.findAll('td')\n",
        "  states=data.findAll('th')\n",
        "  if len(cells)==6:\n",
        "      item = []\n",
        "      item.append(cells[0].find(text=True).strip(\"\\n\"))\n",
        "      item.append(cells[1].find(text=True).strip(\"\\n\"))\n",
        "      item.append(cells[2].find(text=True).strip(\"\\n\"))\n",
        "      item.append(cells[3].find(text=True).strip(\"\\n\"))\n",
        "      item.append(cells[4].find(text=True).strip(\"\\n\"))\n",
        "      item.append(cells[5].find(text=True).strip(\"\\n\"))\n",
        "      Pop_data.append(item)\n",
        "print(Pop_data)\n",
        "\n",
        "Pop_new = []\n",
        "\n",
        "Titles = ['Rank','City Name','2021 Population ','2010 Census','Change','Density']\n",
        "for record in Pop_data:\n",
        "    record_dict = dict(zip(Titles ,record))\n",
        "    Pop_new.append(record_dict)\n",
        "print(Pop_new)"
      ],
      "execution_count": null,
      "outputs": []
    },
    {
      "cell_type": "code",
      "metadata": {
        "colab": {
          "base_uri": "https://localhost:8080/",
          "height": 419
        },
        "id": "SxeKniS_o4aR",
        "outputId": "f4471ba0-3a03-4876-9d96-4bcd4667e026"
      },
      "source": [
        "import pandas as pd\n",
        "\n",
        "Y=pd.DataFrame(Pop_new)\n",
        "Y"
      ],
      "execution_count": 24,
      "outputs": [
        {
          "output_type": "execute_result",
          "data": {
            "text/html": [
              "<div>\n",
              "<style scoped>\n",
              "    .dataframe tbody tr th:only-of-type {\n",
              "        vertical-align: middle;\n",
              "    }\n",
              "\n",
              "    .dataframe tbody tr th {\n",
              "        vertical-align: top;\n",
              "    }\n",
              "\n",
              "    .dataframe thead th {\n",
              "        text-align: right;\n",
              "    }\n",
              "</style>\n",
              "<table border=\"1\" class=\"dataframe\">\n",
              "  <thead>\n",
              "    <tr style=\"text-align: right;\">\n",
              "      <th></th>\n",
              "      <th>Rank</th>\n",
              "      <th>City Name</th>\n",
              "      <th>2021 Population</th>\n",
              "      <th>2010 Census</th>\n",
              "      <th>Change</th>\n",
              "      <th>Density</th>\n",
              "    </tr>\n",
              "  </thead>\n",
              "  <tbody>\n",
              "    <tr>\n",
              "      <th>0</th>\n",
              "      <td>1</td>\n",
              "      <td>Houston</td>\n",
              "      <td>2,323,660</td>\n",
              "      <td>2,100,280</td>\n",
              "      <td>10.64%</td>\n",
              "      <td>541</td>\n",
              "    </tr>\n",
              "    <tr>\n",
              "      <th>1</th>\n",
              "      <td>2</td>\n",
              "      <td>San Antonio</td>\n",
              "      <td>1,581,730</td>\n",
              "      <td>1,332,300</td>\n",
              "      <td>18.72%</td>\n",
              "      <td>486</td>\n",
              "    </tr>\n",
              "    <tr>\n",
              "      <th>2</th>\n",
              "      <td>3</td>\n",
              "      <td>Dallas</td>\n",
              "      <td>1,347,120</td>\n",
              "      <td>1,200,350</td>\n",
              "      <td>12.23%</td>\n",
              "      <td>591</td>\n",
              "    </tr>\n",
              "    <tr>\n",
              "      <th>3</th>\n",
              "      <td>4</td>\n",
              "      <td>Austin</td>\n",
              "      <td>1,011,790</td>\n",
              "      <td>806,164</td>\n",
              "      <td>25.51%</td>\n",
              "      <td>471</td>\n",
              "    </tr>\n",
              "    <tr>\n",
              "      <th>4</th>\n",
              "      <td>5</td>\n",
              "      <td>Fort Worth</td>\n",
              "      <td>942,323</td>\n",
              "      <td>748,441</td>\n",
              "      <td>25.90%</td>\n",
              "      <td>406</td>\n",
              "    </tr>\n",
              "    <tr>\n",
              "      <th>...</th>\n",
              "      <td>...</td>\n",
              "      <td>...</td>\n",
              "      <td>...</td>\n",
              "      <td>...</td>\n",
              "      <td>...</td>\n",
              "      <td>...</td>\n",
              "    </tr>\n",
              "    <tr>\n",
              "      <th>495</th>\n",
              "      <td>496</td>\n",
              "      <td>Clyde</td>\n",
              "      <td>3,811</td>\n",
              "      <td>3,691</td>\n",
              "      <td>3.25%</td>\n",
              "      <td>173</td>\n",
              "    </tr>\n",
              "    <tr>\n",
              "      <th>496</th>\n",
              "      <td>497</td>\n",
              "      <td>Barrett</td>\n",
              "      <td>3,807</td>\n",
              "      <td>3,199</td>\n",
              "      <td>19.01%</td>\n",
              "      <td>89</td>\n",
              "    </tr>\n",
              "    <tr>\n",
              "      <th>497</th>\n",
              "      <td>498</td>\n",
              "      <td>Presidio</td>\n",
              "      <td>3,748</td>\n",
              "      <td>4,466</td>\n",
              "      <td>-16.08%</td>\n",
              "      <td>217</td>\n",
              "    </tr>\n",
              "    <tr>\n",
              "      <th>498</th>\n",
              "      <td>499</td>\n",
              "      <td>West Columbia</td>\n",
              "      <td>3,746</td>\n",
              "      <td>3,894</td>\n",
              "      <td>-3.80%</td>\n",
              "      <td>223</td>\n",
              "    </tr>\n",
              "    <tr>\n",
              "      <th>499</th>\n",
              "      <td>500</td>\n",
              "      <td>Crane</td>\n",
              "      <td>3,740</td>\n",
              "      <td>3,353</td>\n",
              "      <td>11.54%</td>\n",
              "      <td>539</td>\n",
              "    </tr>\n",
              "  </tbody>\n",
              "</table>\n",
              "<p>500 rows × 6 columns</p>\n",
              "</div>"
            ],
            "text/plain": [
              "    Rank      City Name 2021 Population  2010 Census   Change Density\n",
              "0      1        Houston        2,323,660   2,100,280   10.64%     541\n",
              "1      2    San Antonio        1,581,730   1,332,300   18.72%     486\n",
              "2      3         Dallas        1,347,120   1,200,350   12.23%     591\n",
              "3      4         Austin        1,011,790     806,164   25.51%     471\n",
              "4      5     Fort Worth          942,323     748,441   25.90%     406\n",
              "..   ...            ...              ...         ...      ...     ...\n",
              "495  496          Clyde            3,811       3,691    3.25%     173\n",
              "496  497        Barrett            3,807       3,199   19.01%      89\n",
              "497  498       Presidio            3,748       4,466  -16.08%     217\n",
              "498  499  West Columbia            3,746       3,894   -3.80%     223\n",
              "499  500          Crane            3,740       3,353   11.54%     539\n",
              "\n",
              "[500 rows x 6 columns]"
            ]
          },
          "metadata": {
            "tags": []
          },
          "execution_count": 24
        }
      ]
    },
    {
      "cell_type": "markdown",
      "metadata": {
        "id": "FwHsKpOeyHz-"
      },
      "source": [
        "The rsearch questions were answered by finding this table.\n",
        "The biggest city of population in Texas is Houston with rank 1\n",
        "The lowest city of population in Texas is Crane with rank 500"
      ]
    },
    {
      "cell_type": "code",
      "metadata": {
        "colab": {
          "base_uri": "https://localhost:8080/"
        },
        "id": "1md5lD8QpFqW",
        "outputId": "5e645cbc-c6bc-46c7-dbf6-89651cdb29a6"
      },
      "source": [
        "# Another way to extract Other tables from the same website \n",
        "from pandas.io.html import read_html\n",
        "page = \"https://worldpopulationreview.com/states/texas-population\"\n",
        "\n",
        "X = read_html(page,  attrs={'class':\"jsx-1487038798\"})\n",
        "\n",
        "print (\"Extracted {num} \".format(num=len(X)))"
      ],
      "execution_count": 12,
      "outputs": [
        {
          "output_type": "stream",
          "text": [
            "Extracted 13 \n"
          ],
          "name": "stdout"
        }
      ]
    },
    {
      "cell_type": "code",
      "metadata": {
        "colab": {
          "base_uri": "https://localhost:8080/"
        },
        "id": "JqSG2CZmpIE5",
        "outputId": "7bece2b6-528b-4e8a-bd4a-f69b2185edec"
      },
      "source": [
        "#Table 2\n",
        "print('\\n\\n'\"The population by Race \"\"\\n\\n\",(X[0]))"
      ],
      "execution_count": 17,
      "outputs": [
        {
          "output_type": "stream",
          "text": [
            "\n",
            "\n",
            "The population by Race \n",
            "\n",
            "                                          Race  Population Percentage\n",
            "0                                       White    20903340     73.97%\n",
            "1                   Black or African American     3428214     12.13%\n",
            "2                             Some Other Race     1643865      5.82%\n",
            "3                                       Asian     1357269      4.80%\n",
            "4                           Two or More Races      761411      2.69%\n",
            "5           American Indian and Alaska Native      141425      0.50%\n",
            "6  Native Hawaiian and Other Pacific Islander       25292      0.09%\n"
          ],
          "name": "stdout"
        }
      ]
    },
    {
      "cell_type": "code",
      "metadata": {
        "colab": {
          "base_uri": "https://localhost:8080/"
        },
        "id": "ZnaoFkGCqzQi",
        "outputId": "ff548a08-651a-4461-bce0-d0a5e2e0d502"
      },
      "source": [
        "#table 3\n",
        "print(\"The population by Households:\"\"\\n\\n\",(X[1]))"
      ],
      "execution_count": 16,
      "outputs": [
        {
          "output_type": "stream",
          "text": [
            "The population by Households:\n",
            "\n",
            "          Type  Owner Renter\n",
            "0     Married  77.7%  22.3%\n",
            "1         All    62%    38%\n",
            "2        Male  51.8%  48.2%\n",
            "3      Female  46.4%  53.6%\n",
            "4  Non Family  44.8%  55.2%\n"
          ],
          "name": "stdout"
        }
      ]
    }
  ]
}