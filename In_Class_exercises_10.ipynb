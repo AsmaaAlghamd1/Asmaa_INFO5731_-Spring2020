{
  "nbformat": 4,
  "nbformat_minor": 0,
  "metadata": {
    "colab": {
      "name": "In_Class_exercises-10.ipynb",
      "provenance": [],
      "collapsed_sections": [],
      "include_colab_link": true
    },
    "kernelspec": {
      "display_name": "Python 3",
      "language": "python",
      "name": "python3"
    },
    "language_info": {
      "codemirror_mode": {
        "name": "ipython",
        "version": 3
      },
      "file_extension": ".py",
      "mimetype": "text/x-python",
      "name": "python",
      "nbconvert_exporter": "python",
      "pygments_lexer": "ipython3",
      "version": "3.8.5"
    }
  },
  "cells": [
    {
      "cell_type": "markdown",
      "metadata": {
        "id": "view-in-github",
        "colab_type": "text"
      },
      "source": [
        "<a href=\"https://colab.research.google.com/github/AsmaaAlghamd1/Asmaa_INFO5731_-Spring2021/blob/main/In_Class_exercises_10.ipynb\" target=\"_parent\"><img src=\"https://colab.research.google.com/assets/colab-badge.svg\" alt=\"Open In Colab\"/></a>"
      ]
    },
    {
      "cell_type": "markdown",
      "metadata": {
        "id": "eSzzlYaPprhC"
      },
      "source": [
        "# In class exercise 10 (20 points in total, 4/16/2021)"
      ]
    },
    {
      "cell_type": "markdown",
      "metadata": {
        "id": "f2KNLdOmprhE"
      },
      "source": [
        "The purpose of the exercise is to practice different machine learning algorithms for text clustering\n",
        "Please downlad the dataset by using the following link.  https://www.kaggle.com/PromptCloudHQ/amazon-reviews-unlocked-mobile-phones\n",
        "(You can also use different text data which you want)\n",
        "\n",
        "Apply the listed clustering methods to the dataset:\n",
        "\n",
        "K means, \n",
        "DBSCAN,\n",
        "Hierarchical clustering. \n",
        "\n",
        "You can refer to of the codes from  the follwing link below. \n",
        "https://www.kaggle.com/karthik3890/text-clustering \n",
        "    "
      ]
    },
    {
      "cell_type": "code",
      "metadata": {
        "id": "7YkiMpzQprhF",
        "colab": {
          "base_uri": "https://localhost:8080/"
        },
        "outputId": "32190fa8-922f-41ad-ea22-3f62935ac625"
      },
      "source": [
        "#importing necessary libraries\n",
        "import pandas as pd\n",
        "import nltk\n",
        "from nltk.corpus import stopwords\n",
        "\n",
        "from textblob import Word\n",
        "from sklearn.feature_extraction.text import TfidfVectorizer\n",
        "import nltk\n",
        "nltk.download('wordnet')\n",
        "from sklearn.cluster import KMeans\n",
        "import numpy as np \n",
        "import matplotlib.pyplot as plt\n",
        "from sklearn import metrics\n",
        "import gensim\n",
        "import scipy\n",
        "from scipy.cluster import hierarchy\n",
        "from sklearn.cluster import AgglomerativeClustering\n",
        "from sklearn.datasets.samples_generator import (make_blobs,\n",
        "                                                make_circles,\n",
        "                                                make_moons)\n",
        "from sklearn.cluster import KMeans, SpectralClustering\n",
        "from sklearn.preprocessing import StandardScaler\n",
        "from sklearn.feature_extraction.text import TfidfVectorizer\n"
      ],
      "execution_count": 3,
      "outputs": [
        {
          "output_type": "stream",
          "text": [
            "[nltk_data] Downloading package wordnet to /root/nltk_data...\n",
            "[nltk_data]   Package wordnet is already up-to-date!\n"
          ],
          "name": "stdout"
        },
        {
          "output_type": "stream",
          "text": [
            "/usr/local/lib/python3.7/dist-packages/sklearn/utils/deprecation.py:144: FutureWarning: The sklearn.datasets.samples_generator module is  deprecated in version 0.22 and will be removed in version 0.24. The corresponding classes / functions should instead be imported from sklearn.datasets. Anything that cannot be imported from sklearn.datasets is now part of the private API.\n",
            "  warnings.warn(message, FutureWarning)\n"
          ],
          "name": "stderr"
        }
      ]
    },
    {
      "cell_type": "code",
      "metadata": {
        "id": "s2CqJyu8qf4I"
      },
      "source": [
        "#load the data\n",
        "df=pd.read_csv(\"/content/Amazon_Unlocked_Mobile.csv\")\n"
      ],
      "execution_count": 4,
      "outputs": []
    },
    {
      "cell_type": "code",
      "metadata": {
        "id": "tPIt0Ij9qjfk",
        "colab": {
          "base_uri": "https://localhost:8080/"
        },
        "outputId": "d650c437-8d71-4396-a48c-3b1789692341"
      },
      "source": [
        "print(df.shape)\n",
        "\n"
      ],
      "execution_count": 5,
      "outputs": [
        {
          "output_type": "stream",
          "text": [
            "(413840, 6)\n"
          ],
          "name": "stdout"
        }
      ]
    },
    {
      "cell_type": "code",
      "metadata": {
        "id": "a4GeUh5VVV8r",
        "colab": {
          "base_uri": "https://localhost:8080/",
          "height": 725
        },
        "outputId": "e552c441-11ec-4ab2-8411-e71c3de77381"
      },
      "source": [
        "df.head(100)"
      ],
      "execution_count": 6,
      "outputs": [
        {
          "output_type": "execute_result",
          "data": {
            "text/html": [
              "<div>\n",
              "<style scoped>\n",
              "    .dataframe tbody tr th:only-of-type {\n",
              "        vertical-align: middle;\n",
              "    }\n",
              "\n",
              "    .dataframe tbody tr th {\n",
              "        vertical-align: top;\n",
              "    }\n",
              "\n",
              "    .dataframe thead th {\n",
              "        text-align: right;\n",
              "    }\n",
              "</style>\n",
              "<table border=\"1\" class=\"dataframe\">\n",
              "  <thead>\n",
              "    <tr style=\"text-align: right;\">\n",
              "      <th></th>\n",
              "      <th>Product Name</th>\n",
              "      <th>Brand Name</th>\n",
              "      <th>Price</th>\n",
              "      <th>Rating</th>\n",
              "      <th>Reviews</th>\n",
              "      <th>Review Votes</th>\n",
              "    </tr>\n",
              "  </thead>\n",
              "  <tbody>\n",
              "    <tr>\n",
              "      <th>0</th>\n",
              "      <td>\"CLEAR CLEAN ESN\" Sprint EPIC 4G Galaxy SPH-D7...</td>\n",
              "      <td>Samsung</td>\n",
              "      <td>199.99</td>\n",
              "      <td>5</td>\n",
              "      <td>I feel so LUCKY to have found this used (phone...</td>\n",
              "      <td>1.0</td>\n",
              "    </tr>\n",
              "    <tr>\n",
              "      <th>1</th>\n",
              "      <td>\"CLEAR CLEAN ESN\" Sprint EPIC 4G Galaxy SPH-D7...</td>\n",
              "      <td>Samsung</td>\n",
              "      <td>199.99</td>\n",
              "      <td>4</td>\n",
              "      <td>nice phone, nice up grade from my pantach revu...</td>\n",
              "      <td>0.0</td>\n",
              "    </tr>\n",
              "    <tr>\n",
              "      <th>2</th>\n",
              "      <td>\"CLEAR CLEAN ESN\" Sprint EPIC 4G Galaxy SPH-D7...</td>\n",
              "      <td>Samsung</td>\n",
              "      <td>199.99</td>\n",
              "      <td>5</td>\n",
              "      <td>Very pleased</td>\n",
              "      <td>0.0</td>\n",
              "    </tr>\n",
              "    <tr>\n",
              "      <th>3</th>\n",
              "      <td>\"CLEAR CLEAN ESN\" Sprint EPIC 4G Galaxy SPH-D7...</td>\n",
              "      <td>Samsung</td>\n",
              "      <td>199.99</td>\n",
              "      <td>4</td>\n",
              "      <td>It works good but it goes slow sometimes but i...</td>\n",
              "      <td>0.0</td>\n",
              "    </tr>\n",
              "    <tr>\n",
              "      <th>4</th>\n",
              "      <td>\"CLEAR CLEAN ESN\" Sprint EPIC 4G Galaxy SPH-D7...</td>\n",
              "      <td>Samsung</td>\n",
              "      <td>199.99</td>\n",
              "      <td>4</td>\n",
              "      <td>Great phone to replace my lost phone. The only...</td>\n",
              "      <td>0.0</td>\n",
              "    </tr>\n",
              "    <tr>\n",
              "      <th>...</th>\n",
              "      <td>...</td>\n",
              "      <td>...</td>\n",
              "      <td>...</td>\n",
              "      <td>...</td>\n",
              "      <td>...</td>\n",
              "      <td>...</td>\n",
              "    </tr>\n",
              "    <tr>\n",
              "      <th>95</th>\n",
              "      <td>\"Nokia Asha 302 Unlocked GSM Phone with 3.2MP ...</td>\n",
              "      <td>Nokia</td>\n",
              "      <td>299.00</td>\n",
              "      <td>5</td>\n",
              "      <td>very well</td>\n",
              "      <td>0.0</td>\n",
              "    </tr>\n",
              "    <tr>\n",
              "      <th>96</th>\n",
              "      <td>\"Nokia Asha 302 Unlocked GSM Phone with 3.2MP ...</td>\n",
              "      <td>Nokia</td>\n",
              "      <td>299.00</td>\n",
              "      <td>1</td>\n",
              "      <td>Cannot connect to GSM network</td>\n",
              "      <td>0.0</td>\n",
              "    </tr>\n",
              "    <tr>\n",
              "      <th>97</th>\n",
              "      <td>\"Nokia Asha 302 Unlocked GSM Phone with 3.2MP ...</td>\n",
              "      <td>Nokia</td>\n",
              "      <td>299.00</td>\n",
              "      <td>4</td>\n",
              "      <td>This cell phone exceeded my expectations, it's...</td>\n",
              "      <td>1.0</td>\n",
              "    </tr>\n",
              "    <tr>\n",
              "      <th>98</th>\n",
              "      <td>\"Nokia Asha 302 Unlocked GSM Phone with 3.2MP ...</td>\n",
              "      <td>Nokia</td>\n",
              "      <td>299.00</td>\n",
              "      <td>4</td>\n",
              "      <td>pros.. it works fine, its easy to use, not too...</td>\n",
              "      <td>1.0</td>\n",
              "    </tr>\n",
              "    <tr>\n",
              "      <th>99</th>\n",
              "      <td>\"Nokia Asha 302 Unlocked GSM Phone with 3.2MP ...</td>\n",
              "      <td>Nokia</td>\n",
              "      <td>299.00</td>\n",
              "      <td>5</td>\n",
              "      <td>I went through lots of reviews for different p...</td>\n",
              "      <td>1.0</td>\n",
              "    </tr>\n",
              "  </tbody>\n",
              "</table>\n",
              "<p>100 rows × 6 columns</p>\n",
              "</div>"
            ],
            "text/plain": [
              "                                         Product Name  ... Review Votes\n",
              "0   \"CLEAR CLEAN ESN\" Sprint EPIC 4G Galaxy SPH-D7...  ...          1.0\n",
              "1   \"CLEAR CLEAN ESN\" Sprint EPIC 4G Galaxy SPH-D7...  ...          0.0\n",
              "2   \"CLEAR CLEAN ESN\" Sprint EPIC 4G Galaxy SPH-D7...  ...          0.0\n",
              "3   \"CLEAR CLEAN ESN\" Sprint EPIC 4G Galaxy SPH-D7...  ...          0.0\n",
              "4   \"CLEAR CLEAN ESN\" Sprint EPIC 4G Galaxy SPH-D7...  ...          0.0\n",
              "..                                                ...  ...          ...\n",
              "95  \"Nokia Asha 302 Unlocked GSM Phone with 3.2MP ...  ...          0.0\n",
              "96  \"Nokia Asha 302 Unlocked GSM Phone with 3.2MP ...  ...          0.0\n",
              "97  \"Nokia Asha 302 Unlocked GSM Phone with 3.2MP ...  ...          1.0\n",
              "98  \"Nokia Asha 302 Unlocked GSM Phone with 3.2MP ...  ...          1.0\n",
              "99  \"Nokia Asha 302 Unlocked GSM Phone with 3.2MP ...  ...          1.0\n",
              "\n",
              "[100 rows x 6 columns]"
            ]
          },
          "metadata": {
            "tags": []
          },
          "execution_count": 6
        }
      ]
    },
    {
      "cell_type": "code",
      "metadata": {
        "id": "7jlmpht7ToT7",
        "colab": {
          "base_uri": "https://localhost:8080/",
          "height": 350
        },
        "outputId": "4462c369-d3be-4aa3-ebc8-7d539271ddbc"
      },
      "source": [
        "import seaborn as sns\n",
        "sns.countplot(df.Rating)"
      ],
      "execution_count": 7,
      "outputs": [
        {
          "output_type": "stream",
          "text": [
            "/usr/local/lib/python3.7/dist-packages/seaborn/_decorators.py:43: FutureWarning: Pass the following variable as a keyword arg: x. From version 0.12, the only valid positional argument will be `data`, and passing other arguments without an explicit keyword will result in an error or misinterpretation.\n",
            "  FutureWarning\n"
          ],
          "name": "stderr"
        },
        {
          "output_type": "execute_result",
          "data": {
            "text/plain": [
              "<matplotlib.axes._subplots.AxesSubplot at 0x7f6514b5a890>"
            ]
          },
          "metadata": {
            "tags": []
          },
          "execution_count": 7
        },
        {
          "output_type": "display_data",
          "data": {
            "image/png": "[encoded data removed]",
            "text/plain": [
              "<Figure size 432x288 with 1 Axes>"
            ]
          },
          "metadata": {
            "tags": [],
            "needs_background": "light"
          }
        }
      ]
    },
    {
      "cell_type": "code",
      "metadata": {
        "id": "Y56eQYjDqmV0",
        "colab": {
          "base_uri": "https://localhost:8080/",
          "height": 1000
        },
        "outputId": "39c5762d-c6c0-4e88-b8cd-480dfbca20d7"
      },
      "source": [
        "\n",
        "import nltk\n",
        "nltk.download('stopwords')\n",
        "df['CleanedReviews'] = df['Reviews'].apply(lambda x: \" \".join(x.lower() for x in str(x).split()))\n",
        "df['CleanedReviews'] = df['CleanedReviews'].str.replace('[^\\w\\s]','')\n",
        "stop = stopwords.words('english')\n",
        "df['CleanedReviews'] = df['CleanedReviews'].apply(lambda x: \" \".join(x for x in x.split() if x not in stop))\n",
        "df['CleanedReviews'] = df['CleanedReviews'].apply(lambda x: \" \".join([Word(word).lemmatize() for word in x.split()]))\n",
        "df"
      ],
      "execution_count": 8,
      "outputs": [
        {
          "output_type": "stream",
          "text": [
            "[nltk_data] Downloading package stopwords to /root/nltk_data...\n",
            "[nltk_data]   Package stopwords is already up-to-date!\n"
          ],
          "name": "stdout"
        },
        {
          "output_type": "execute_result",
          "data": {
            "text/html": [
              "<div>\n",
              "<style scoped>\n",
              "    .dataframe tbody tr th:only-of-type {\n",
              "        vertical-align: middle;\n",
              "    }\n",
              "\n",
              "    .dataframe tbody tr th {\n",
              "        vertical-align: top;\n",
              "    }\n",
              "\n",
              "    .dataframe thead th {\n",
              "        text-align: right;\n",
              "    }\n",
              "</style>\n",
              "<table border=\"1\" class=\"dataframe\">\n",
              "  <thead>\n",
              "    <tr style=\"text-align: right;\">\n",
              "      <th></th>\n",
              "      <th>Product Name</th>\n",
              "      <th>Brand Name</th>\n",
              "      <th>Price</th>\n",
              "      <th>Rating</th>\n",
              "      <th>Reviews</th>\n",
              "      <th>Review Votes</th>\n",
              "      <th>CleanedReviews</th>\n",
              "    </tr>\n",
              "  </thead>\n",
              "  <tbody>\n",
              "    <tr>\n",
              "      <th>0</th>\n",
              "      <td>\"CLEAR CLEAN ESN\" Sprint EPIC 4G Galaxy SPH-D7...</td>\n",
              "      <td>Samsung</td>\n",
              "      <td>199.99</td>\n",
              "      <td>5</td>\n",
              "      <td>I feel so LUCKY to have found this used (phone...</td>\n",
              "      <td>1.0</td>\n",
              "      <td>feel lucky found used phone u used hard phone ...</td>\n",
              "    </tr>\n",
              "    <tr>\n",
              "      <th>1</th>\n",
              "      <td>\"CLEAR CLEAN ESN\" Sprint EPIC 4G Galaxy SPH-D7...</td>\n",
              "      <td>Samsung</td>\n",
              "      <td>199.99</td>\n",
              "      <td>4</td>\n",
              "      <td>nice phone, nice up grade from my pantach revu...</td>\n",
              "      <td>0.0</td>\n",
              "      <td>nice phone nice grade pantach revue clean set ...</td>\n",
              "    </tr>\n",
              "    <tr>\n",
              "      <th>2</th>\n",
              "      <td>\"CLEAR CLEAN ESN\" Sprint EPIC 4G Galaxy SPH-D7...</td>\n",
              "      <td>Samsung</td>\n",
              "      <td>199.99</td>\n",
              "      <td>5</td>\n",
              "      <td>Very pleased</td>\n",
              "      <td>0.0</td>\n",
              "      <td>pleased</td>\n",
              "    </tr>\n",
              "    <tr>\n",
              "      <th>3</th>\n",
              "      <td>\"CLEAR CLEAN ESN\" Sprint EPIC 4G Galaxy SPH-D7...</td>\n",
              "      <td>Samsung</td>\n",
              "      <td>199.99</td>\n",
              "      <td>4</td>\n",
              "      <td>It works good but it goes slow sometimes but i...</td>\n",
              "      <td>0.0</td>\n",
              "      <td>work good go slow sometimes good phone love</td>\n",
              "    </tr>\n",
              "    <tr>\n",
              "      <th>4</th>\n",
              "      <td>\"CLEAR CLEAN ESN\" Sprint EPIC 4G Galaxy SPH-D7...</td>\n",
              "      <td>Samsung</td>\n",
              "      <td>199.99</td>\n",
              "      <td>4</td>\n",
              "      <td>Great phone to replace my lost phone. The only...</td>\n",
              "      <td>0.0</td>\n",
              "      <td>great phone replace lost phone thing volume bu...</td>\n",
              "    </tr>\n",
              "    <tr>\n",
              "      <th>...</th>\n",
              "      <td>...</td>\n",
              "      <td>...</td>\n",
              "      <td>...</td>\n",
              "      <td>...</td>\n",
              "      <td>...</td>\n",
              "      <td>...</td>\n",
              "      <td>...</td>\n",
              "    </tr>\n",
              "    <tr>\n",
              "      <th>413835</th>\n",
              "      <td>Samsung Convoy U640 Phone for Verizon Wireless...</td>\n",
              "      <td>Samsung</td>\n",
              "      <td>79.95</td>\n",
              "      <td>5</td>\n",
              "      <td>another great deal great price</td>\n",
              "      <td>0.0</td>\n",
              "      <td>another great deal great price</td>\n",
              "    </tr>\n",
              "    <tr>\n",
              "      <th>413836</th>\n",
              "      <td>Samsung Convoy U640 Phone for Verizon Wireless...</td>\n",
              "      <td>Samsung</td>\n",
              "      <td>79.95</td>\n",
              "      <td>3</td>\n",
              "      <td>Ok</td>\n",
              "      <td>0.0</td>\n",
              "      <td>ok</td>\n",
              "    </tr>\n",
              "    <tr>\n",
              "      <th>413837</th>\n",
              "      <td>Samsung Convoy U640 Phone for Verizon Wireless...</td>\n",
              "      <td>Samsung</td>\n",
              "      <td>79.95</td>\n",
              "      <td>5</td>\n",
              "      <td>Passes every drop test onto porcelain tile!</td>\n",
              "      <td>0.0</td>\n",
              "      <td>pass every drop test onto porcelain tile</td>\n",
              "    </tr>\n",
              "    <tr>\n",
              "      <th>413838</th>\n",
              "      <td>Samsung Convoy U640 Phone for Verizon Wireless...</td>\n",
              "      <td>Samsung</td>\n",
              "      <td>79.95</td>\n",
              "      <td>3</td>\n",
              "      <td>I returned it because it did not meet my needs...</td>\n",
              "      <td>0.0</td>\n",
              "      <td>returned meet need seemed good selection others</td>\n",
              "    </tr>\n",
              "    <tr>\n",
              "      <th>413839</th>\n",
              "      <td>Samsung Convoy U640 Phone for Verizon Wireless...</td>\n",
              "      <td>Samsung</td>\n",
              "      <td>79.95</td>\n",
              "      <td>4</td>\n",
              "      <td>Only downside is that apparently Verizon no lo...</td>\n",
              "      <td>0.0</td>\n",
              "      <td>downside apparently verizon longer us vcast mu...</td>\n",
              "    </tr>\n",
              "  </tbody>\n",
              "</table>\n",
              "<p>413840 rows × 7 columns</p>\n",
              "</div>"
            ],
            "text/plain": [
              "                                             Product Name  ...                                     CleanedReviews\n",
              "0       \"CLEAR CLEAN ESN\" Sprint EPIC 4G Galaxy SPH-D7...  ...  feel lucky found used phone u used hard phone ...\n",
              "1       \"CLEAR CLEAN ESN\" Sprint EPIC 4G Galaxy SPH-D7...  ...  nice phone nice grade pantach revue clean set ...\n",
              "2       \"CLEAR CLEAN ESN\" Sprint EPIC 4G Galaxy SPH-D7...  ...                                            pleased\n",
              "3       \"CLEAR CLEAN ESN\" Sprint EPIC 4G Galaxy SPH-D7...  ...        work good go slow sometimes good phone love\n",
              "4       \"CLEAR CLEAN ESN\" Sprint EPIC 4G Galaxy SPH-D7...  ...  great phone replace lost phone thing volume bu...\n",
              "...                                                   ...  ...                                                ...\n",
              "413835  Samsung Convoy U640 Phone for Verizon Wireless...  ...                     another great deal great price\n",
              "413836  Samsung Convoy U640 Phone for Verizon Wireless...  ...                                                 ok\n",
              "413837  Samsung Convoy U640 Phone for Verizon Wireless...  ...           pass every drop test onto porcelain tile\n",
              "413838  Samsung Convoy U640 Phone for Verizon Wireless...  ...    returned meet need seemed good selection others\n",
              "413839  Samsung Convoy U640 Phone for Verizon Wireless...  ...  downside apparently verizon longer us vcast mu...\n",
              "\n",
              "[413840 rows x 7 columns]"
            ]
          },
          "metadata": {
            "tags": []
          },
          "execution_count": 8
        }
      ]
    },
    {
      "cell_type": "code",
      "metadata": {
        "id": "C7JaFAInERrU"
      },
      "source": [
        "Vectorizer = TfidfVectorizer()\n",
        "tfidf_vect = Vectorizer.fit_transform(df['CleanedReviews'].values)\n",
        "Fnames= Vectorizer.get_feature_names()"
      ],
      "execution_count": 9,
      "outputs": []
    },
    {
      "cell_type": "code",
      "metadata": {
        "id": "u3OK97xmgGVX",
        "colab": {
          "base_uri": "https://localhost:8080/",
          "height": 1000
        },
        "outputId": "2343b137-73e8-4f4c-f657-e9db1f3773ce"
      },
      "source": [
        "def Posit(x):\n",
        "    if x == 3:\n",
        "        return 'negative'\n",
        "    return 'positive'\n",
        "\n",
        "ActualScore = df['Reviews']\n",
        "Pos_Neg = actualScore.map(Posit) \n",
        "df['Rating'] = Pos_Neg\n",
        "df.head(100)"
      ],
      "execution_count": 39,
      "outputs": [
        {
          "output_type": "execute_result",
          "data": {
            "text/html": [
              "<div>\n",
              "<style scoped>\n",
              "    .dataframe tbody tr th:only-of-type {\n",
              "        vertical-align: middle;\n",
              "    }\n",
              "\n",
              "    .dataframe tbody tr th {\n",
              "        vertical-align: top;\n",
              "    }\n",
              "\n",
              "    .dataframe thead th {\n",
              "        text-align: right;\n",
              "    }\n",
              "</style>\n",
              "<table border=\"1\" class=\"dataframe\">\n",
              "  <thead>\n",
              "    <tr style=\"text-align: right;\">\n",
              "      <th></th>\n",
              "      <th>Product Name</th>\n",
              "      <th>Brand Name</th>\n",
              "      <th>Price</th>\n",
              "      <th>Rating</th>\n",
              "      <th>Reviews</th>\n",
              "      <th>Review Votes</th>\n",
              "      <th>CleanedReviews</th>\n",
              "    </tr>\n",
              "  </thead>\n",
              "  <tbody>\n",
              "    <tr>\n",
              "      <th>0</th>\n",
              "      <td>\"CLEAR CLEAN ESN\" Sprint EPIC 4G Galaxy SPH-D7...</td>\n",
              "      <td>Samsung</td>\n",
              "      <td>199.99</td>\n",
              "      <td>positive</td>\n",
              "      <td>I feel so LUCKY to have found this used (phone...</td>\n",
              "      <td>1.0</td>\n",
              "      <td>feel lucky found used phone u used hard phone ...</td>\n",
              "    </tr>\n",
              "    <tr>\n",
              "      <th>1</th>\n",
              "      <td>\"CLEAR CLEAN ESN\" Sprint EPIC 4G Galaxy SPH-D7...</td>\n",
              "      <td>Samsung</td>\n",
              "      <td>199.99</td>\n",
              "      <td>positive</td>\n",
              "      <td>nice phone, nice up grade from my pantach revu...</td>\n",
              "      <td>0.0</td>\n",
              "      <td>nice phone nice grade pantach revue clean set ...</td>\n",
              "    </tr>\n",
              "    <tr>\n",
              "      <th>2</th>\n",
              "      <td>\"CLEAR CLEAN ESN\" Sprint EPIC 4G Galaxy SPH-D7...</td>\n",
              "      <td>Samsung</td>\n",
              "      <td>199.99</td>\n",
              "      <td>positive</td>\n",
              "      <td>Very pleased</td>\n",
              "      <td>0.0</td>\n",
              "      <td>pleased</td>\n",
              "    </tr>\n",
              "    <tr>\n",
              "      <th>3</th>\n",
              "      <td>\"CLEAR CLEAN ESN\" Sprint EPIC 4G Galaxy SPH-D7...</td>\n",
              "      <td>Samsung</td>\n",
              "      <td>199.99</td>\n",
              "      <td>positive</td>\n",
              "      <td>It works good but it goes slow sometimes but i...</td>\n",
              "      <td>0.0</td>\n",
              "      <td>work good go slow sometimes good phone love</td>\n",
              "    </tr>\n",
              "    <tr>\n",
              "      <th>4</th>\n",
              "      <td>\"CLEAR CLEAN ESN\" Sprint EPIC 4G Galaxy SPH-D7...</td>\n",
              "      <td>Samsung</td>\n",
              "      <td>199.99</td>\n",
              "      <td>positive</td>\n",
              "      <td>Great phone to replace my lost phone. The only...</td>\n",
              "      <td>0.0</td>\n",
              "      <td>great phone replace lost phone thing volume bu...</td>\n",
              "    </tr>\n",
              "    <tr>\n",
              "      <th>...</th>\n",
              "      <td>...</td>\n",
              "      <td>...</td>\n",
              "      <td>...</td>\n",
              "      <td>...</td>\n",
              "      <td>...</td>\n",
              "      <td>...</td>\n",
              "      <td>...</td>\n",
              "    </tr>\n",
              "    <tr>\n",
              "      <th>95</th>\n",
              "      <td>\"Nokia Asha 302 Unlocked GSM Phone with 3.2MP ...</td>\n",
              "      <td>Nokia</td>\n",
              "      <td>299.00</td>\n",
              "      <td>positive</td>\n",
              "      <td>very well</td>\n",
              "      <td>0.0</td>\n",
              "      <td>well</td>\n",
              "    </tr>\n",
              "    <tr>\n",
              "      <th>96</th>\n",
              "      <td>\"Nokia Asha 302 Unlocked GSM Phone with 3.2MP ...</td>\n",
              "      <td>Nokia</td>\n",
              "      <td>299.00</td>\n",
              "      <td>positive</td>\n",
              "      <td>Cannot connect to GSM network</td>\n",
              "      <td>0.0</td>\n",
              "      <td>cannot connect gsm network</td>\n",
              "    </tr>\n",
              "    <tr>\n",
              "      <th>97</th>\n",
              "      <td>\"Nokia Asha 302 Unlocked GSM Phone with 3.2MP ...</td>\n",
              "      <td>Nokia</td>\n",
              "      <td>299.00</td>\n",
              "      <td>positive</td>\n",
              "      <td>This cell phone exceeded my expectations, it's...</td>\n",
              "      <td>1.0</td>\n",
              "      <td>cell phone exceeded expectation user friendly ...</td>\n",
              "    </tr>\n",
              "    <tr>\n",
              "      <th>98</th>\n",
              "      <td>\"Nokia Asha 302 Unlocked GSM Phone with 3.2MP ...</td>\n",
              "      <td>Nokia</td>\n",
              "      <td>299.00</td>\n",
              "      <td>positive</td>\n",
              "      <td>pros.. it works fine, its easy to use, not too...</td>\n",
              "      <td>1.0</td>\n",
              "      <td>pro work fine easy use heavycons apps android ...</td>\n",
              "    </tr>\n",
              "    <tr>\n",
              "      <th>99</th>\n",
              "      <td>\"Nokia Asha 302 Unlocked GSM Phone with 3.2MP ...</td>\n",
              "      <td>Nokia</td>\n",
              "      <td>299.00</td>\n",
              "      <td>positive</td>\n",
              "      <td>I went through lots of reviews for different p...</td>\n",
              "      <td>1.0</td>\n",
              "      <td>went lot review different phone buying found p...</td>\n",
              "    </tr>\n",
              "  </tbody>\n",
              "</table>\n",
              "<p>100 rows × 7 columns</p>\n",
              "</div>"
            ],
            "text/plain": [
              "                                         Product Name  ...                                     CleanedReviews\n",
              "0   \"CLEAR CLEAN ESN\" Sprint EPIC 4G Galaxy SPH-D7...  ...  feel lucky found used phone u used hard phone ...\n",
              "1   \"CLEAR CLEAN ESN\" Sprint EPIC 4G Galaxy SPH-D7...  ...  nice phone nice grade pantach revue clean set ...\n",
              "2   \"CLEAR CLEAN ESN\" Sprint EPIC 4G Galaxy SPH-D7...  ...                                            pleased\n",
              "3   \"CLEAR CLEAN ESN\" Sprint EPIC 4G Galaxy SPH-D7...  ...        work good go slow sometimes good phone love\n",
              "4   \"CLEAR CLEAN ESN\" Sprint EPIC 4G Galaxy SPH-D7...  ...  great phone replace lost phone thing volume bu...\n",
              "..                                                ...  ...                                                ...\n",
              "95  \"Nokia Asha 302 Unlocked GSM Phone with 3.2MP ...  ...                                               well\n",
              "96  \"Nokia Asha 302 Unlocked GSM Phone with 3.2MP ...  ...                         cannot connect gsm network\n",
              "97  \"Nokia Asha 302 Unlocked GSM Phone with 3.2MP ...  ...  cell phone exceeded expectation user friendly ...\n",
              "98  \"Nokia Asha 302 Unlocked GSM Phone with 3.2MP ...  ...  pro work fine easy use heavycons apps android ...\n",
              "99  \"Nokia Asha 302 Unlocked GSM Phone with 3.2MP ...  ...  went lot review different phone buying found p...\n",
              "\n",
              "[100 rows x 7 columns]"
            ]
          },
          "metadata": {
            "tags": []
          },
          "execution_count": 39
        }
      ]
    },
    {
      "cell_type": "code",
      "metadata": {
        "id": "I5JhFzfcgqwS",
        "colab": {
          "base_uri": "https://localhost:8080/",
          "height": 350
        },
        "outputId": "c047039e-46fc-4a6f-b2a8-e9526c009133"
      },
      "source": [
        "df['Rating'].value_counts()\n",
        "\n",
        "\n",
        "sns.countplot(df.Rating)"
      ],
      "execution_count": 11,
      "outputs": [
        {
          "output_type": "stream",
          "text": [
            "/usr/local/lib/python3.7/dist-packages/seaborn/_decorators.py:43: FutureWarning: Pass the following variable as a keyword arg: x. From version 0.12, the only valid positional argument will be `data`, and passing other arguments without an explicit keyword will result in an error or misinterpretation.\n",
            "  FutureWarning\n"
          ],
          "name": "stderr"
        },
        {
          "output_type": "execute_result",
          "data": {
            "text/plain": [
              "<matplotlib.axes._subplots.AxesSubplot at 0x7f65144c41d0>"
            ]
          },
          "metadata": {
            "tags": []
          },
          "execution_count": 11
        },
        {
          "output_type": "display_data",
          "data": {
            "image/png": "[encoded data removed]",
            "text/plain": [
              "<Figure size 432x288 with 1 Axes>"
            ]
          },
          "metadata": {
            "tags": [],
            "needs_background": "light"
          }
        }
      ]
    },
    {
      "cell_type": "code",
      "metadata": {
        "id": "czrdlnVqhkCO"
      },
      "source": [
        "%matplotlib inline"
      ],
      "execution_count": 10,
      "outputs": []
    },
    {
      "cell_type": "code",
      "metadata": {
        "colab": {
          "base_uri": "https://localhost:8080/"
        },
        "id": "vEKpyehKs324",
        "outputId": "25e6797d-1bf7-4f98-c7d0-37a1f1ff6ca1"
      },
      "source": [
        "tfidf_vect = Vectorizer.fit_transform(df['CleanedReviews'].values)\n",
        "tfidf_vect.shape\n"
      ],
      "execution_count": 12,
      "outputs": [
        {
          "output_type": "execute_result",
          "data": {
            "text/plain": [
              "(413840, 125121)"
            ]
          },
          "metadata": {
            "tags": []
          },
          "execution_count": 12
        }
      ]
    },
    {
      "cell_type": "code",
      "metadata": {
        "id": "7HynnJF6uTmv"
      },
      "source": [
        "from collections import Counter\n",
        "Km = KMeans()\n",
        "kmodel = KMeans(n_clusters = 5, n_jobs = -1,random_state=99)\n",
        "kmodel.fit(tfidf_vect) \n",
        "Counter(kmodel.labels_)"
      ],
      "execution_count": null,
      "outputs": []
    },
    {
      "cell_type": "code",
      "metadata": {
        "id": "2P_BG2cCQipI"
      },
      "source": [
        "from collections import Counter\n",
        "labels = kmodel.labels_\n",
        "cluster_center=kmodel.cluster_centers_\n"
      ],
      "execution_count": null,
      "outputs": []
    },
    {
      "cell_type": "code",
      "metadata": {
        "id": "yepvKUgh_-dm"
      },
      "source": [
        "Dta1 = tfidf_vect.get_feature_names() \n",
        "Dta1[1:10]\n",
        "Df1 = df1\n",
        "Df1['Tfidf Clus Label'] = Kmodel.labels_\n",
        "Df1.head(10)"
      ],
      "execution_count": null,
      "outputs": []
    },
    {
      "cell_type": "code",
      "metadata": {
        "id": "2d-tE0BuQ_M5"
      },
      "source": [
        "from sklearn import metrics\n",
        "silhouette_score = metrics.silhouette_score(tfidf_vectors,Kmodel.labels_, metric='euclidean')\n",
        "silhouette_score"
      ],
      "execution_count": null,
      "outputs": []
    },
    {
      "cell_type": "markdown",
      "metadata": {
        "id": "bFDrPu-MFxJ8"
      },
      "source": [
        "# DBSCAN"
      ]
    },
    {
      "cell_type": "code",
      "metadata": {
        "id": "sFDbLWSXRI4G"
      },
      "source": [
        "\n",
        "import gensim\n",
        "AMreview=[]\n",
        "for i in df['CleanedReviews']:\n",
        "  AMreview.append(i.split())\n",
        "\n",
        "W2Vmodel=gensim.models.Word2Vec(AMreview, size=100, workers=4)"
      ],
      "execution_count": 20,
      "outputs": []
    },
    {
      "cell_type": "code",
      "metadata": {
        "id": "6NV2JooiRJDl",
        "colab": {
          "base_uri": "https://localhost:8080/"
        },
        "outputId": "bb260ac7-ddff-471c-db25-d9feea5848af"
      },
      "source": [
        "import numpy as np\n",
        "AMvectors = []\n",
        "for i in AMreview:\n",
        "    vector = np.zeros(100)\n",
        "    count = 0\n",
        "    for x in i:\n",
        "        try:\n",
        "            vec = w2v_model.wv[word]\n",
        "            vector += vec\n",
        "            count += 1\n",
        "        except:\n",
        "            pass\n",
        "    vector /= count\n",
        "    AMvectors.append(vector)  \n",
        "AMvectors = np.array(AMvectors)\n",
        "AMvectors = np.nan_to_num(AMvectors)"
      ],
      "execution_count": 21,
      "outputs": [
        {
          "output_type": "stream",
          "text": [
            "/usr/local/lib/python3.7/dist-packages/ipykernel_launcher.py:13: RuntimeWarning: invalid value encountered in true_divide\n",
            "  del sys.path[0]\n"
          ],
          "name": "stderr"
        }
      ]
    },
    {
      "cell_type": "code",
      "metadata": {
        "id": "jTsoOaqURNiG"
      },
      "source": [
        "from sklearn.cluster import DBSCAN\n",
        "def LNum(nums, target): \n",
        "    l, r = 0, len(nums) - 1\n",
        "    while l <= r:\n",
        "        mid = int(l + (r - l) / 2)\n",
        "        if nums[mid] >= target:\n",
        "            r = mid - 1\n",
        "        else:\n",
        "            l = mid + 1\n",
        "    return l\n",
        "\n",
        "def Neighbour(x, data): \n",
        "    lists = []\n",
        "    for val in data:\n",
        "        list1 = np.sum((x -val) **2 ) \n",
        "        if(len(lists) == 200 and lists[199] > list1): \n",
        "            l = int(LNum(lists, list1)) \n",
        "            if l < 200 and l >= 0 and lists[l] > list1:\n",
        "                lists[l] = list1\n",
        "        else:\n",
        "            lists.append(list1)\n",
        "            lists.sort()\n",
        "    \n",
        "    return lists[199]"
      ],
      "execution_count": 31,
      "outputs": []
    },
    {
      "cell_type": "code",
      "metadata": {
        "id": "STkOIBj0RTXL",
        "colab": {
          "base_uri": "https://localhost:8080/"
        },
        "outputId": "2dca5fe6-4e30-4f72-edba-1a3d9b5afa0a"
      },
      "source": [
        "\n",
        "AMvectors.shape"
      ],
      "execution_count": 27,
      "outputs": [
        {
          "output_type": "execute_result",
          "data": {
            "text/plain": [
              "(413840, 100)"
            ]
          },
          "metadata": {
            "tags": []
          },
          "execution_count": 27
        }
      ]
    },
    {
      "cell_type": "code",
      "metadata": {
        "id": "XGDSXSKSRTcF"
      },
      "source": [
        "list2 = []\n",
        "for val in AMvectors[:1000]:\n",
        "    list2.append(compute200thnearestneighbour(val, AMvectors[:300]))\n",
        "list2.sort()"
      ],
      "execution_count": 32,
      "outputs": []
    },
    {
      "cell_type": "code",
      "metadata": {
        "id": "F8chk-G9RThG"
      },
      "source": [
        "%matplotlib inline\n",
        "from matplotlib import pyplot as plt"
      ],
      "execution_count": 33,
      "outputs": []
    },
    {
      "cell_type": "code",
      "metadata": {
        "id": "WWT9ZhJ4RTli",
        "colab": {
          "base_uri": "https://localhost:8080/",
          "height": 350
        },
        "outputId": "47f3583d-173f-45ff-89a4-856a69028dec"
      },
      "source": [
        "# Plotting Elbow Method :\n",
        "plt.figure(figsize=(5,5))\n",
        "plt.title(\"Elbow Method\")\n",
        "plt.plot([x for x in range(len(list2))],list2)\n",
        "plt.xlabel(\"The length\")\n",
        "plt.ylabel(\" The Distance\")\n",
        "plt.show()"
      ],
      "execution_count": 36,
      "outputs": [
        {
          "output_type": "display_data",
          "data": {
            "image/png": "[encoded data removed]",
            "text/plain": [
              "<Figure size 360x360 with 1 Axes>"
            ]
          },
          "metadata": {
            "tags": [],
            "needs_background": "light"
          }
        }
      ]
    },
    {
      "cell_type": "code",
      "metadata": {
        "id": "JeZTr7WHJuPL"
      },
      "source": [
        "from sklearn.cluster import DBSCAN\n",
        "list3 = 2 * 100\n",
        "model = DBSCAN(eps = 8, min_samples = list3, n_jobs=-2)\n",
        "model.fit(AMvectors)\n",
        "df['AVG-W2V Clus Label'] = model.labels_\n",
        "df.head(10)"
      ],
      "execution_count": null,
      "outputs": []
    },
    {
      "cell_type": "code",
      "metadata": {
        "id": "vHJ2eN0NDKY7"
      },
      "source": [
        "\n",
        "import scipy\n",
        "from scipy.cluster import hierarchy\n",
        "Dendro=hierarchy.dendrogram(hierarchy.linkage(AMvectors,method='ward'))\n",
        "plt.axhline(y=20)"
      ],
      "execution_count": null,
      "outputs": []
    },
    {
      "cell_type": "code",
      "metadata": {
        "id": "J-ECHpC-DgvB"
      },
      "source": [
        "from sklearn.cluster import AgglomerativeClustering\n",
        "\n",
        "Mycluster = AgglomerativeClustering(n_clusters=7, affinity='euclidean', linkage='ward')  \n",
        "Agg=Mycluster.fit_predict(AMvectors)"
      ],
      "execution_count": null,
      "outputs": []
    },
    {
      "cell_type": "markdown",
      "metadata": {
        "id": "qkWUPTVzLUkP"
      },
      "source": [
        "# Hierarchial clustering"
      ]
    },
    {
      "cell_type": "code",
      "metadata": {
        "id": "De2YHIA6RbHx"
      },
      "source": [
        "\n",
        "from scipy.cluster.hierarchy import ward, dendrogram\n",
        "from sklearn.metrics.pairwise import cosine_similarity\n",
        "\n",
        "def ward_hierarchical_clustering(feature_matrix):\n",
        "    cosine_distance = 1 - cosine_similarity(feature_matrix)\n",
        "    linkage_matrix = ward(cosine_distance)\n",
        "    return linkage_matrix"
      ],
      "execution_count": 67,
      "outputs": []
    },
    {
      "cell_type": "code",
      "metadata": {
        "id": "BRTLWzsi9Fb0"
      },
      "source": [
        "linkage_matrix = ward_hierarchical_clustering(tfidf_vect)\n",
        "plot_hierarchical_clusters(linkage_matrix,\n",
        "                           p=100,\n",
        "                           data=df,\n",
        "                           figure_size=(10, 12))"
      ],
      "execution_count": null,
      "outputs": []
    },
    {
      "cell_type": "code",
      "metadata": {
        "id": "yOUhDM9LO-7g"
      },
      "source": [
        ""
      ],
      "execution_count": null,
      "outputs": []
    }
  ]
}