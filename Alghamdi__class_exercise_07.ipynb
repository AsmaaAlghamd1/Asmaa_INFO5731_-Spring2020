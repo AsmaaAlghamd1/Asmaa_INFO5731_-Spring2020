{
  "nbformat": 4,
  "nbformat_minor": 0,
  "metadata": {
    "kernelspec": {
      "display_name": "Python 3",
      "language": "python",
      "name": "python3"
    },
    "language_info": {
      "codemirror_mode": {
        "name": "ipython",
        "version": 3
      },
      "file_extension": ".py",
      "mimetype": "text/x-python",
      "name": "python",
      "nbconvert_exporter": "python",
      "pygments_lexer": "ipython3",
      "version": "3.8.5"
    },
    "colab": {
      "name": "Alghamdi__class_exercise_07.ipynb",
      "provenance": [],
      "collapsed_sections": [],
      "include_colab_link": true
    }
  },
  "cells": [
    {
      "cell_type": "markdown",
      "metadata": {
        "id": "view-in-github",
        "colab_type": "text"
      },
      "source": [
        "<a href=\"https://colab.research.google.com/github/AsmaaAlghamd1/Asmaa_INFO5731_-Spring2021/blob/main/Alghamdi__class_exercise_07.ipynb\" target=\"_parent\"><img src=\"https://colab.research.google.com/assets/colab-badge.svg\" alt=\"Open In Colab\"/></a>"
      ]
    },
    {
      "cell_type": "markdown",
      "metadata": {
        "id": "x_PKK2esWcCU"
      },
      "source": [
        "# **The seventh in-class-exercise (20 points in total, 3/16/2021)**"
      ]
    },
    {
      "cell_type": "markdown",
      "metadata": {
        "id": "5NG6PeNqWcCW"
      },
      "source": [
        "Question description: In the last in-class-exercise (exercise-06), you collected the titles of 100 articles about data science, natural language processing, and machine learning. The 100 article titles will be used as the text corpus of this exercise. Perform the following tasks:"
      ]
    },
    {
      "cell_type": "markdown",
      "metadata": {
        "id": "5JzE3ZBuWcCX"
      },
      "source": [
        "## (1) (8 points) Generate K topics by using LDA, the number of topics K should be decided by the coherence score, then summarize what are the topics. You may refer the code here: \n",
        "\n",
        "https://www.machinelearningplus.com/nlp/topic-modeling-gensim-python/"
      ]
    },
    {
      "cell_type": "code",
      "metadata": {
        "colab": {
          "base_uri": "https://localhost:8080/"
        },
        "id": "aeg-G-qdE7qt",
        "outputId": "ef933097-1974-4d01-8a43-59f2419d8cc1"
      },
      "source": [
        "!pip install pyLDAvis\n",
        "!pip install spacy\n",
        "!pip install --upgrade gensim"
      ],
      "execution_count": null,
      "outputs": [
        {
          "output_type": "stream",
          "text": [
            "Collecting pyLDAvis\n",
            "\u001b[?25l  Downloading https://files.pythonhosted.org/packages/24/38/6d81eff34c84c9158d3b7c846bff978ac88b0c2665548941946d3d591158/pyLDAvis-3.2.2.tar.gz (1.7MB)\n",
            "\u001b[K     |████████████████████████████████| 1.7MB 5.3MB/s \n",
            "\u001b[?25hRequirement already satisfied: wheel>=0.23.0 in /usr/local/lib/python3.7/dist-packages (from pyLDAvis) (0.36.2)\n",
            "Requirement already satisfied: numpy>=1.9.2 in /usr/local/lib/python3.7/dist-packages (from pyLDAvis) (1.19.5)\n",
            "Requirement already satisfied: scipy>=0.18.0 in /usr/local/lib/python3.7/dist-packages (from pyLDAvis) (1.4.1)\n",
            "Requirement already satisfied: joblib>=0.8.4 in /usr/local/lib/python3.7/dist-packages (from pyLDAvis) (1.0.1)\n",
            "Requirement already satisfied: jinja2>=2.7.2 in /usr/local/lib/python3.7/dist-packages (from pyLDAvis) (2.11.3)\n",
            "Requirement already satisfied: numexpr in /usr/local/lib/python3.7/dist-packages (from pyLDAvis) (2.7.3)\n",
            "Requirement already satisfied: future in /usr/local/lib/python3.7/dist-packages (from pyLDAvis) (0.16.0)\n",
            "Collecting funcy\n",
            "  Downloading https://files.pythonhosted.org/packages/66/89/479de0afbbfb98d1c4b887936808764627300208bb771fcd823403645a36/funcy-1.15-py2.py3-none-any.whl\n",
            "Requirement already satisfied: pandas>=0.17.0 in /usr/local/lib/python3.7/dist-packages (from pyLDAvis) (1.1.5)\n",
            "Requirement already satisfied: MarkupSafe>=0.23 in /usr/local/lib/python3.7/dist-packages (from jinja2>=2.7.2->pyLDAvis) (1.1.1)\n",
            "Requirement already satisfied: pytz>=2017.2 in /usr/local/lib/python3.7/dist-packages (from pandas>=0.17.0->pyLDAvis) (2018.9)\n",
            "Requirement already satisfied: python-dateutil>=2.7.3 in /usr/local/lib/python3.7/dist-packages (from pandas>=0.17.0->pyLDAvis) (2.8.1)\n",
            "Requirement already satisfied: six>=1.5 in /usr/local/lib/python3.7/dist-packages (from python-dateutil>=2.7.3->pandas>=0.17.0->pyLDAvis) (1.15.0)\n",
            "Building wheels for collected packages: pyLDAvis\n",
            "  Building wheel for pyLDAvis (setup.py) ... \u001b[?25l\u001b[?25hdone\n",
            "  Created wheel for pyLDAvis: filename=pyLDAvis-3.2.2-py2.py3-none-any.whl size=135593 sha256=2bc2c9a3cb9118707d0c4b1a63afac71060768d451654c5dc1f6cd59df456d74\n",
            "  Stored in directory: /root/.cache/pip/wheels/74/df/b6/97234c8446a43be05c9a8687ee0db1f1b5ade5f27729187eae\n",
            "Successfully built pyLDAvis\n",
            "Installing collected packages: funcy, pyLDAvis\n",
            "Successfully installed funcy-1.15 pyLDAvis-3.2.2\n",
            "Requirement already satisfied: spacy in /usr/local/lib/python3.7/dist-packages (2.2.4)\n",
            "Requirement already satisfied: blis<0.5.0,>=0.4.0 in /usr/local/lib/python3.7/dist-packages (from spacy) (0.4.1)\n",
            "Requirement already satisfied: catalogue<1.1.0,>=0.0.7 in /usr/local/lib/python3.7/dist-packages (from spacy) (1.0.0)\n",
            "Requirement already satisfied: preshed<3.1.0,>=3.0.2 in /usr/local/lib/python3.7/dist-packages (from spacy) (3.0.5)\n",
            "Requirement already satisfied: requests<3.0.0,>=2.13.0 in /usr/local/lib/python3.7/dist-packages (from spacy) (2.23.0)\n",
            "Requirement already satisfied: numpy>=1.15.0 in /usr/local/lib/python3.7/dist-packages (from spacy) (1.19.5)\n",
            "Requirement already satisfied: thinc==7.4.0 in /usr/local/lib/python3.7/dist-packages (from spacy) (7.4.0)\n",
            "Requirement already satisfied: wasabi<1.1.0,>=0.4.0 in /usr/local/lib/python3.7/dist-packages (from spacy) (0.8.2)\n",
            "Requirement already satisfied: plac<1.2.0,>=0.9.6 in /usr/local/lib/python3.7/dist-packages (from spacy) (1.1.3)\n",
            "Requirement already satisfied: tqdm<5.0.0,>=4.38.0 in /usr/local/lib/python3.7/dist-packages (from spacy) (4.41.1)\n",
            "Requirement already satisfied: setuptools in /usr/local/lib/python3.7/dist-packages (from spacy) (54.1.2)\n",
            "Requirement already satisfied: cymem<2.1.0,>=2.0.2 in /usr/local/lib/python3.7/dist-packages (from spacy) (2.0.5)\n",
            "Requirement already satisfied: srsly<1.1.0,>=1.0.2 in /usr/local/lib/python3.7/dist-packages (from spacy) (1.0.5)\n",
            "Requirement already satisfied: murmurhash<1.1.0,>=0.28.0 in /usr/local/lib/python3.7/dist-packages (from spacy) (1.0.5)\n",
            "Requirement already satisfied: importlib-metadata>=0.20; python_version < \"3.8\" in /usr/local/lib/python3.7/dist-packages (from catalogue<1.1.0,>=0.0.7->spacy) (3.7.2)\n",
            "Requirement already satisfied: idna<3,>=2.5 in /usr/local/lib/python3.7/dist-packages (from requests<3.0.0,>=2.13.0->spacy) (2.10)\n",
            "Requirement already satisfied: certifi>=2017.4.17 in /usr/local/lib/python3.7/dist-packages (from requests<3.0.0,>=2.13.0->spacy) (2020.12.5)\n",
            "Requirement already satisfied: urllib3!=1.25.0,!=1.25.1,<1.26,>=1.21.1 in /usr/local/lib/python3.7/dist-packages (from requests<3.0.0,>=2.13.0->spacy) (1.24.3)\n",
            "Requirement already satisfied: chardet<4,>=3.0.2 in /usr/local/lib/python3.7/dist-packages (from requests<3.0.0,>=2.13.0->spacy) (3.0.4)\n",
            "Requirement already satisfied: zipp>=0.5 in /usr/local/lib/python3.7/dist-packages (from importlib-metadata>=0.20; python_version < \"3.8\"->catalogue<1.1.0,>=0.0.7->spacy) (3.4.1)\n",
            "Requirement already satisfied: typing-extensions>=3.6.4; python_version < \"3.8\" in /usr/local/lib/python3.7/dist-packages (from importlib-metadata>=0.20; python_version < \"3.8\"->catalogue<1.1.0,>=0.0.7->spacy) (3.7.4.3)\n",
            "Collecting gensim\n",
            "\u001b[?25l  Downloading https://files.pythonhosted.org/packages/5c/4e/afe2315e08a38967f8a3036bbe7e38b428e9b7a90e823a83d0d49df1adf5/gensim-3.8.3-cp37-cp37m-manylinux1_x86_64.whl (24.2MB)\n",
            "\u001b[K     |████████████████████████████████| 24.2MB 52.8MB/s \n",
            "\u001b[?25hRequirement already satisfied, skipping upgrade: scipy>=0.18.1 in /usr/local/lib/python3.7/dist-packages (from gensim) (1.4.1)\n",
            "Requirement already satisfied, skipping upgrade: numpy>=1.11.3 in /usr/local/lib/python3.7/dist-packages (from gensim) (1.19.5)\n",
            "Requirement already satisfied, skipping upgrade: smart-open>=1.8.1 in /usr/local/lib/python3.7/dist-packages (from gensim) (4.2.0)\n",
            "Requirement already satisfied, skipping upgrade: six>=1.5.0 in /usr/local/lib/python3.7/dist-packages (from gensim) (1.15.0)\n",
            "Installing collected packages: gensim\n",
            "  Found existing installation: gensim 3.6.0\n",
            "    Uninstalling gensim-3.6.0:\n",
            "      Successfully uninstalled gensim-3.6.0\n",
            "Successfully installed gensim-3.8.3\n"
          ],
          "name": "stdout"
        }
      ]
    },
    {
      "cell_type": "code",
      "metadata": {
        "colab": {
          "base_uri": "https://localhost:8080/"
        },
        "id": "vdupUW2_FSLk",
        "outputId": "9918818d-4ba7-432f-e6dc-13b06791e3d1"
      },
      "source": [
        "import nltk; \n",
        "nltk.download('stopwords')\n",
        "import re\n",
        "import numpy as np\n",
        "import pandas as pd\n",
        "from pprint import pprint\n",
        "import gensim \n",
        "import gensim.corpora as corpora\n",
        "from gensim.utils import simple_preprocess\n",
        "from gensim.models import CoherenceModel\n",
        "import spacy\n",
        "import pyLDAvis\n",
        "import pyLDAvis.gensim  \n",
        "import matplotlib.pyplot as plt\n",
        "%matplotlib inline\n",
        "import logging"
      ],
      "execution_count": null,
      "outputs": [
        {
          "output_type": "stream",
          "text": [
            "[nltk_data] Downloading package stopwords to /root/nltk_data...\n",
            "[nltk_data]   Unzipping corpora/stopwords.zip.\n"
          ],
          "name": "stdout"
        },
        {
          "output_type": "stream",
          "text": [
            "/usr/local/lib/python3.7/dist-packages/past/types/oldstr.py:5: DeprecationWarning: Using or importing the ABCs from 'collections' instead of from 'collections.abc' is deprecated since Python 3.3,and in 3.9 it will stop working\n",
            "  from collections import Iterable\n",
            "/usr/local/lib/python3.7/dist-packages/past/builtins/misc.py:4: DeprecationWarning: Using or importing the ABCs from 'collections' instead of from 'collections.abc' is deprecated since Python 3.3,and in 3.9 it will stop working\n",
            "  from collections import Mapping\n"
          ],
          "name": "stderr"
        }
      ]
    },
    {
      "cell_type": "code",
      "metadata": {
        "colab": {
          "base_uri": "https://localhost:8080/",
          "height": 419
        },
        "id": "dgWM0A9lFk4-",
        "outputId": "cf4427fb-8b2c-4a0c-e127-4ddaa213dc19"
      },
      "source": [
        "logging.basicConfig(format='%(asctime)s : %(levelname)s : %(message)s', level=logging.ERROR)\n",
        "import warnings\n",
        "warnings.filterwarnings(\"ignore\",category=DeprecationWarning)\n",
        "\n",
        "from nltk.corpus import stopwords\n",
        "stop_words = stopwords.words('english')\n",
        "stop_words.extend(['from', 'subject', 're', 'edu', 'use'])\n",
        "\n",
        "\n",
        "import pandas as pd\n",
        "df = pd.read_csv(\"/content/Title_list.csv\")\n",
        "df.head(100)"
      ],
      "execution_count": null,
      "outputs": [
        {
          "output_type": "execute_result",
          "data": {
            "text/html": [
              "<div>\n",
              "<style scoped>\n",
              "    .dataframe tbody tr th:only-of-type {\n",
              "        vertical-align: middle;\n",
              "    }\n",
              "\n",
              "    .dataframe tbody tr th {\n",
              "        vertical-align: top;\n",
              "    }\n",
              "\n",
              "    .dataframe thead th {\n",
              "        text-align: right;\n",
              "    }\n",
              "</style>\n",
              "<table border=\"1\" class=\"dataframe\">\n",
              "  <thead>\n",
              "    <tr style=\"text-align: right;\">\n",
              "      <th></th>\n",
              "      <th>Title</th>\n",
              "    </tr>\n",
              "  </thead>\n",
              "  <tbody>\n",
              "    <tr>\n",
              "      <th>0</th>\n",
              "      <td>[PDF][PDF] How'big data'is different</td>\n",
              "    </tr>\n",
              "    <tr>\n",
              "      <th>1</th>\n",
              "      <td>Challenges and opportunities with big data</td>\n",
              "    </tr>\n",
              "    <tr>\n",
              "      <th>2</th>\n",
              "      <td>Big data: A review</td>\n",
              "    </tr>\n",
              "    <tr>\n",
              "      <th>3</th>\n",
              "      <td>Big data and management</td>\n",
              "    </tr>\n",
              "    <tr>\n",
              "      <th>4</th>\n",
              "      <td>From databases to big data</td>\n",
              "    </tr>\n",
              "    <tr>\n",
              "      <th>...</th>\n",
              "      <td>...</td>\n",
              "    </tr>\n",
              "    <tr>\n",
              "      <th>95</th>\n",
              "      <td>[HTML][HTML] The big challenges of big data</td>\n",
              "    </tr>\n",
              "    <tr>\n",
              "      <th>96</th>\n",
              "      <td>[PDF][PDF] Big data: the management revolution</td>\n",
              "    </tr>\n",
              "    <tr>\n",
              "      <th>97</th>\n",
              "      <td>[PDF][PDF] Big data in big companies</td>\n",
              "    </tr>\n",
              "    <tr>\n",
              "      <th>98</th>\n",
              "      <td>Challenges of big data analysis</td>\n",
              "    </tr>\n",
              "    <tr>\n",
              "      <th>99</th>\n",
              "      <td>Data mining with big data</td>\n",
              "    </tr>\n",
              "  </tbody>\n",
              "</table>\n",
              "<p>100 rows × 1 columns</p>\n",
              "</div>"
            ],
            "text/plain": [
              "                                             Title\n",
              "0             [PDF][PDF] How'big data'is different\n",
              "1       Challenges and opportunities with big data\n",
              "2                               Big data: A review\n",
              "3                          Big data and management\n",
              "4                       From databases to big data\n",
              "..                                             ...\n",
              "95     [HTML][HTML] The big challenges of big data\n",
              "96  [PDF][PDF] Big data: the management revolution\n",
              "97            [PDF][PDF] Big data in big companies\n",
              "98                 Challenges of big data analysis\n",
              "99                       Data mining with big data\n",
              "\n",
              "[100 rows x 1 columns]"
            ]
          },
          "metadata": {
            "tags": []
          },
          "execution_count": 68
        }
      ]
    },
    {
      "cell_type": "code",
      "metadata": {
        "colab": {
          "base_uri": "https://localhost:8080/"
        },
        "id": "O5xWS6t3Fk-J",
        "outputId": "efc0b74e-3c3e-45d6-e9b5-cb9e5e352831"
      },
      "source": [
        "df[\"Title\"]=df[\"Title\"].str.lower()\n",
        "data = df[\"Title\"].values.tolist() \n",
        "data = [re.sub(\" $\",\"\",sent) for sent in data]\n",
        "data = [re.sub('\\S*@\\S*\\s?', '', sent) for sent in data]\n",
        "data = [re.sub('\\s+', ' ', sent) for sent in data]\n",
        "data = [re.sub(\"\\'\", \"\", sent) for sent in data]\n",
        "print(data[:10])"
      ],
      "execution_count": null,
      "outputs": [
        {
          "output_type": "stream",
          "text": [
            "['[pdf][pdf] howbig datais different', 'challenges and opportunities with big data', 'big data: a review', 'big data and management', 'from databases to big data', '[html][html] the big challenges of big data', '[pdf][pdf] big data: the management revolution', '[pdf][pdf] big data in big companies', 'challenges of big data analysis', 'data mining with big data']\n"
          ],
          "name": "stdout"
        }
      ]
    },
    {
      "cell_type": "code",
      "metadata": {
        "colab": {
          "base_uri": "https://localhost:8080/"
        },
        "id": "vFZacDnJG5NO",
        "outputId": "1326c0a1-8fe1-4be0-fdba-9ed905f8cddf"
      },
      "source": [
        "def sent_to_words(sentences):\n",
        "    for sentence in sentences:\n",
        "        yield(gensim.utils.simple_preprocess(str(sentence), deacc=True))  # deacc=True removes punctuations\n",
        "\n",
        "data_words = list(sent_to_words(data))\n",
        "print(data_words[:10])"
      ],
      "execution_count": null,
      "outputs": [
        {
          "output_type": "stream",
          "text": [
            "[['pdf', 'pdf', 'howbig', 'datais', 'different'], ['challenges', 'and', 'opportunities', 'with', 'big', 'data'], ['big', 'data', 'review'], ['big', 'data', 'and', 'management'], ['from', 'databases', 'to', 'big', 'data'], ['html', 'html', 'the', 'big', 'challenges', 'of', 'big', 'data'], ['pdf', 'pdf', 'big', 'data', 'the', 'management', 'revolution'], ['pdf', 'pdf', 'big', 'data', 'in', 'big', 'companies'], ['challenges', 'of', 'big', 'data', 'analysis'], ['data', 'mining', 'with', 'big', 'data']]\n"
          ],
          "name": "stdout"
        }
      ]
    },
    {
      "cell_type": "code",
      "metadata": {
        "colab": {
          "base_uri": "https://localhost:8080/"
        },
        "id": "Ccd6CfYZG5Xg",
        "outputId": "ad72274d-11fb-44fd-e363-9f33376e2b04"
      },
      "source": [
        "# Build the bigram and trigram models\n",
        "bigram = gensim.models.Phrases(data_words, min_count=5, threshold=100) \n",
        "trigram = gensim.models.Phrases(bigram[data_words], threshold=100)  \n",
        "\n",
        "\n",
        "bigram_mod = gensim.models.phrases.Phraser(bigram)\n",
        "trigram_mod = gensim.models.phrases.Phraser(trigram)\n",
        "\n",
        "\n",
        "print(trigram_mod[bigram_mod[data_words[0]]])"
      ],
      "execution_count": null,
      "outputs": [
        {
          "output_type": "stream",
          "text": [
            "['pdf', 'pdf', 'howbig', 'datais', 'different']\n"
          ],
          "name": "stdout"
        }
      ]
    },
    {
      "cell_type": "code",
      "metadata": {
        "id": "tVG860NbG-oz"
      },
      "source": [
        "\n",
        "def remove_stopwords(texts):\n",
        "    return [[word for word in simple_preprocess(str(doc)) if word not in stop_words] for doc in texts]\n",
        "def make_bigrams(texts):\n",
        "    return [bigram_mod[doc] for doc in texts]\n",
        "def make_trigrams(texts):\n",
        "    return [trigram_mod[bigram_mod[doc]] for doc in texts]\n",
        "def lemmatization(texts, allowed_postags=['NOUN', 'ADJ', 'VERB', 'ADV']):\n",
        "    \"\"\"https://spacy.io/api/annotation\"\"\"\n",
        "    texts_out = []\n",
        "    for sent in texts:\n",
        "        doc = nlp(\" \".join(sent)) \n",
        "        texts_out.append([token.lemma_ for token in doc if token.pos_ in allowed_postags])\n",
        "    return texts_out"
      ],
      "execution_count": null,
      "outputs": []
    },
    {
      "cell_type": "code",
      "metadata": {
        "colab": {
          "base_uri": "https://localhost:8080/"
        },
        "id": "FkIH4dodG-sV",
        "outputId": "2a8bed26-b13c-44ce-fcd5-f9793fd0dcde"
      },
      "source": [
        "# Remove Stop Words and form Bigrams\n",
        "data_words_nostops = remove_stopwords(data_words)\n",
        "data_words_bigrams = make_bigrams(data_words_nostops)\n",
        "\n",
        "# Initialize spacy 'en' model, keeping only tagger component (for efficiency)\n",
        "nlp = spacy.load('en', disable=['parser', 'ner'])\n",
        "\n",
        "# Lemmatization keeping only NOUN,ADJ,VERB,ADV\n",
        "data_lemmatized = lemmatization(data_words_bigrams, allowed_postags=['NOUN', 'ADJ', 'VERB', 'ADV'])\n",
        "print(data_lemmatized[:1])"
      ],
      "execution_count": null,
      "outputs": [
        {
          "output_type": "stream",
          "text": [
            "[['different']]\n"
          ],
          "name": "stdout"
        }
      ]
    },
    {
      "cell_type": "code",
      "metadata": {
        "colab": {
          "base_uri": "https://localhost:8080/"
        },
        "id": "ZmjImliqHiMF",
        "outputId": "b02c2f55-825b-45e4-bb1b-f5ff5a5039d4"
      },
      "source": [
        "# Create Dictionary, corpus, tdf and view\n",
        "id2word = corpora.Dictionary(data_lemmatized)\n",
        "texts = data_lemmatized\n",
        "corpus = [id2word.doc2bow(text) for text in texts]\n",
        "print(corpus[:10])"
      ],
      "execution_count": null,
      "outputs": [
        {
          "output_type": "stream",
          "text": [
            "[[(0, 1)], [(1, 1), (2, 1), (3, 1), (4, 1)], [(1, 1), (5, 1)], [(1, 1), (6, 1)], [(1, 1), (3, 1), (7, 1)], [(1, 2), (2, 1), (3, 1)], [(8, 1)], [(1, 2), (3, 1), (9, 1)], [(1, 1), (2, 1), (3, 1), (10, 1)], [(1, 1), (3, 2), (11, 1)]]\n"
          ],
          "name": "stdout"
        }
      ]
    },
    {
      "cell_type": "code",
      "metadata": {
        "colab": {
          "base_uri": "https://localhost:8080/"
        },
        "id": "Fkr1fyhtHiRL",
        "outputId": "0e178aea-7731-4ef5-a764-6440e5d0618f"
      },
      "source": [
        "# Human readable format of corpus (term-frequency)\n",
        "[[(id2word[id], freq) for id, freq in cp] for cp in corpus]\n"
      ],
      "execution_count": null,
      "outputs": [
        {
          "output_type": "execute_result",
          "data": {
            "text/plain": [
              "[[('different', 1)],\n",
              " [('big', 1), ('challenge', 1), ('datum', 1), ('opportunitie', 1)],\n",
              " [('big', 1), ('review', 1)],\n",
              " [('big', 1), ('management', 1)],\n",
              " [('big', 1), ('datum', 1), ('database', 1)],\n",
              " [('big', 2), ('challenge', 1), ('datum', 1)],\n",
              " [('revolution', 1)],\n",
              " [('big', 2), ('datum', 1), ('company', 1)],\n",
              " [('big', 1), ('challenge', 1), ('datum', 1), ('analysis', 1)],\n",
              " [('big', 1), ('datum', 2), ('mine', 1)],\n",
              " [('different', 1)],\n",
              " [('big', 1), ('challenge', 1), ('datum', 1), ('opportunitie', 1)],\n",
              " [('big', 1), ('review', 1)],\n",
              " [('big', 1), ('management', 1)],\n",
              " [('big', 1), ('datum', 1), ('database', 1)],\n",
              " [('big', 2), ('challenge', 1), ('datum', 1)],\n",
              " [('revolution', 1)],\n",
              " [('big', 2), ('datum', 1), ('company', 1)],\n",
              " [('big', 1), ('challenge', 1), ('datum', 1), ('analysis', 1)],\n",
              " [('big', 1), ('datum', 2), ('mine', 1)],\n",
              " [('different', 1)],\n",
              " [('big', 1), ('challenge', 1), ('datum', 1), ('opportunitie', 1)],\n",
              " [('big', 1), ('review', 1)],\n",
              " [('big', 1), ('management', 1)],\n",
              " [('big', 1), ('datum', 1), ('database', 1)],\n",
              " [('big', 2), ('challenge', 1), ('datum', 1)],\n",
              " [('revolution', 1)],\n",
              " [('big', 2), ('datum', 1), ('company', 1)],\n",
              " [('big', 1), ('challenge', 1), ('datum', 1), ('analysis', 1)],\n",
              " [('big', 1), ('datum', 2), ('mine', 1)],\n",
              " [('different', 1)],\n",
              " [('big', 1), ('challenge', 1), ('datum', 1), ('opportunitie', 1)],\n",
              " [('big', 1), ('review', 1)],\n",
              " [('big', 1), ('management', 1)],\n",
              " [('big', 1), ('datum', 1), ('database', 1)],\n",
              " [('big', 2), ('challenge', 1), ('datum', 1)],\n",
              " [('revolution', 1)],\n",
              " [('big', 2), ('datum', 1), ('company', 1)],\n",
              " [('big', 1), ('challenge', 1), ('datum', 1), ('analysis', 1)],\n",
              " [('big', 1), ('datum', 2), ('mine', 1)],\n",
              " [('different', 1)],\n",
              " [('big', 1), ('challenge', 1), ('datum', 1), ('opportunitie', 1)],\n",
              " [('big', 1), ('review', 1)],\n",
              " [('big', 1), ('management', 1)],\n",
              " [('big', 1), ('datum', 1), ('database', 1)],\n",
              " [('big', 2), ('challenge', 1), ('datum', 1)],\n",
              " [('revolution', 1)],\n",
              " [('big', 2), ('datum', 1), ('company', 1)],\n",
              " [('big', 1), ('challenge', 1), ('datum', 1), ('analysis', 1)],\n",
              " [('big', 1), ('datum', 2), ('mine', 1)],\n",
              " [('different', 1)],\n",
              " [('big', 1), ('challenge', 1), ('datum', 1), ('opportunitie', 1)],\n",
              " [('big', 1), ('review', 1)],\n",
              " [('big', 1), ('management', 1)],\n",
              " [('big', 1), ('datum', 1), ('database', 1)],\n",
              " [('big', 2), ('challenge', 1), ('datum', 1)],\n",
              " [('revolution', 1)],\n",
              " [('big', 2), ('datum', 1), ('company', 1)],\n",
              " [('big', 1), ('challenge', 1), ('datum', 1), ('analysis', 1)],\n",
              " [('big', 1), ('datum', 2), ('mine', 1)],\n",
              " [('different', 1)],\n",
              " [('big', 1), ('challenge', 1), ('datum', 1), ('opportunitie', 1)],\n",
              " [('big', 1), ('review', 1)],\n",
              " [('big', 1), ('management', 1)],\n",
              " [('big', 1), ('datum', 1), ('database', 1)],\n",
              " [('big', 2), ('challenge', 1), ('datum', 1)],\n",
              " [('revolution', 1)],\n",
              " [('big', 2), ('datum', 1), ('company', 1)],\n",
              " [('big', 1), ('challenge', 1), ('datum', 1), ('analysis', 1)],\n",
              " [('big', 1), ('datum', 2), ('mine', 1)],\n",
              " [('different', 1)],\n",
              " [('big', 1), ('challenge', 1), ('datum', 1), ('opportunitie', 1)],\n",
              " [('big', 1), ('review', 1)],\n",
              " [('big', 1), ('management', 1)],\n",
              " [('big', 1), ('datum', 1), ('database', 1)],\n",
              " [('big', 2), ('challenge', 1), ('datum', 1)],\n",
              " [('revolution', 1)],\n",
              " [('big', 2), ('datum', 1), ('company', 1)],\n",
              " [('big', 1), ('challenge', 1), ('datum', 1), ('analysis', 1)],\n",
              " [('big', 1), ('datum', 2), ('mine', 1)],\n",
              " [('different', 1)],\n",
              " [('big', 1), ('challenge', 1), ('datum', 1), ('opportunitie', 1)],\n",
              " [('big', 1), ('review', 1)],\n",
              " [('big', 1), ('management', 1)],\n",
              " [('big', 1), ('datum', 1), ('database', 1)],\n",
              " [('big', 2), ('challenge', 1), ('datum', 1)],\n",
              " [('revolution', 1)],\n",
              " [('big', 2), ('datum', 1), ('company', 1)],\n",
              " [('big', 1), ('challenge', 1), ('datum', 1), ('analysis', 1)],\n",
              " [('big', 1), ('datum', 2), ('mine', 1)],\n",
              " [('different', 1)],\n",
              " [('big', 1), ('challenge', 1), ('datum', 1), ('opportunitie', 1)],\n",
              " [('big', 1), ('review', 1)],\n",
              " [('big', 1), ('management', 1)],\n",
              " [('big', 1), ('datum', 1), ('database', 1)],\n",
              " [('big', 2), ('challenge', 1), ('datum', 1)],\n",
              " [('revolution', 1)],\n",
              " [('big', 2), ('datum', 1), ('company', 1)],\n",
              " [('big', 1), ('challenge', 1), ('datum', 1), ('analysis', 1)],\n",
              " [('big', 1), ('datum', 2), ('mine', 1)]]"
            ]
          },
          "metadata": {
            "tags": []
          },
          "execution_count": 16
        }
      ]
    },
    {
      "cell_type": "code",
      "metadata": {
        "id": "X3fyzV09IL57"
      },
      "source": [
        "\n",
        "lda_model = gensim.models.ldamodel.LdaModel(corpus=corpus,\n",
        "                                           id2word=id2word,\n",
        "                                           num_topics=10, \n",
        "                                           random_state=100,\n",
        "                                           update_every=1,\n",
        "                                           chunksize=100,\n",
        "                                           passes=10,\n",
        "                                           alpha='auto',\n",
        "                                           per_word_topics=True)"
      ],
      "execution_count": null,
      "outputs": []
    },
    {
      "cell_type": "code",
      "metadata": {
        "colab": {
          "base_uri": "https://localhost:8080/"
        },
        "id": "7lHDtCvNIOXg",
        "outputId": "532ad319-d2b0-4ba7-b7a8-8b1802607fc1"
      },
      "source": [
        "\n",
        "pprint(lda_model.print_topics())\n",
        "doc_lda = lda_model[corpus]\n"
      ],
      "execution_count": null,
      "outputs": [
        {
          "output_type": "stream",
          "text": [
            "[(0,\n",
            "  '0.370*\"big\" + 0.248*\"datum\" + 0.247*\"challenge\" + 0.125*\"opportunitie\" + '\n",
            "  '0.001*\"revolution\" + 0.001*\"database\" + 0.001*\"analysis\" + '\n",
            "  '0.001*\"different\" + 0.001*\"review\" + 0.001*\"management\"'),\n",
            " (1,\n",
            "  '0.325*\"big\" + 0.322*\"datum\" + 0.315*\"database\" + 0.008*\"challenge\" + '\n",
            "  '0.005*\"analysis\" + 0.004*\"revolution\" + 0.004*\"company\" + 0.004*\"mine\" + '\n",
            "  '0.004*\"management\" + 0.004*\"different\"'),\n",
            " (2,\n",
            "  '0.106*\"datum\" + 0.099*\"big\" + 0.093*\"database\" + 0.083*\"different\" + '\n",
            "  '0.083*\"mine\" + 0.077*\"revolution\" + 0.077*\"challenge\" + 0.077*\"management\" '\n",
            "  '+ 0.077*\"review\" + 0.077*\"analysis\"'),\n",
            " (3,\n",
            "  '0.487*\"big\" + 0.245*\"datum\" + 0.244*\"company\" + 0.003*\"opportunitie\" + '\n",
            "  '0.003*\"challenge\" + 0.003*\"management\" + 0.003*\"mine\" + 0.003*\"review\" + '\n",
            "  '0.002*\"different\" + 0.002*\"revolution\"'),\n",
            " (4,\n",
            "  '0.245*\"datum\" + 0.245*\"big\" + 0.245*\"challenge\" + 0.245*\"analysis\" + '\n",
            "  '0.003*\"mine\" + 0.003*\"opportunitie\" + 0.002*\"revolution\" + '\n",
            "  '0.002*\"different\" + 0.002*\"review\" + 0.002*\"management\"'),\n",
            " (5,\n",
            "  '0.083*\"big\" + 0.083*\"datum\" + 0.083*\"revolution\" + 0.083*\"different\" + '\n",
            "  '0.083*\"challenge\" + 0.083*\"review\" + 0.083*\"database\" + 0.083*\"management\" '\n",
            "  '+ 0.083*\"analysis\" + 0.083*\"mine\"'),\n",
            " (6,\n",
            "  '0.488*\"big\" + 0.245*\"management\" + 0.245*\"review\" + 0.003*\"datum\" + '\n",
            "  '0.003*\"company\" + 0.003*\"different\" + 0.002*\"revolution\" + '\n",
            "  '0.002*\"challenge\" + 0.002*\"database\" + 0.002*\"mine\"'),\n",
            " (7,\n",
            "  '0.899*\"different\" + 0.010*\"big\" + 0.010*\"revolution\" + 0.010*\"management\" + '\n",
            "  '0.009*\"datum\" + 0.009*\"challenge\" + 0.009*\"review\" + 0.009*\"mine\" + '\n",
            "  '0.009*\"database\" + 0.009*\"opportunitie\"'),\n",
            " (8,\n",
            "  '0.488*\"datum\" + 0.245*\"big\" + 0.245*\"mine\" + 0.003*\"database\" + '\n",
            "  '0.002*\"revolution\" + 0.002*\"different\" + 0.002*\"challenge\" + '\n",
            "  '0.002*\"management\" + 0.002*\"review\" + 0.002*\"analysis\"'),\n",
            " (9,\n",
            "  '0.885*\"revolution\" + 0.015*\"big\" + 0.012*\"review\" + 0.011*\"datum\" + '\n",
            "  '0.011*\"different\" + 0.010*\"challenge\" + 0.010*\"analysis\" + '\n",
            "  '0.010*\"management\" + 0.010*\"database\" + 0.009*\"mine\"')]\n"
          ],
          "name": "stdout"
        }
      ]
    },
    {
      "cell_type": "code",
      "metadata": {
        "colab": {
          "base_uri": "https://localhost:8080/"
        },
        "id": "I0L5kg39OUC4",
        "outputId": "37db6988-a2e5-400c-bb03-1a2476f5c7cb"
      },
      "source": [
        "#perplexity and coherence\n",
        "print('\\nPerplexity: ', lda_model.log_perplexity(corpus))  # a measure of how good the model is. lower the better.\n",
        "coherence_model_lda = CoherenceModel(model=lda_model, texts=data_lemmatized, dictionary=id2word, coherence='c_v')\n",
        "coherence_lda = coherence_model_lda.get_coherence()\n",
        "print('\\nCoherence Score: ', coherence_lda)"
      ],
      "execution_count": null,
      "outputs": [
        {
          "output_type": "stream",
          "text": [
            "\n",
            "Perplexity:  -2.3506536249456733\n",
            "\n",
            "Coherence Score:  0.6358211005797478\n"
          ],
          "name": "stdout"
        }
      ]
    },
    {
      "cell_type": "code",
      "metadata": {
        "colab": {
          "base_uri": "https://localhost:8080/",
          "height": 881
        },
        "id": "uCbOB5VJQVfx",
        "outputId": "26b1f2df-f379-4a51-d363-bb47fd9a4450"
      },
      "source": [
        "# Visualize the topics\n",
        "pyLDAvis.enable_notebook()\n",
        "vis = pyLDAvis.gensim.prepare(lda_model, corpus, id2word)\n",
        "vis"
      ],
      "execution_count": null,
      "outputs": [
        {
          "output_type": "execute_result",
          "data": {
            "text/html": [
              "\n",
              "<link rel=\"stylesheet\" type=\"text/css\" href=\"https://cdn.jsdelivr.net/gh/bmabey/pyLDAvis@3.2.2/pyLDAvis/js/ldavis.v1.0.0.css\">\n",
              "\n",
              "\n",
              "<div id=\"ldavis_el581396469854444328976788796\"></div>\n",
              "<script type=\"text/javascript\">\n",
              "\n",
              "var ldavis_el581396469854444328976788796_data = {\"mdsDat\": {\"x\": [0.16823200212770098, 0.17305775910348692, 0.16526727805288152, 0.13470268670425192, 0.06995484712220357, 0.1496476150202679, -0.3177874222129643, -0.3487399578400473, -0.0876488763092656, -0.1066859317685158], \"y\": [0.004024203925275384, 0.0058035584434544315, 0.008178727609510644, 0.0015280092019802746, -0.00421563579117055, 0.003933733623469408, -0.2910942245040562, 0.27699466736542216, 0.000559179838419809, -0.005712219712305801], \"topics\": [1, 2, 3, 4, 5, 6, 7, 8, 9, 10], \"cluster\": [1, 1, 1, 1, 1, 1, 1, 1, 1, 1], \"Freq\": [25.91818656524057, 13.626161325093628, 13.52212063007917, 13.49341577344334, 12.624688970276408, 10.472329656159816, 3.9105809238166853, 3.7862593752409692, 1.3413278293917874, 1.3049289512576272]}, \"tinfo\": {\"Term\": [\"revolution\", \"different\", \"challenge\", \"datum\", \"database\", \"mine\", \"company\", \"analysis\", \"management\", \"review\", \"opportunitie\", \"big\", \"opportunitie\", \"challenge\", \"big\", \"datum\", \"analysis\", \"database\", \"management\", \"review\", \"revolution\", \"company\", \"mine\", \"different\", \"company\", \"big\", \"datum\", \"opportunitie\", \"management\", \"review\", \"mine\", \"analysis\", \"database\", \"different\", \"revolution\", \"challenge\", \"mine\", \"datum\", \"big\", \"database\", \"management\", \"review\", \"opportunitie\", \"analysis\", \"company\", \"different\", \"revolution\", \"challenge\", \"analysis\", \"challenge\", \"datum\", \"big\", \"mine\", \"opportunitie\", \"management\", \"review\", \"database\", \"company\", \"different\", \"revolution\", \"management\", \"review\", \"big\", \"company\", \"different\", \"opportunitie\", \"analysis\", \"database\", \"mine\", \"revolution\", \"challenge\", \"datum\", \"database\", \"datum\", \"big\", \"analysis\", \"management\", \"revolution\", \"company\", \"mine\", \"review\", \"different\", \"opportunitie\", \"challenge\", \"revolution\", \"review\", \"different\", \"analysis\", \"management\", \"database\", \"opportunitie\", \"company\", \"mine\", \"challenge\", \"datum\", \"big\", \"different\", \"management\", \"review\", \"revolution\", \"opportunitie\", \"analysis\", \"database\", \"company\", \"mine\", \"challenge\", \"datum\", \"big\", \"database\", \"mine\", \"management\", \"review\", \"different\", \"opportunitie\", \"analysis\", \"company\", \"revolution\", \"challenge\", \"datum\", \"big\", \"management\", \"review\", \"opportunitie\", \"analysis\", \"database\", \"company\", \"mine\", \"different\", \"revolution\", \"challenge\", \"datum\", \"big\"], \"Freq\": [11.0, 11.0, 29.0, 67.0, 10.0, 10.0, 10.0, 10.0, 10.0, 10.0, 10.0, 94.0, 9.360558114682314, 18.596871048835315, 27.831178041345435, 18.60433032931638, 0.10137608253576838, 0.10137634503860063, 0.09313455236471141, 0.09313466611593872, 0.1013764325395447, 0.09313386985734758, 0.09313378235640349, 0.09313532237301933, 9.632567415059619, 19.236987468627294, 9.68328471852023, 0.12959001885473595, 0.11264841200208295, 0.10417803179897037, 0.10417835381663315, 0.09570827723017404, 0.09570827723017404, 0.09571080736895299, 0.09570999772454372, 0.1295895404284941, 9.606242403319284, 19.12530883540364, 9.614360588215972, 0.10398506369236753, 0.09553139668931018, 0.09553115017241295, 0.0955305932268303, 0.09553063887810757, 0.09553057496631939, 0.0955332044798899, 0.09553359708087439, 0.09553208145846917, 9.578792408680263, 9.58371315511137, 9.599991443785052, 9.591089318442748, 0.10396247582980929, 0.1002917959328491, 0.09551032742768946, 0.09551068275176297, 0.09550994477099489, 0.09550986277313177, 0.09551196738495187, 0.09551242292863588, 8.956755166496155, 8.956754620940849, 17.8562750347132, 0.1049299765100257, 0.09704013009953812, 0.08915007058150907, 0.08915021549463727, 0.08915050532089366, 0.08915038598067043, 0.08915303703848627, 0.08915117021642303, 0.10493434095247492, 9.576353622242637, 9.7662341020543, 9.880391196498728, 0.13742005139312846, 0.11212572773207209, 0.12055624500716824, 0.11212597521740851, 0.11212589036529316, 0.10369528116707206, 0.11212441252428425, 0.10369505489476448, 0.23290774300514308, 10.031419608507395, 0.13507464646144837, 0.1262408118977795, 0.11741679984095454, 0.10858815113842586, 0.10858778147418979, 0.09975890041128416, 0.09975883704027226, 0.09975900602963732, 0.11741842636359323, 0.12625248272580375, 0.17040948830986402, 9.872192404585622, 0.10705261717440388, 0.09834928629996408, 0.10705304666906161, 0.09834864205797748, 0.09834863183191421, 0.09834870341435717, 0.09834840685852207, 0.09834874431861028, 0.09834987941163427, 0.09835165874664484, 0.10705966293200321, 0.35991363350156813, 0.32393425406172804, 0.2975996763493659, 0.297598806900008, 0.3239350945294407, 0.2975965753133226, 0.2975972418911637, 0.29759674920319423, 0.2976050669353851, 0.29759979227594696, 0.4126082058291891, 0.3862653683479267, 0.3153544739916765, 0.3153559965317335, 0.3153534025745993, 0.3153534589649718, 0.31535472774835266, 0.3153525003286396, 0.31535343076978556, 0.31536093068932575, 0.315360958884512, 0.31535703975362445, 0.3153627915716177, 0.31537418242685916], \"Total\": [11.0, 11.0, 29.0, 67.0, 10.0, 10.0, 10.0, 10.0, 10.0, 10.0, 10.0, 94.0, 10.689873168530188, 29.556489876860013, 94.98939034986003, 67.83665890890533, 10.926693806741085, 10.944288604434137, 10.294300501365893, 10.295183169140161, 11.349280413315606, 10.944854167814478, 10.946188726847854, 11.226785085932805, 10.944854167814478, 94.98939034986003, 67.83665890890533, 10.689873168530188, 10.294300501365893, 10.295183169140161, 10.946188726847854, 10.926693806741085, 10.944288604434137, 11.226785085932805, 11.349280413315606, 29.556489876860013, 10.946188726847854, 67.83665890890533, 94.98939034986003, 10.944288604434137, 10.294300501365893, 10.295183169140161, 10.689873168530188, 10.926693806741085, 10.944854167814478, 11.226785085932805, 11.349280413315606, 29.556489876860013, 10.926693806741085, 29.556489876860013, 67.83665890890533, 94.98939034986003, 10.946188726847854, 10.689873168530188, 10.294300501365893, 10.295183169140161, 10.944288604434137, 10.944854167814478, 11.226785085932805, 11.349280413315606, 10.294300501365893, 10.295183169140161, 94.98939034986003, 10.944854167814478, 11.226785085932805, 10.689873168530188, 10.926693806741085, 10.944288604434137, 10.946188726847854, 11.349280413315606, 29.556489876860013, 67.83665890890533, 10.944288604434137, 67.83665890890533, 94.98939034986003, 10.926693806741085, 10.294300501365893, 11.349280413315606, 10.944854167814478, 10.946188726847854, 10.295183169140161, 11.226785085932805, 10.689873168530188, 29.556489876860013, 11.349280413315606, 10.295183169140161, 11.226785085932805, 10.926693806741085, 10.294300501365893, 10.944288604434137, 10.689873168530188, 10.944854167814478, 10.946188726847854, 29.556489876860013, 67.83665890890533, 94.98939034986003, 11.226785085932805, 10.294300501365893, 10.295183169140161, 11.349280413315606, 10.689873168530188, 10.926693806741085, 10.944288604434137, 10.944854167814478, 10.946188726847854, 29.556489876860013, 67.83665890890533, 94.98939034986003, 10.944288604434137, 10.946188726847854, 10.294300501365893, 10.295183169140161, 11.226785085932805, 10.689873168530188, 10.926693806741085, 10.944854167814478, 11.349280413315606, 29.556489876860013, 67.83665890890533, 94.98939034986003, 10.294300501365893, 10.295183169140161, 10.689873168530188, 10.926693806741085, 10.944288604434137, 10.944854167814478, 10.946188726847854, 11.226785085932805, 11.349280413315606, 29.556489876860013, 67.83665890890533, 94.98939034986003], \"Category\": [\"Default\", \"Default\", \"Default\", \"Default\", \"Default\", \"Default\", \"Default\", \"Default\", \"Default\", \"Default\", \"Default\", \"Default\", \"Topic1\", \"Topic1\", \"Topic1\", \"Topic1\", \"Topic1\", \"Topic1\", \"Topic1\", \"Topic1\", \"Topic1\", \"Topic1\", \"Topic1\", \"Topic1\", \"Topic2\", \"Topic2\", \"Topic2\", \"Topic2\", \"Topic2\", \"Topic2\", \"Topic2\", \"Topic2\", \"Topic2\", \"Topic2\", \"Topic2\", \"Topic2\", \"Topic3\", \"Topic3\", \"Topic3\", \"Topic3\", \"Topic3\", \"Topic3\", \"Topic3\", \"Topic3\", \"Topic3\", \"Topic3\", \"Topic3\", \"Topic3\", \"Topic4\", \"Topic4\", \"Topic4\", \"Topic4\", \"Topic4\", \"Topic4\", \"Topic4\", \"Topic4\", \"Topic4\", \"Topic4\", \"Topic4\", \"Topic4\", \"Topic5\", \"Topic5\", \"Topic5\", \"Topic5\", \"Topic5\", \"Topic5\", \"Topic5\", \"Topic5\", \"Topic5\", \"Topic5\", \"Topic5\", \"Topic5\", \"Topic6\", \"Topic6\", \"Topic6\", \"Topic6\", \"Topic6\", \"Topic6\", \"Topic6\", \"Topic6\", \"Topic6\", \"Topic6\", \"Topic6\", \"Topic6\", \"Topic7\", \"Topic7\", \"Topic7\", \"Topic7\", \"Topic7\", \"Topic7\", \"Topic7\", \"Topic7\", \"Topic7\", \"Topic7\", \"Topic7\", \"Topic7\", \"Topic8\", \"Topic8\", \"Topic8\", \"Topic8\", \"Topic8\", \"Topic8\", \"Topic8\", \"Topic8\", \"Topic8\", \"Topic8\", \"Topic8\", \"Topic8\", \"Topic9\", \"Topic9\", \"Topic9\", \"Topic9\", \"Topic9\", \"Topic9\", \"Topic9\", \"Topic9\", \"Topic9\", \"Topic9\", \"Topic9\", \"Topic9\", \"Topic10\", \"Topic10\", \"Topic10\", \"Topic10\", \"Topic10\", \"Topic10\", \"Topic10\", \"Topic10\", \"Topic10\", \"Topic10\", \"Topic10\", \"Topic10\"], \"logprob\": [12.0, 11.0, 10.0, 9.0, 8.0, 7.0, 6.0, 5.0, 4.0, 3.0, 2.0, 1.0, -2.0832, -1.3967, -0.9935, -1.3963, -6.6086, -6.6086, -6.6934, -6.6934, -6.6086, -6.6934, -6.6934, -6.6934, -1.4116, -0.7199, -1.4063, -5.7201, -5.8602, -5.9384, -5.9384, -6.0232, -6.0232, -6.0231, -6.0231, -5.7201, -1.4066, -0.718, -1.4058, -5.9325, -6.0173, -6.0173, -6.0173, -6.0173, -6.0173, -6.0173, -6.0173, -6.0173, -1.4074, -1.4068, -1.4052, -1.4061, -5.9306, -5.9666, -6.0154, -6.0154, -6.0154, -6.0154, -6.0154, -6.0154, -1.408, -1.408, -0.718, -5.8548, -5.933, -6.0178, -6.0178, -6.0178, -6.0178, -6.0178, -6.0178, -5.8548, -1.1542, -1.1345, -1.1229, -5.3982, -5.6016, -5.5291, -5.6016, -5.6016, -5.6797, -5.6016, -5.6797, -4.8706, -0.1227, -4.4303, -4.498, -4.5704, -4.6486, -4.6486, -4.7334, -4.7334, -4.7334, -4.5704, -4.4979, -4.1979, -0.1064, -4.6305, -4.7153, -4.6305, -4.7153, -4.7153, -4.7153, -4.7153, -4.7153, -4.7153, -4.7153, -4.6305, -2.3803, -2.4856, -2.5704, -2.5704, -2.4856, -2.5704, -2.5704, -2.5704, -2.5704, -2.5704, -2.2436, -2.3096, -2.4849, -2.4849, -2.4849, -2.4849, -2.4849, -2.4849, -2.4849, -2.4849, -2.4849, -2.4849, -2.4849, -2.4849], \"loglift\": [12.0, 11.0, 10.0, 9.0, 8.0, 7.0, 6.0, 5.0, 4.0, 3.0, 2.0, 1.0, 1.2174, 0.8869, 0.1226, 0.0565, -3.3299, -3.3315, -3.3551, -3.3552, -3.3678, -3.4164, -3.4165, -3.4418, 1.8655, 0.3962, 0.0465, -2.4195, -2.5219, -2.6002, -2.6615, -2.7445, -2.7461, -2.7715, -2.7824, -3.4365, 1.8703, 0.7348, -0.2897, -2.6555, -2.679, -2.6791, -2.7168, -2.7387, -2.7403, -2.7657, -2.7766, -3.7338, 1.8713, 0.8767, 0.0476, -0.29, -2.6537, -2.666, -2.6771, -2.6772, -2.7384, -2.7384, -2.7638, -2.7747, 1.9303, 1.9302, 0.3981, -2.5778, -2.6814, -2.7172, -2.7391, -2.7407, -2.7409, -2.777, -3.7342, -4.402, 2.1229, 0.3183, -0.0068, -2.1195, -2.2633, -2.2884, -2.3246, -2.3247, -2.3415, -2.35, -2.3792, -2.587, 3.1181, -1.0921, -1.2464, -1.2917, -1.3103, -1.3715, -1.4328, -1.4564, -1.4565, -2.2868, -3.0451, -3.0818, 3.1452, -1.2922, -1.3771, -1.3898, -1.4147, -1.4367, -1.4383, -1.4383, -1.4384, -2.4317, -3.2625, -3.5143, 0.8968, 0.7913, 0.7679, 0.7678, 0.766, 0.7302, 0.7083, 0.7066, 0.6704, -0.2868, -0.7908, -1.1935, 0.8534, 0.8533, 0.8157, 0.7938, 0.7921, 0.7921, 0.792, 0.7667, 0.7558, -0.2013, -1.0321, -1.3687]}, \"token.table\": {\"Topic\": [4, 1, 2, 3, 4, 5, 6, 1, 4, 2, 6, 1, 2, 3, 4, 6, 8, 5, 3, 1, 5, 7], \"Freq\": [0.915189917176102, 0.2947697621478761, 0.20002233860034452, 0.1052749150528129, 0.1052749150528129, 0.18949484709506323, 0.1052749150528129, 0.6428368212585093, 0.3383351690834259, 0.9136713789578842, 0.913718594367883, 0.28008454876166894, 0.1474129204008784, 0.28008454876166894, 0.1474129204008784, 0.1474129204008784, 0.890726946624286, 0.8742701846333164, 0.9135599841680854, 0.8419183144749567, 0.874195228209006, 0.8811131310375806], \"Term\": [\"analysis\", \"big\", \"big\", \"big\", \"big\", \"big\", \"big\", \"challenge\", \"challenge\", \"company\", \"database\", \"datum\", \"datum\", \"datum\", \"datum\", \"datum\", \"different\", \"management\", \"mine\", \"opportunitie\", \"review\", \"revolution\"]}, \"R\": 12, \"lambda.step\": 0.01, \"plot.opts\": {\"xlab\": \"PC1\", \"ylab\": \"PC2\"}, \"topic.order\": [1, 4, 9, 5, 7, 2, 10, 8, 3, 6]};\n",
              "\n",
              "function LDAvis_load_lib(url, callback){\n",
              "  var s = document.createElement('script');\n",
              "  s.src = url;\n",
              "  s.async = true;\n",
              "  s.onreadystatechange = s.onload = callback;\n",
              "  s.onerror = function(){console.warn(\"failed to load library \" + url);};\n",
              "  document.getElementsByTagName(\"head\")[0].appendChild(s);\n",
              "}\n",
              "\n",
              "if(typeof(LDAvis) !== \"undefined\"){\n",
              "   // already loaded: just create the visualization\n",
              "   !function(LDAvis){\n",
              "       new LDAvis(\"#\" + \"ldavis_el581396469854444328976788796\", ldavis_el581396469854444328976788796_data);\n",
              "   }(LDAvis);\n",
              "}else if(typeof define === \"function\" && define.amd){\n",
              "   // require.js is available: use it to load d3/LDAvis\n",
              "   require.config({paths: {d3: \"https://d3js.org/d3.v5\"}});\n",
              "   require([\"d3\"], function(d3){\n",
              "      window.d3 = d3;\n",
              "      LDAvis_load_lib(\"https://cdn.jsdelivr.net/gh/bmabey/pyLDAvis@3.2.2/pyLDAvis/js/ldavis.v3.0.0.js\", function(){\n",
              "        new LDAvis(\"#\" + \"ldavis_el581396469854444328976788796\", ldavis_el581396469854444328976788796_data);\n",
              "      });\n",
              "    });\n",
              "}else{\n",
              "    // require.js not available: dynamically load d3 & LDAvis\n",
              "    LDAvis_load_lib(\"https://d3js.org/d3.v5.js\", function(){\n",
              "         LDAvis_load_lib(\"https://cdn.jsdelivr.net/gh/bmabey/pyLDAvis@3.2.2/pyLDAvis/js/ldavis.v3.0.0.js\", function(){\n",
              "                 new LDAvis(\"#\" + \"ldavis_el581396469854444328976788796\", ldavis_el581396469854444328976788796_data);\n",
              "            })\n",
              "         });\n",
              "}\n",
              "</script>"
            ],
            "text/plain": [
              "PreparedData(topic_coordinates=              x         y  topics  cluster       Freq\n",
              "topic                                                \n",
              "0      0.168232  0.004024       1        1  25.918187\n",
              "3      0.173058  0.005804       2        1  13.626161\n",
              "8      0.165267  0.008179       3        1  13.522121\n",
              "4      0.134703  0.001528       4        1  13.493416\n",
              "6      0.069955 -0.004216       5        1  12.624689\n",
              "1      0.149648  0.003934       6        1  10.472330\n",
              "9     -0.317787 -0.291094       7        1   3.910581\n",
              "7     -0.348740  0.276995       8        1   3.786259\n",
              "2     -0.087649  0.000559       9        1   1.341328\n",
              "5     -0.106686 -0.005712      10        1   1.304929, topic_info=          Term       Freq      Total Category  logprob  loglift\n",
              "8   revolution  11.000000  11.000000  Default  12.0000  12.0000\n",
              "0    different  11.000000  11.000000  Default  11.0000  11.0000\n",
              "2    challenge  29.000000  29.000000  Default  10.0000  10.0000\n",
              "3        datum  67.000000  67.000000  Default   9.0000   9.0000\n",
              "7     database  10.000000  10.000000  Default   8.0000   8.0000\n",
              "..         ...        ...        ...      ...      ...      ...\n",
              "0    different   0.315361  11.226785  Topic10  -2.4849   0.7667\n",
              "8   revolution   0.315361  11.349280  Topic10  -2.4849   0.7558\n",
              "2    challenge   0.315357  29.556490  Topic10  -2.4849  -0.2013\n",
              "3        datum   0.315363  67.836659  Topic10  -2.4849  -1.0321\n",
              "1          big   0.315374  94.989390  Topic10  -2.4849  -1.3687\n",
              "\n",
              "[132 rows x 6 columns], token_table=      Topic      Freq          Term\n",
              "term                               \n",
              "10        4  0.915190      analysis\n",
              "1         1  0.294770           big\n",
              "1         2  0.200022           big\n",
              "1         3  0.105275           big\n",
              "1         4  0.105275           big\n",
              "1         5  0.189495           big\n",
              "1         6  0.105275           big\n",
              "2         1  0.642837     challenge\n",
              "2         4  0.338335     challenge\n",
              "9         2  0.913671       company\n",
              "7         6  0.913719      database\n",
              "3         1  0.280085         datum\n",
              "3         2  0.147413         datum\n",
              "3         3  0.280085         datum\n",
              "3         4  0.147413         datum\n",
              "3         6  0.147413         datum\n",
              "0         8  0.890727     different\n",
              "6         5  0.874270    management\n",
              "11        3  0.913560          mine\n",
              "4         1  0.841918  opportunitie\n",
              "5         5  0.874195        review\n",
              "8         7  0.881113    revolution, R=12, lambda_step=0.01, plot_opts={'xlab': 'PC1', 'ylab': 'PC2'}, topic_order=[1, 4, 9, 5, 7, 2, 10, 8, 3, 6])"
            ]
          },
          "metadata": {
            "tags": []
          },
          "execution_count": 20
        }
      ]
    },
    {
      "cell_type": "code",
      "metadata": {
        "colab": {
          "base_uri": "https://localhost:8080/"
        },
        "id": "XRceI2uhOgZQ",
        "outputId": "7b12b139-be73-45bf-9f76-fd001727547b"
      },
      "source": [
        "!wget http://mallet.cs.umass.edu/dist/mallet-2.0.8.zip\n",
        "!unzip \"/content/mallet-2.0.8.zip\""
      ],
      "execution_count": null,
      "outputs": [
        {
          "output_type": "stream",
          "text": [
            "--2021-03-20 03:53:10--  http://mallet.cs.umass.edu/dist/mallet-2.0.8.zip\n",
            "Resolving mallet.cs.umass.edu (mallet.cs.umass.edu)... 128.119.246.70\n",
            "Connecting to mallet.cs.umass.edu (mallet.cs.umass.edu)|128.119.246.70|:80... connected.\n",
            "HTTP request sent, awaiting response... 200 OK\n",
            "Length: 16184794 (15M) [application/zip]\n",
            "Saving to: ‘mallet-2.0.8.zip.5’\n",
            "\n",
            "mallet-2.0.8.zip.5  100%[===================>]  15.43M  5.63MB/s    in 2.7s    \n",
            "\n",
            "2021-03-20 03:53:13 (5.63 MB/s) - ‘mallet-2.0.8.zip.5’ saved [16184794/16184794]\n",
            "\n",
            "Archive:  mallet-2.0.8.zip\n",
            "replace mallet-2.0.8/bin/classifier2info? [y]es, [n]o, [A]ll, [N]one, [r]ename: "
          ],
          "name": "stdout"
        }
      ]
    },
    {
      "cell_type": "code",
      "metadata": {
        "colab": {
          "base_uri": "https://localhost:8080/"
        },
        "id": "pQf-6qDPOWYm",
        "outputId": "1619d32c-f89b-4973-fa4c-a864a4cf292b"
      },
      "source": [
        "import os       #importing os to set variable\n",
        "def install_java():\n",
        "  !apt-get install -y openjdk-8-jdk-headless -qq > /dev/null   \n",
        "  os.environ[\"JAVA_HOME\"] = \"/usr/lib/jvm/java-8-openjdk-amd64\"    \n",
        "  !java -version       \n",
        "install_java()"
      ],
      "execution_count": null,
      "outputs": [
        {
          "output_type": "stream",
          "text": [
            "openjdk version \"11.0.10\" 2021-01-19\n",
            "OpenJDK Runtime Environment (build 11.0.10+9-Ubuntu-0ubuntu1.18.04)\n",
            "OpenJDK 64-Bit Server VM (build 11.0.10+9-Ubuntu-0ubuntu1.18.04, mixed mode, sharing)\n"
          ],
          "name": "stdout"
        }
      ]
    },
    {
      "cell_type": "code",
      "metadata": {
        "id": "H4rg3G0YVjbK"
      },
      "source": [
        "mallet_path = 'path/to/mallet-2.0.8/bin/mallet' # update this path\n",
        "ldamallet = gensim.models.wrappers.LdaMallet(mallet_path, corpus=corpus, num_topics=20, id2word=id2word)"
      ],
      "execution_count": null,
      "outputs": []
    },
    {
      "cell_type": "code",
      "metadata": {
        "id": "hm36fB3WVz3i"
      },
      "source": [
        ""
      ],
      "execution_count": null,
      "outputs": []
    },
    {
      "cell_type": "code",
      "metadata": {
        "id": "QWP2DqsiSvDw"
      },
      "source": [
        "os.environ['MALLET_HOME'] = '/content/mallet-2.0.8'\n",
        "mallet_path = '/content/mallet-2.0.8/bin/mallet'\n",
        "ldamallet = gensim.models.wrappers.LdaMallet(mallet_path, corpus=corpus, num_topics=10, id2word=id2word)"
      ],
      "execution_count": null,
      "outputs": []
    },
    {
      "cell_type": "code",
      "metadata": {
        "colab": {
          "base_uri": "https://localhost:8080/"
        },
        "id": "OdIOHFddSvOe",
        "outputId": "6e3368af-f35c-47fc-a0c1-6cc8ce791c42"
      },
      "source": [
        "pprint(ldamallet.show_topics(formatted=False))\n",
        "# Compute Coherence Score\n",
        "coherence_model_ldamallet = CoherenceModel(model=ldamallet, texts=data_lemmatized, dictionary=id2word, coherence='c_v')\n",
        "coherence_ldamallet = coherence_model_ldamallet.get_coherence()\n",
        "print('\\nCoherence Score: ', coherence_ldamallet)"
      ],
      "execution_count": null,
      "outputs": [
        {
          "output_type": "stream",
          "text": [
            "[(0,\n",
            "  [('challenge', 1.0),\n",
            "   ('database', 0.0),\n",
            "   ('review', 0.0),\n",
            "   ('analysis', 0.0),\n",
            "   ('company', 0.0),\n",
            "   ('revolution', 0.0),\n",
            "   ('different', 0.0),\n",
            "   ('datum', 0.0),\n",
            "   ('opportunitie', 0.0),\n",
            "   ('management', 0.0)]),\n",
            " (1,\n",
            "  [('big', 0.6296296296296297),\n",
            "   ('management', 0.37037037037037035),\n",
            "   ('review', 0.0),\n",
            "   ('analysis', 0.0),\n",
            "   ('company', 0.0),\n",
            "   ('revolution', 0.0),\n",
            "   ('different', 0.0),\n",
            "   ('database', 0.0),\n",
            "   ('datum', 0.0),\n",
            "   ('opportunitie', 0.0)]),\n",
            " (2,\n",
            "  [('big', 0.6),\n",
            "   ('analysis', 0.4),\n",
            "   ('database', 0.0),\n",
            "   ('review', 0.0),\n",
            "   ('company', 0.0),\n",
            "   ('revolution', 0.0),\n",
            "   ('different', 0.0),\n",
            "   ('challenge', 0.0),\n",
            "   ('datum', 0.0),\n",
            "   ('management', 0.0)]),\n",
            " (3,\n",
            "  [('big', 1.0),\n",
            "   ('database', 0.0),\n",
            "   ('review', 0.0),\n",
            "   ('analysis', 0.0),\n",
            "   ('company', 0.0),\n",
            "   ('revolution', 0.0),\n",
            "   ('different', 0.0),\n",
            "   ('challenge', 0.0),\n",
            "   ('datum', 0.0),\n",
            "   ('management', 0.0)]),\n",
            " (4,\n",
            "  [('big', 0.6551724137931034),\n",
            "   ('company', 0.3448275862068966),\n",
            "   ('database', 0.0),\n",
            "   ('review', 0.0),\n",
            "   ('analysis', 0.0),\n",
            "   ('revolution', 0.0),\n",
            "   ('different', 0.0),\n",
            "   ('challenge', 0.0),\n",
            "   ('datum', 0.0),\n",
            "   ('management', 0.0)]),\n",
            " (5,\n",
            "  [('datum', 1.0),\n",
            "   ('database', 0.0),\n",
            "   ('review', 0.0),\n",
            "   ('analysis', 0.0),\n",
            "   ('company', 0.0),\n",
            "   ('revolution', 0.0),\n",
            "   ('different', 0.0),\n",
            "   ('challenge', 0.0),\n",
            "   ('opportunitie', 0.0),\n",
            "   ('management', 0.0)]),\n",
            " (6,\n",
            "  [('datum', 0.5925925925925926),\n",
            "   ('database', 0.37037037037037035),\n",
            "   ('opportunitie', 0.037037037037037035),\n",
            "   ('review', 0.0),\n",
            "   ('analysis', 0.0),\n",
            "   ('company', 0.0),\n",
            "   ('revolution', 0.0),\n",
            "   ('different', 0.0),\n",
            "   ('big', 0.0),\n",
            "   ('management', 0.0)]),\n",
            " (7,\n",
            "  [('big', 1.0),\n",
            "   ('database', 0.0),\n",
            "   ('review', 0.0),\n",
            "   ('analysis', 0.0),\n",
            "   ('company', 0.0),\n",
            "   ('revolution', 0.0),\n",
            "   ('different', 0.0),\n",
            "   ('challenge', 0.0),\n",
            "   ('datum', 0.0),\n",
            "   ('management', 0.0)]),\n",
            " (8,\n",
            "  [('datum', 0.7058823529411765),\n",
            "   ('review', 0.29411764705882354),\n",
            "   ('database', 0.0),\n",
            "   ('analysis', 0.0),\n",
            "   ('company', 0.0),\n",
            "   ('revolution', 0.0),\n",
            "   ('different', 0.0),\n",
            "   ('challenge', 0.0),\n",
            "   ('opportunitie', 0.0),\n",
            "   ('management', 0.0)]),\n",
            " (9,\n",
            "  [('mine', 0.3448275862068966),\n",
            "   ('revolution', 0.3448275862068966),\n",
            "   ('opportunitie', 0.3103448275862069),\n",
            "   ('database', 0.0),\n",
            "   ('analysis', 0.0),\n",
            "   ('company', 0.0),\n",
            "   ('different', 0.0),\n",
            "   ('challenge', 0.0),\n",
            "   ('datum', 0.0),\n",
            "   ('management', 0.0)])]\n",
            "\n",
            "Coherence Score:  0.6358211005797477\n"
          ],
          "name": "stdout"
        }
      ]
    },
    {
      "cell_type": "code",
      "metadata": {
        "id": "PKBqA5i9V1GA"
      },
      "source": [
        "def compute_coherence_values(dictionary, corpus, texts, start, limit, step):\n",
        "    \"\"\"\n",
        "    Compute c_v coherence for various number of topics\n",
        "\n",
        "    Parameters:\n",
        "    ----------\n",
        "    dictionary : Gensim dictionary\n",
        "    corpus : Gensim corpus\n",
        "    texts : List of input texts\n",
        "    limit : Max num of topics\n",
        "\n",
        "    Returns:\n",
        "    -------\n",
        "    model_list : List of LDA topic models\n",
        "    coherence_values : Coherence values corresponding to the LDA model with respective number of topics\n",
        "    \"\"\"\n",
        "    coherence_values = []\n",
        "    model_list = []\n",
        "    for num_topics in range(start, limit, step):\n",
        "        model = gensim.models.wrappers.LdaMallet(mallet_path, corpus=corpus, num_topics=num_topics, id2word=id2word)\n",
        "        model_list.append(model)\n",
        "        coherencemodel = CoherenceModel(model=model, texts=texts, dictionary=dictionary, coherence='c_v')\n",
        "        coherence_values.append(coherencemodel.get_coherence())\n",
        "\n",
        "    return model_list, coherence_values"
      ],
      "execution_count": null,
      "outputs": []
    },
    {
      "cell_type": "code",
      "metadata": {
        "id": "l7NJ6s4uV3vx"
      },
      "source": [
        "model_list, coherence_values = compute_coherence_values(dictionary=id2word, corpus=corpus, texts=data_lemmatized, start=2, limit=40, step=6)"
      ],
      "execution_count": null,
      "outputs": []
    },
    {
      "cell_type": "code",
      "metadata": {
        "colab": {
          "base_uri": "https://localhost:8080/",
          "height": 281
        },
        "id": "sBTk6kiDV61c",
        "outputId": "ad6c346c-d0fd-4541-f293-9f3104535bc5"
      },
      "source": [
        "# Show graph\n",
        "limit=40; start=2; step=6;\n",
        "x = range(start, limit, step)\n",
        "plt.plot(x, coherence_values)\n",
        "plt.xlabel(\"Num Topics\")\n",
        "plt.ylabel(\"Coherence score\")\n",
        "plt.legend((\"coherence_values\"), loc='best')\n",
        "plt.show()"
      ],
      "execution_count": null,
      "outputs": [
        {
          "output_type": "display_data",
          "data": {
            "image/png": "[encoded data removed]",
            "text/plain": [
              "<Figure size 432x288 with 1 Axes>"
            ]
          },
          "metadata": {
            "tags": [],
            "needs_background": "light"
          }
        }
      ]
    },
    {
      "cell_type": "code",
      "metadata": {
        "colab": {
          "base_uri": "https://localhost:8080/"
        },
        "id": "DdmGbHcyV8kz",
        "outputId": "afd2d092-8170-4677-f04e-a7053ff1544b"
      },
      "source": [
        "for m, cv in zip(x, coherence_values):\n",
        "    print(\"Num Topics =\", m, \" has Coherence Value of\", round(cv, 4))"
      ],
      "execution_count": null,
      "outputs": [
        {
          "output_type": "stream",
          "text": [
            "Num Topics = 2  has Coherence Value of 0.6358\n",
            "Num Topics = 8  has Coherence Value of 0.6358\n",
            "Num Topics = 14  has Coherence Value of 0.6358\n",
            "Num Topics = 20  has Coherence Value of 0.6358\n",
            "Num Topics = 26  has Coherence Value of 0.6358\n",
            "Num Topics = 32  has Coherence Value of 0.6358\n",
            "Num Topics = 38  has Coherence Value of 0.6358\n"
          ],
          "name": "stdout"
        }
      ]
    },
    {
      "cell_type": "code",
      "metadata": {
        "colab": {
          "base_uri": "https://localhost:8080/"
        },
        "id": "G5TU5h4zV-fx",
        "outputId": "b6bca49c-1213-46a6-bfeb-4462136dfce5"
      },
      "source": [
        "# Select the model and print the topics\n",
        "optimal_model = model_list[3]\n",
        "model_topics = optimal_model.show_topics(formatted=False)\n",
        "pprint(optimal_model.print_topics(num_words=10))"
      ],
      "execution_count": null,
      "outputs": [
        {
          "output_type": "stream",
          "text": [
            "[(0,\n",
            "  '1.000*\"datum\" + 0.000*\"database\" + 0.000*\"review\" + 0.000*\"analysis\" + '\n",
            "  '0.000*\"company\" + 0.000*\"revolution\" + 0.000*\"different\" + '\n",
            "  '0.000*\"challenge\" + 0.000*\"opportunitie\" + 0.000*\"management\"'),\n",
            " (1,\n",
            "  '0.538*\"datum\" + 0.462*\"big\" + 0.000*\"revolution\" + 0.000*\"review\" + '\n",
            "  '0.000*\"analysis\" + 0.000*\"company\" + 0.000*\"different\" + 0.000*\"database\" + '\n",
            "  '0.000*\"opportunitie\" + 0.000*\"management\"'),\n",
            " (2,\n",
            "  '0.818*\"company\" + 0.182*\"opportunitie\" + 0.000*\"database\" + 0.000*\"review\" '\n",
            "  '+ 0.000*\"analysis\" + 0.000*\"revolution\" + 0.000*\"different\" + '\n",
            "  '0.000*\"challenge\" + 0.000*\"datum\" + 0.000*\"management\"'),\n",
            " (3,\n",
            "  '0.667*\"analysis\" + 0.333*\"challenge\" + 0.000*\"database\" + 0.000*\"review\" + '\n",
            "  '0.000*\"company\" + 0.000*\"revolution\" + 0.000*\"different\" + 0.000*\"datum\" + '\n",
            "  '0.000*\"opportunitie\" + 0.000*\"management\"'),\n",
            " (4,\n",
            "  '0.500*\"mine\" + 0.500*\"big\" + 0.000*\"database\" + 0.000*\"analysis\" + '\n",
            "  '0.000*\"company\" + 0.000*\"revolution\" + 0.000*\"different\" + '\n",
            "  '0.000*\"challenge\" + 0.000*\"datum\" + 0.000*\"management\"'),\n",
            " (5,\n",
            "  '1.000*\"big\" + 0.000*\"database\" + 0.000*\"review\" + 0.000*\"analysis\" + '\n",
            "  '0.000*\"company\" + 0.000*\"revolution\" + 0.000*\"different\" + '\n",
            "  '0.000*\"challenge\" + 0.000*\"datum\" + 0.000*\"management\"'),\n",
            " (6,\n",
            "  '1.000*\"big\" + 0.000*\"database\" + 0.000*\"review\" + 0.000*\"analysis\" + '\n",
            "  '0.000*\"company\" + 0.000*\"revolution\" + 0.000*\"different\" + '\n",
            "  '0.000*\"challenge\" + 0.000*\"datum\" + 0.000*\"management\"'),\n",
            " (7,\n",
            "  '1.000*\"big\" + 0.000*\"database\" + 0.000*\"review\" + 0.000*\"analysis\" + '\n",
            "  '0.000*\"company\" + 0.000*\"revolution\" + 0.000*\"different\" + '\n",
            "  '0.000*\"challenge\" + 0.000*\"datum\" + 0.000*\"management\"'),\n",
            " (8,\n",
            "  '1.000*\"review\" + 0.000*\"database\" + 0.000*\"analysis\" + 0.000*\"company\" + '\n",
            "  '0.000*\"revolution\" + 0.000*\"different\" + 0.000*\"management\" + '\n",
            "  '0.000*\"challenge\" + 0.000*\"datum\" + 0.000*\"big\"'),\n",
            " (9,\n",
            "  '0.909*\"revolution\" + 0.091*\"company\" + 0.000*\"database\" + 0.000*\"review\" + '\n",
            "  '0.000*\"analysis\" + 0.000*\"different\" + 0.000*\"management\" + '\n",
            "  '0.000*\"challenge\" + 0.000*\"datum\" + 0.000*\"big\"'),\n",
            " (10,\n",
            "  '0.833*\"big\" + 0.167*\"challenge\" + 0.000*\"revolution\" + 0.000*\"review\" + '\n",
            "  '0.000*\"analysis\" + 0.000*\"company\" + 0.000*\"different\" + 0.000*\"database\" + '\n",
            "  '0.000*\"opportunitie\" + 0.000*\"management\"'),\n",
            " (11,\n",
            "  '1.000*\"database\" + 0.000*\"review\" + 0.000*\"analysis\" + 0.000*\"company\" + '\n",
            "  '0.000*\"revolution\" + 0.000*\"different\" + 0.000*\"management\" + '\n",
            "  '0.000*\"challenge\" + 0.000*\"datum\" + 0.000*\"big\"'),\n",
            " (12,\n",
            "  '0.733*\"datum\" + 0.267*\"challenge\" + 0.000*\"revolution\" + 0.000*\"review\" + '\n",
            "  '0.000*\"analysis\" + 0.000*\"company\" + 0.000*\"different\" + 0.000*\"database\" + '\n",
            "  '0.000*\"big\" + 0.000*\"management\"'),\n",
            " (13,\n",
            "  '1.000*\"datum\" + 0.000*\"database\" + 0.000*\"review\" + 0.000*\"analysis\" + '\n",
            "  '0.000*\"company\" + 0.000*\"revolution\" + 0.000*\"different\" + '\n",
            "  '0.000*\"challenge\" + 0.000*\"opportunitie\" + 0.000*\"management\"'),\n",
            " (14,\n",
            "  '1.000*\"challenge\" + 0.000*\"database\" + 0.000*\"review\" + 0.000*\"analysis\" + '\n",
            "  '0.000*\"company\" + 0.000*\"revolution\" + 0.000*\"different\" + 0.000*\"datum\" + '\n",
            "  '0.000*\"opportunitie\" + 0.000*\"management\"'),\n",
            " (15,\n",
            "  '1.000*\"big\" + 0.000*\"database\" + 0.000*\"review\" + 0.000*\"analysis\" + '\n",
            "  '0.000*\"company\" + 0.000*\"revolution\" + 0.000*\"different\" + '\n",
            "  '0.000*\"challenge\" + 0.000*\"datum\" + 0.000*\"management\"'),\n",
            " (16,\n",
            "  '0.619*\"datum\" + 0.381*\"opportunitie\" + 0.000*\"revolution\" + 0.000*\"review\" '\n",
            "  '+ 0.000*\"analysis\" + 0.000*\"company\" + 0.000*\"different\" + 0.000*\"database\" '\n",
            "  '+ 0.000*\"big\" + 0.000*\"management\"'),\n",
            " (17,\n",
            "  '1.000*\"datum\" + 0.000*\"database\" + 0.000*\"review\" + 0.000*\"analysis\" + '\n",
            "  '0.000*\"company\" + 0.000*\"revolution\" + 0.000*\"different\" + '\n",
            "  '0.000*\"challenge\" + 0.000*\"opportunitie\" + 0.000*\"management\"'),\n",
            " (18,\n",
            "  '0.909*\"management\" + 0.091*\"mine\" + 0.000*\"analysis\" + 0.000*\"company\" + '\n",
            "  '0.000*\"revolution\" + 0.000*\"database\" + 0.000*\"different\" + '\n",
            "  '0.000*\"challenge\" + 0.000*\"datum\" + 0.000*\"big\"'),\n",
            " (19,\n",
            "  '1.000*\"big\" + 0.000*\"database\" + 0.000*\"review\" + 0.000*\"analysis\" + '\n",
            "  '0.000*\"company\" + 0.000*\"revolution\" + 0.000*\"different\" + '\n",
            "  '0.000*\"challenge\" + 0.000*\"datum\" + 0.000*\"management\"')]\n"
          ],
          "name": "stdout"
        }
      ]
    },
    {
      "cell_type": "code",
      "metadata": {
        "colab": {
          "base_uri": "https://localhost:8080/",
          "height": 419
        },
        "id": "NS2wjF9uZj41",
        "outputId": "b341cf44-27fe-4aea-96c4-df199e31ab35"
      },
      "source": [
        "def format_topics_sentences(ldamodel=lda_model, corpus=corpus, texts=data):\n",
        "    # Init output\n",
        "    sent_topics_df = pd.DataFrame()\n",
        "\n",
        "    # Get main topic in each document\n",
        "    for i, row in enumerate(ldamodel[corpus]):\n",
        "        row = sorted(row, key=lambda x: (x[1]), reverse=True)\n",
        "        # Get the Dominant topic, Perc Contribution and Keywords for each document\n",
        "        for j, (topic_num, prop_topic) in enumerate(row):\n",
        "            if j == 0:  # => dominant topic\n",
        "                wp = ldamodel.show_topic(topic_num)\n",
        "                topic_keywords = \", \".join([word for word, prop in wp])\n",
        "                sent_topics_df = sent_topics_df.append(pd.Series([int(topic_num), round(prop_topic,4), topic_keywords]), ignore_index=True)\n",
        "            else:\n",
        "                break\n",
        "    sent_topics_df.columns = ['Dominant_Topic', 'Perc_Contribution', 'Topic_Keywords']\n",
        "\n",
        "    # Add original text to the end of the output\n",
        "    contents = pd.Series(texts)\n",
        "    sent_topics_df = pd.concat([sent_topics_df, contents], axis=1)\n",
        "    return(sent_topics_df)\n",
        "\n",
        "\n",
        "df_topic_sents_keywords = format_topics_sentences(ldamodel=optimal_model, corpus=corpus, texts=data)\n",
        "\n",
        "# Format\n",
        "df_dominant_topic = df_topic_sents_keywords.reset_index()\n",
        "df_dominant_topic.columns = ['Document_No', 'Dominant_Topic', 'Topic_Perc_Contrib', 'Keywords', 'Text']\n",
        "\n",
        "# Show\n",
        "df_dominant_topic.head(100)"
      ],
      "execution_count": null,
      "outputs": [
        {
          "output_type": "execute_result",
          "data": {
            "text/html": [
              "<div>\n",
              "<style scoped>\n",
              "    .dataframe tbody tr th:only-of-type {\n",
              "        vertical-align: middle;\n",
              "    }\n",
              "\n",
              "    .dataframe tbody tr th {\n",
              "        vertical-align: top;\n",
              "    }\n",
              "\n",
              "    .dataframe thead th {\n",
              "        text-align: right;\n",
              "    }\n",
              "</style>\n",
              "<table border=\"1\" class=\"dataframe\">\n",
              "  <thead>\n",
              "    <tr style=\"text-align: right;\">\n",
              "      <th></th>\n",
              "      <th>Document_No</th>\n",
              "      <th>Dominant_Topic</th>\n",
              "      <th>Topic_Perc_Contrib</th>\n",
              "      <th>Keywords</th>\n",
              "      <th>Text</th>\n",
              "    </tr>\n",
              "  </thead>\n",
              "  <tbody>\n",
              "    <tr>\n",
              "      <th>0</th>\n",
              "      <td>0</td>\n",
              "      <td>0.0</td>\n",
              "      <td>0.0500</td>\n",
              "      <td>datum, database, review, analysis, company, re...</td>\n",
              "      <td>[pdf][pdf] howbig datais different</td>\n",
              "    </tr>\n",
              "    <tr>\n",
              "      <th>1</th>\n",
              "      <td>1</td>\n",
              "      <td>16.0</td>\n",
              "      <td>0.0648</td>\n",
              "      <td>datum, opportunitie, revolution, review, analy...</td>\n",
              "      <td>challenges and opportunities with big data</td>\n",
              "    </tr>\n",
              "    <tr>\n",
              "      <th>2</th>\n",
              "      <td>2</td>\n",
              "      <td>8.0</td>\n",
              "      <td>0.0673</td>\n",
              "      <td>review, database, analysis, company, revolutio...</td>\n",
              "      <td>big data: a review</td>\n",
              "    </tr>\n",
              "    <tr>\n",
              "      <th>3</th>\n",
              "      <td>3</td>\n",
              "      <td>18.0</td>\n",
              "      <td>0.0673</td>\n",
              "      <td>management, mine, analysis, company, revolutio...</td>\n",
              "      <td>big data and management</td>\n",
              "    </tr>\n",
              "    <tr>\n",
              "      <th>4</th>\n",
              "      <td>4</td>\n",
              "      <td>11.0</td>\n",
              "      <td>0.0660</td>\n",
              "      <td>database, review, analysis, company, revolutio...</td>\n",
              "      <td>from databases to big data</td>\n",
              "    </tr>\n",
              "    <tr>\n",
              "      <th>...</th>\n",
              "      <td>...</td>\n",
              "      <td>...</td>\n",
              "      <td>...</td>\n",
              "      <td>...</td>\n",
              "      <td>...</td>\n",
              "    </tr>\n",
              "    <tr>\n",
              "      <th>95</th>\n",
              "      <td>95</td>\n",
              "      <td>10.0</td>\n",
              "      <td>0.0566</td>\n",
              "      <td>big, challenge, revolution, review, analysis, ...</td>\n",
              "      <td>[html][html] the big challenges of big data</td>\n",
              "    </tr>\n",
              "    <tr>\n",
              "      <th>96</th>\n",
              "      <td>96</td>\n",
              "      <td>9.0</td>\n",
              "      <td>0.0686</td>\n",
              "      <td>revolution, company, database, review, analysi...</td>\n",
              "      <td>[pdf][pdf] big data: the management revolution</td>\n",
              "    </tr>\n",
              "    <tr>\n",
              "      <th>97</th>\n",
              "      <td>97</td>\n",
              "      <td>2.0</td>\n",
              "      <td>0.0628</td>\n",
              "      <td>company, opportunitie, database, review, analy...</td>\n",
              "      <td>[pdf][pdf] big data in big companies</td>\n",
              "    </tr>\n",
              "    <tr>\n",
              "      <th>98</th>\n",
              "      <td>98</td>\n",
              "      <td>3.0</td>\n",
              "      <td>0.0648</td>\n",
              "      <td>analysis, challenge, database, review, company...</td>\n",
              "      <td>challenges of big data analysis</td>\n",
              "    </tr>\n",
              "    <tr>\n",
              "      <th>99</th>\n",
              "      <td>99</td>\n",
              "      <td>4.0</td>\n",
              "      <td>0.0628</td>\n",
              "      <td>mine, big, database, analysis, company, revolu...</td>\n",
              "      <td>data mining with big data</td>\n",
              "    </tr>\n",
              "  </tbody>\n",
              "</table>\n",
              "<p>100 rows × 5 columns</p>\n",
              "</div>"
            ],
            "text/plain": [
              "    Document_No  ...                                            Text\n",
              "0             0  ...              [pdf][pdf] howbig datais different\n",
              "1             1  ...      challenges and opportunities with big data\n",
              "2             2  ...                              big data: a review\n",
              "3             3  ...                         big data and management\n",
              "4             4  ...                      from databases to big data\n",
              "..          ...  ...                                             ...\n",
              "95           95  ...     [html][html] the big challenges of big data\n",
              "96           96  ...  [pdf][pdf] big data: the management revolution\n",
              "97           97  ...            [pdf][pdf] big data in big companies\n",
              "98           98  ...                 challenges of big data analysis\n",
              "99           99  ...                       data mining with big data\n",
              "\n",
              "[100 rows x 5 columns]"
            ]
          },
          "metadata": {
            "tags": []
          },
          "execution_count": 34
        }
      ]
    },
    {
      "cell_type": "code",
      "metadata": {
        "colab": {
          "base_uri": "https://localhost:8080/",
          "height": 204
        },
        "id": "w5EoiodCZ7LG",
        "outputId": "ad6459d7-9019-4bc1-e4d9-a018cb3e28f9"
      },
      "source": [
        "# Group top 5 sentences under each topic\n",
        "sent_topics_sorteddf_mallet = pd.DataFrame()\n",
        "\n",
        "sent_topics_outdf_grpd = df_topic_sents_keywords.groupby('Dominant_Topic')\n",
        "\n",
        "for i, grp in sent_topics_outdf_grpd:\n",
        "    sent_topics_sorteddf_mallet = pd.concat([sent_topics_sorteddf_mallet, \n",
        "                                             grp.sort_values(['Perc_Contribution'], ascending=[0]).head(1)], \n",
        "                                            axis=0)\n",
        "\n",
        "# Reset Index    \n",
        "sent_topics_sorteddf_mallet.reset_index(drop=True, inplace=True)\n",
        "\n",
        "# Format\n",
        "sent_topics_sorteddf_mallet.columns = ['Topic_Num', \"Topic_Perc_Contrib\", \"Keywords\",\"Text\"]\n",
        "\n",
        "# Show\n",
        "sent_topics_sorteddf_mallet.head()"
      ],
      "execution_count": null,
      "outputs": [
        {
          "output_type": "execute_result",
          "data": {
            "text/html": [
              "<div>\n",
              "<style scoped>\n",
              "    .dataframe tbody tr th:only-of-type {\n",
              "        vertical-align: middle;\n",
              "    }\n",
              "\n",
              "    .dataframe tbody tr th {\n",
              "        vertical-align: top;\n",
              "    }\n",
              "\n",
              "    .dataframe thead th {\n",
              "        text-align: right;\n",
              "    }\n",
              "</style>\n",
              "<table border=\"1\" class=\"dataframe\">\n",
              "  <thead>\n",
              "    <tr style=\"text-align: right;\">\n",
              "      <th></th>\n",
              "      <th>Topic_Num</th>\n",
              "      <th>Topic_Perc_Contrib</th>\n",
              "      <th>Keywords</th>\n",
              "      <th>Text</th>\n",
              "    </tr>\n",
              "  </thead>\n",
              "  <tbody>\n",
              "    <tr>\n",
              "      <th>0</th>\n",
              "      <td>0.0</td>\n",
              "      <td>0.0607</td>\n",
              "      <td>datum, database, review, analysis, company, re...</td>\n",
              "      <td>[html][html] the big challenges of big data</td>\n",
              "    </tr>\n",
              "    <tr>\n",
              "      <th>1</th>\n",
              "      <td>2.0</td>\n",
              "      <td>0.0648</td>\n",
              "      <td>company, opportunitie, database, review, analy...</td>\n",
              "      <td>[pdf][pdf] big data in big companies</td>\n",
              "    </tr>\n",
              "    <tr>\n",
              "      <th>2</th>\n",
              "      <td>3.0</td>\n",
              "      <td>0.0710</td>\n",
              "      <td>analysis, challenge, database, review, company...</td>\n",
              "      <td>challenges of big data analysis</td>\n",
              "    </tr>\n",
              "    <tr>\n",
              "      <th>3</th>\n",
              "      <td>4.0</td>\n",
              "      <td>0.0710</td>\n",
              "      <td>mine, big, database, analysis, company, revolu...</td>\n",
              "      <td>data mining with big data</td>\n",
              "    </tr>\n",
              "    <tr>\n",
              "      <th>4</th>\n",
              "      <td>5.0</td>\n",
              "      <td>0.0586</td>\n",
              "      <td>big, database, review, analysis, company, revo...</td>\n",
              "      <td>[html][html] the big challenges of big data</td>\n",
              "    </tr>\n",
              "  </tbody>\n",
              "</table>\n",
              "</div>"
            ],
            "text/plain": [
              "   Topic_Num  ...                                         Text\n",
              "0        0.0  ...  [html][html] the big challenges of big data\n",
              "1        2.0  ...         [pdf][pdf] big data in big companies\n",
              "2        3.0  ...              challenges of big data analysis\n",
              "3        4.0  ...                    data mining with big data\n",
              "4        5.0  ...  [html][html] the big challenges of big data\n",
              "\n",
              "[5 rows x 4 columns]"
            ]
          },
          "metadata": {
            "tags": []
          },
          "execution_count": 35
        }
      ]
    },
    {
      "cell_type": "code",
      "metadata": {
        "colab": {
          "base_uri": "https://localhost:8080/",
          "height": 419
        },
        "id": "abe92JloaCmT",
        "outputId": "e6af9003-eed3-4edf-d35d-3c3df660d66f"
      },
      "source": [
        "# Number of Documents for Each Topic\n",
        "topic_counts = df_topic_sents_keywords['Dominant_Topic'].value_counts()\n",
        "\n",
        "# Percentage of Documents for Each Topic\n",
        "topic_contribution = round(topic_counts/topic_counts.sum(), 4)\n",
        "\n",
        "# Topic Number and Keywords\n",
        "topic_num_keywords = df_topic_sents_keywords[['Dominant_Topic', 'Topic_Keywords']]\n",
        "\n",
        "# Concatenate Column wise\n",
        "df_dominant_topics = pd.concat([topic_num_keywords, topic_counts, topic_contribution], axis=1)\n",
        "\n",
        "# Change Column names\n",
        "df_dominant_topics.columns = ['Dominant_Topic', 'Topic_Keywords', 'Num_Documents', 'Perc_Documents']\n",
        "\n",
        "# Show\n",
        "df_dominant_topics"
      ],
      "execution_count": null,
      "outputs": [
        {
          "output_type": "execute_result",
          "data": {
            "text/html": [
              "<div>\n",
              "<style scoped>\n",
              "    .dataframe tbody tr th:only-of-type {\n",
              "        vertical-align: middle;\n",
              "    }\n",
              "\n",
              "    .dataframe tbody tr th {\n",
              "        vertical-align: top;\n",
              "    }\n",
              "\n",
              "    .dataframe thead th {\n",
              "        text-align: right;\n",
              "    }\n",
              "</style>\n",
              "<table border=\"1\" class=\"dataframe\">\n",
              "  <thead>\n",
              "    <tr style=\"text-align: right;\">\n",
              "      <th></th>\n",
              "      <th>Dominant_Topic</th>\n",
              "      <th>Topic_Keywords</th>\n",
              "      <th>Num_Documents</th>\n",
              "      <th>Perc_Documents</th>\n",
              "    </tr>\n",
              "  </thead>\n",
              "  <tbody>\n",
              "    <tr>\n",
              "      <th>0.0</th>\n",
              "      <td>0.0</td>\n",
              "      <td>datum, database, review, analysis, company, re...</td>\n",
              "      <td>11.0</td>\n",
              "      <td>0.11</td>\n",
              "    </tr>\n",
              "    <tr>\n",
              "      <th>1.0</th>\n",
              "      <td>16.0</td>\n",
              "      <td>datum, opportunitie, revolution, review, analy...</td>\n",
              "      <td>NaN</td>\n",
              "      <td>NaN</td>\n",
              "    </tr>\n",
              "    <tr>\n",
              "      <th>2.0</th>\n",
              "      <td>8.0</td>\n",
              "      <td>review, database, analysis, company, revolutio...</td>\n",
              "      <td>12.0</td>\n",
              "      <td>0.12</td>\n",
              "    </tr>\n",
              "    <tr>\n",
              "      <th>3.0</th>\n",
              "      <td>18.0</td>\n",
              "      <td>management, mine, analysis, company, revolutio...</td>\n",
              "      <td>10.0</td>\n",
              "      <td>0.10</td>\n",
              "    </tr>\n",
              "    <tr>\n",
              "      <th>4.0</th>\n",
              "      <td>11.0</td>\n",
              "      <td>database, review, analysis, company, revolutio...</td>\n",
              "      <td>9.0</td>\n",
              "      <td>0.09</td>\n",
              "    </tr>\n",
              "    <tr>\n",
              "      <th>...</th>\n",
              "      <td>...</td>\n",
              "      <td>...</td>\n",
              "      <td>...</td>\n",
              "      <td>...</td>\n",
              "    </tr>\n",
              "    <tr>\n",
              "      <th>95.0</th>\n",
              "      <td>10.0</td>\n",
              "      <td>big, challenge, revolution, review, analysis, ...</td>\n",
              "      <td>NaN</td>\n",
              "      <td>NaN</td>\n",
              "    </tr>\n",
              "    <tr>\n",
              "      <th>96.0</th>\n",
              "      <td>9.0</td>\n",
              "      <td>revolution, company, database, review, analysi...</td>\n",
              "      <td>NaN</td>\n",
              "      <td>NaN</td>\n",
              "    </tr>\n",
              "    <tr>\n",
              "      <th>97.0</th>\n",
              "      <td>2.0</td>\n",
              "      <td>company, opportunitie, database, review, analy...</td>\n",
              "      <td>NaN</td>\n",
              "      <td>NaN</td>\n",
              "    </tr>\n",
              "    <tr>\n",
              "      <th>98.0</th>\n",
              "      <td>3.0</td>\n",
              "      <td>analysis, challenge, database, review, company...</td>\n",
              "      <td>NaN</td>\n",
              "      <td>NaN</td>\n",
              "    </tr>\n",
              "    <tr>\n",
              "      <th>99.0</th>\n",
              "      <td>4.0</td>\n",
              "      <td>mine, big, database, analysis, company, revolu...</td>\n",
              "      <td>NaN</td>\n",
              "      <td>NaN</td>\n",
              "    </tr>\n",
              "  </tbody>\n",
              "</table>\n",
              "<p>100 rows × 4 columns</p>\n",
              "</div>"
            ],
            "text/plain": [
              "      Dominant_Topic  ... Perc_Documents\n",
              "0.0              0.0  ...           0.11\n",
              "1.0             16.0  ...            NaN\n",
              "2.0              8.0  ...           0.12\n",
              "3.0             18.0  ...           0.10\n",
              "4.0             11.0  ...           0.09\n",
              "...              ...  ...            ...\n",
              "95.0            10.0  ...            NaN\n",
              "96.0             9.0  ...            NaN\n",
              "97.0             2.0  ...            NaN\n",
              "98.0             3.0  ...            NaN\n",
              "99.0             4.0  ...            NaN\n",
              "\n",
              "[100 rows x 4 columns]"
            ]
          },
          "metadata": {
            "tags": []
          },
          "execution_count": 36
        }
      ]
    },
    {
      "cell_type": "markdown",
      "metadata": {
        "id": "XnhV2FpBWcCY"
      },
      "source": [
        "## (2) (8 points) Generate K topics by using LSA, the number of topics K should be decided by the coherence score, then summarize what are the topics. You may refer the code here:\n",
        "\n",
        "https://www.datacamp.com/community/tutorials/discovering-hidden-topics-python"
      ]
    },
    {
      "cell_type": "code",
      "metadata": {
        "id": "kUw_yS5kWcCY"
      },
      "source": [
        "import os.path\n",
        "from gensim import corpora\n",
        "from gensim.models import LsiModel\n",
        "from nltk.tokenize import RegexpTokenizer\n",
        "from nltk.corpus import stopwords\n",
        "from nltk.stem.porter import PorterStemmer\n",
        "from gensim.models.coherencemodel import CoherenceModel\n",
        "import matplotlib.pyplot as plt\n",
        "\n"
      ],
      "execution_count": null,
      "outputs": []
    },
    {
      "cell_type": "code",
      "metadata": {
        "id": "76N-5vetaYue"
      },
      "source": [
        "def load_data(path,file_name):\n",
        "    \"\"\"\n",
        "    Input  : path and file_name\n",
        "    Purpose: loading text file\n",
        "    Output : list of paragraphs/documents and\n",
        "             title(initial 100 words considred as title of document)\n",
        "    \"\"\"\n",
        "    documents_list = []\n",
        "    titles=[]\n",
        "    with open( os.path.join(path, file_name) ,\"r\") as fin:\n",
        "        for line in fin.readlines():\n",
        "            text = line.strip()\n",
        "            documents_list.append(text)\n",
        "    print(\"Total Number of Documents:\",len(documents_list))\n",
        "    titles.append( text[0:min(len(text),100)] )\n",
        "    return documents_list,titles\n"
      ],
      "execution_count": null,
      "outputs": []
    },
    {
      "cell_type": "code",
      "metadata": {
        "id": "adTOo0CAaY8b"
      },
      "source": [
        "def preprocess_data(doc_set):\n",
        "    \"\"\"\n",
        "    Input  : docuemnt list\n",
        "    Purpose: preprocess text (tokenize, removing stopwords, and stemming)\n",
        "    Output : preprocessed text\n",
        "    \"\"\"\n",
        "    # initialize regex tokenizer\n",
        "    tokenizer = RegexpTokenizer(r'\\w+')\n",
        "    # create English stop words list\n",
        "    en_stop = set(stopwords.words('english'))\n",
        "    # Create p_stemmer of class PorterStemmer\n",
        "    p_stemmer = PorterStemmer()\n",
        "    # list for tokenized documents in loop\n",
        "    texts = []\n",
        "    # loop through document list\n",
        "    for i in doc_set:\n",
        "        # clean and tokenize document string\n",
        "        raw = i.lower()\n",
        "        tokens = tokenizer.tokenize(raw)\n",
        "        # remove stop words from tokens\n",
        "        stopped_tokens = [i for i in tokens if not i in en_stop]\n",
        "        # stem tokens\n",
        "        stemmed_tokens = [p_stemmer.stem(i) for i in stopped_tokens]\n",
        "        # add tokens to list\n",
        "        texts.append(stemmed_tokens)\n",
        "    return texts"
      ],
      "execution_count": null,
      "outputs": []
    },
    {
      "cell_type": "code",
      "metadata": {
        "id": "_4hEden4bWVt"
      },
      "source": [
        "def prepare_corpus(doc_clean):\n",
        "    \"\"\"\n",
        "    Input  : clean document\n",
        "    Purpose: create term dictionary of our courpus and Converting list of documents (corpus) into Document Term Matrix\n",
        "    Output : term dictionary and Document Term Matrix\n",
        "    \"\"\"\n",
        "\n",
        "    dictionary = corpora.Dictionary(doc_clean)\n",
        "   \n",
        "    doc_term_matrix = [dictionary.doc2bow(doc) for doc in doc_clean]\n",
        "    # generate LDA model\n",
        "    return dictionary,doc_term_matrix"
      ],
      "execution_count": null,
      "outputs": []
    },
    {
      "cell_type": "code",
      "metadata": {
        "id": "LvJobjBlbWeM"
      },
      "source": [
        "def create_gensim_lsa_model(doc_clean,number_of_topics,words):\n",
        "    \"\"\"\n",
        "    Input  : clean document, number of topics and number of words associated with each topic\n",
        "    Purpose: create LSA model using gensim\n",
        "    Output : return LSA model\n",
        "    \"\"\"\n",
        "    dictionary,doc_term_matrix=prepare_corpus(doc_clean)\n",
        "    # generate LSA model\n",
        "    lsamodel = LsiModel(doc_term_matrix, num_topics=number_of_topics, id2word = dictionary)  # train model\n",
        "    print(lsamodel.print_topics(num_topics=number_of_topics, num_words=words))\n",
        "    return lsamodel"
      ],
      "execution_count": null,
      "outputs": []
    },
    {
      "cell_type": "code",
      "metadata": {
        "id": "Scpgh_FAbZZE"
      },
      "source": [
        "def compute_coherence_values(dictionary, doc_term_matrix, doc_clean, stop, start=2, step=3):\n",
        "    \"\"\"\n",
        "    Input   : dictionary : Gensim dictionary\n",
        "              corpus : Gensim corpus\n",
        "              texts : List of input texts\n",
        "              stop : Max num of topics\n",
        "    purpose : Compute c_v coherence for various number of topics\n",
        "    Output  : model_list : List of LSA topic models\n",
        "              coherence_values : Coherence values corresponding to the LDA model with respective number of topics\n",
        "    \"\"\"\n",
        "    coherence_values = []\n",
        "    model_list = []\n",
        "    for num_topics in range(start, stop, step):\n",
        "        # generate LSA model\n",
        "        model = LsiModel(doc_term_matrix, num_topics=number_of_topics, id2word = dictionary)  # train model\n",
        "        model_list.append(model)\n",
        "        coherencemodel = CoherenceModel(model=model, texts=doc_clean, dictionary=dictionary, coherence='c_v')\n",
        "        coherence_values.append(coherencemodel.get_coherence())\n",
        "    return model_list, coherence_values"
      ],
      "execution_count": null,
      "outputs": []
    },
    {
      "cell_type": "code",
      "metadata": {
        "id": "xxXJARHLbcwN"
      },
      "source": [
        "def plot_graph(doc_clean,start, stop, step):\n",
        "    dictionary,doc_term_matrix=prepare_corpus(doc_clean)\n",
        "    model_list, coherence_values = compute_coherence_values(dictionary, doc_term_matrix,doc_clean,\n",
        "                                                            stop, start, step)\n",
        "    # Show graph\n",
        "    x = range(start, stop, step)\n",
        "    plt.plot(x, coherence_values)\n",
        "    plt.xlabel(\"Number of Topics\")\n",
        "    plt.ylabel(\"Coherence score\")\n",
        "    plt.legend((\"coherence_values\"), loc='best')\n",
        "    plt.show()"
      ],
      "execution_count": null,
      "outputs": []
    },
    {
      "cell_type": "code",
      "metadata": {
        "colab": {
          "base_uri": "https://localhost:8080/"
        },
        "id": "VMKspYO7dCHJ",
        "outputId": "ab318acf-1056-42e4-a218-4bdc62ce797b"
      },
      "source": [
        "\n",
        "\n",
        "number_of_topics=7\n",
        "words=10\n",
        "document_list,titles=load_data(\"\",\"/content/Title_list.csv\")\n",
        "clean_text=preprocess_data(document_list)\n",
        "model=create_gensim_lsa_model(clean_text,number_of_topics,words)"
      ],
      "execution_count": null,
      "outputs": [
        {
          "output_type": "stream",
          "text": [
            "Total Number of Documents: 101\n",
            "[(0, '0.662*\"big\" + 0.569*\"data\" + 0.408*\"pdf\" + 0.148*\"challeng\" + 0.132*\"html\" + 0.102*\"manag\" + 0.080*\"compani\" + 0.063*\"revolut\" + 0.060*\"differ\" + 0.053*\"mine\"'), (1, '-0.780*\"pdf\" + 0.336*\"challeng\" + 0.329*\"html\" + 0.211*\"data\" + 0.194*\"big\" + -0.146*\"revolut\" + -0.133*\"differ\" + -0.116*\"manag\" + -0.111*\"compani\" + 0.085*\"opportun\"'), (2, '-0.656*\"html\" + 0.533*\"data\" + 0.283*\"mine\" + -0.261*\"challeng\" + -0.239*\"pdf\" + -0.165*\"big\" + 0.119*\"manag\" + 0.116*\"databas\" + 0.116*\"review\" + -0.087*\"compani\"'), (3, '-0.648*\"manag\" + -0.370*\"html\" + -0.349*\"revolut\" + 0.308*\"challeng\" + 0.247*\"opportun\" + 0.247*\"analysi\" + 0.219*\"compani\" + 0.190*\"differ\" + 0.120*\"pdf\" + -0.048*\"mine\"'), (4, '-0.551*\"challeng\" + -0.410*\"manag\" + -0.331*\"opportun\" + -0.331*\"analysi\" + -0.303*\"revolut\" + 0.223*\"html\" + 0.208*\"compani\" + 0.191*\"mine\" + 0.166*\"review\" + 0.166*\"databas\"'), (5, '-0.460*\"differ\" + 0.398*\"compani\" + -0.390*\"mine\" + 0.370*\"big\" + -0.298*\"html\" + -0.269*\"data\" + 0.234*\"review\" + 0.234*\"databas\" + 0.193*\"manag\" + -0.150*\"pdf\"'), (6, '-0.690*\"analysi\" + 0.690*\"opportun\" + -0.176*\"review\" + -0.073*\"differ\" + 0.073*\"mine\" + 0.073*\"compani\" + 0.029*\"databas\" + 0.000*\"revolut\" + -0.000*\"manag\" + 0.000*\"titl\"')]\n"
          ],
          "name": "stdout"
        }
      ]
    },
    {
      "cell_type": "markdown",
      "metadata": {
        "id": "iiikKhcidPvx"
      },
      "source": [
        ""
      ]
    },
    {
      "cell_type": "code",
      "metadata": {
        "colab": {
          "base_uri": "https://localhost:8080/",
          "height": 281
        },
        "id": "QBa_tT8jbc5U",
        "outputId": "1ce85ac0-b7d7-4d64-99e4-e55581f590f7"
      },
      "source": [
        "start,stop,step=2,12,1\n",
        "plot_graph(clean_text,start,stop,step)"
      ],
      "execution_count": null,
      "outputs": [
        {
          "output_type": "display_data",
          "data": {
            "image/png": "[encoded data removed]",
            "text/plain": [
              "<Figure size 432x288 with 1 Axes>"
            ]
          },
          "metadata": {
            "tags": [],
            "needs_background": "light"
          }
        }
      ]
    },
    {
      "cell_type": "code",
      "metadata": {
        "colab": {
          "base_uri": "https://localhost:8080/"
        },
        "id": "YLPE-WY2cHfs",
        "outputId": "b427b4ef-c6a8-4426-c757-723a287ed4d1"
      },
      "source": [
        "model=create_gensim_lsa_model(preprocess_data(data),number_of_topics,words)"
      ],
      "execution_count": null,
      "outputs": [
        {
          "output_type": "stream",
          "text": [
            "[(0, '0.674*\"big\" + 0.570*\"data\" + 0.363*\"pdf\" + 0.169*\"challeng\" + 0.153*\"html\" + 0.112*\"manag\" + 0.087*\"compani\" + 0.069*\"revolut\" + 0.060*\"mine\" + 0.047*\"analysi\"'), (1, '0.815*\"pdf\" + -0.232*\"data\" + -0.226*\"challeng\" + -0.213*\"html\" + 0.188*\"howbig\" + 0.188*\"datai\" + 0.188*\"differ\" + -0.181*\"big\" + 0.123*\"revolut\" + 0.097*\"compani\"'), (2, '0.685*\"html\" + -0.440*\"data\" + 0.374*\"challeng\" + -0.216*\"mine\" + -0.205*\"manag\" + 0.138*\"datai\" + 0.138*\"howbig\" + 0.138*\"differ\" + 0.122*\"big\" + 0.105*\"pdf\"'), (3, '-0.362*\"differ\" + -0.362*\"datai\" + -0.362*\"howbig\" + 0.341*\"manag\" + -0.314*\"challeng\" + -0.263*\"data\" + 0.250*\"html\" + 0.235*\"revolut\" + -0.219*\"analysi\" + -0.219*\"opportun\"'), (4, '-0.510*\"manag\" + -0.481*\"challeng\" + -0.355*\"revolut\" + 0.277*\"compani\" + -0.273*\"analysi\" + -0.273*\"opportun\" + 0.192*\"mine\" + 0.175*\"databas\" + 0.175*\"review\" + 0.168*\"big\"'), (5, '0.442*\"html\" + -0.424*\"compani\" + 0.359*\"manag\" + 0.256*\"mine\" + -0.239*\"challeng\" + 0.236*\"data\" + -0.230*\"analysi\" + -0.230*\"opportun\" + -0.222*\"big\" + 0.202*\"datai\"'), (6, '0.542*\"mine\" + -0.496*\"review\" + -0.496*\"databas\" + -0.199*\"manag\" + -0.182*\"big\" + 0.173*\"compani\" + -0.139*\"datai\" + -0.139*\"howbig\" + -0.139*\"differ\" + 0.131*\"pdf\"')]\n"
          ],
          "name": "stdout"
        }
      ]
    },
    {
      "cell_type": "code",
      "metadata": {
        "id": "QD8m2ow9eKKh"
      },
      "source": [
        ""
      ],
      "execution_count": null,
      "outputs": []
    },
    {
      "cell_type": "code",
      "metadata": {
        "colab": {
          "base_uri": "https://localhost:8080/",
          "height": 281
        },
        "id": "qO8FrG6FcHpi",
        "outputId": "8cd7ee19-c24d-4bf4-98ec-e025e0d4d6b0"
      },
      "source": [
        "from gensim.models import LsiModel\n",
        "def compute_lsa_coherence_values(dictionary, corpus, texts, limit, start=2, step=3):\n",
        "    coherence_values = []\n",
        "    model_list = []\n",
        "    for num_topics in range(start, limit, step):\n",
        "        model = LsiModel(corpus=corpus, id2word=id2word, num_topics=num_topics)\n",
        "        model_list.append(model)\n",
        "        coherencemodel = CoherenceModel(model=model, texts=texts, dictionary=dictionary, coherence='c_v')\n",
        "        coherence_values.append(coherencemodel.get_coherence())\n",
        "\n",
        "    return model_list, coherence_values\n",
        "\n",
        "lsa_model_list, lsa_coherence_values = compute_lsa_coherence_values(dictionary=id2word, corpus=corpus, texts=data_lemmatized, start=2, limit=20, step=1)\n",
        "\n",
        "\n",
        "# Graph of Coherence Score against Number of Topics \n",
        "start=2; limit=20; step=1;\n",
        "x = range(start, limit, step)\n",
        "plt.plot(x, lsa_coherence_values)\n",
        "plt.xlabel(\"Num Topics\")\n",
        "plt.ylabel(\"Coherence score\")\n",
        "plt.legend((\"coherence_values\"), loc='best')\n",
        "plt.show()"
      ],
      "execution_count": null,
      "outputs": [
        {
          "output_type": "display_data",
          "data": {
            "image/png": "[encoded data removed]",
            "text/plain": [
              "<Figure size 432x288 with 1 Axes>"
            ]
          },
          "metadata": {
            "tags": [],
            "needs_background": "light"
          }
        }
      ]
    },
    {
      "cell_type": "code",
      "metadata": {
        "colab": {
          "base_uri": "https://localhost:8080/"
        },
        "id": "6lecJrTPcMmU",
        "outputId": "0d132b3d-f0fe-42ab-bd0b-32a3e8455ce0"
      },
      "source": [
        "lsamodel = LsiModel(corpus=corpus, id2word=id2word, num_topics=2)\n",
        "\n",
        "# EXAMINING THE RESULTS\n",
        "\n",
        "from pprint import pprint\n",
        "print('The topics using LSA Model are:')\n",
        "pprint(lsamodel.print_topics())\n",
        "\n",
        "# Compute Coherence Score\n",
        "coherence_model_lsa = CoherenceModel(model=lsamodel, texts=data_lemmatized, dictionary=id2word, coherence='c_v')\n",
        "coherence_lsa = coherence_model_lsa.get_coherence()\n",
        "print('Coherence Score:', coherence_lsa)"
      ],
      "execution_count": null,
      "outputs": [
        {
          "output_type": "stream",
          "text": [
            "The topics using LSA Model are:\n",
            "[(0,\n",
            "  '-0.757*\"big\" + -0.577*\"datum\" + -0.246*\"challenge\" + -0.095*\"company\" + '\n",
            "  '-0.087*\"mine\" + -0.072*\"analysis\" + -0.072*\"opportunitie\" + '\n",
            "  '-0.061*\"database\" + -0.035*\"review\" + -0.035*\"management\"'),\n",
            " (1,\n",
            "  '-0.644*\"datum\" + 0.522*\"big\" + -0.365*\"mine\" + 0.249*\"review\" + '\n",
            "  '0.249*\"management\" + 0.191*\"company\" + -0.081*\"analysis\" + '\n",
            "  '-0.081*\"opportunitie\" + -0.058*\"database\" + -0.047*\"challenge\"')]\n",
            "Coherence Score: 0.6358211005797478\n"
          ],
          "name": "stdout"
        }
      ]
    },
    {
      "cell_type": "markdown",
      "metadata": {
        "id": "SsR0HluHWcCZ"
      },
      "source": [
        "## (3) (4 points) Compare the results generated by the two topic modeling algorithms, which one is better? You should explain the reasons in details."
      ]
    },
    {
      "cell_type": "markdown",
      "metadata": {
        "id": "4Q_JHsuB9ztu"
      },
      "source": [
        "Topic modeling provides us with valuable ways to accomplish document clustering, textual data organizing,  feature selection understanding.\n",
        "And summarize huge collections of textual information.\n",
        "\n",
        "LDA is a technique used to obtain topic models. It's objective modeling to generate words based on their probability distribution and explain why some data parts are similar. The process of the LDA model depends on creating the dictionary and the Collection of topic numbers. \n",
        "On the other hand, LSA is a second technique used to obtain topics models in this assignment. LSA performs a topic document matrix analysis on documents and terms. LSA  focuses on a dimensional reduction technology. It depends on a subject-related scale, which is a realistic measure of the number of subjects.\n",
        "From the above results, In my opinion, the LDA gives better and more understandable results with more topics than LSA. "
      ]
    }
  ]
}