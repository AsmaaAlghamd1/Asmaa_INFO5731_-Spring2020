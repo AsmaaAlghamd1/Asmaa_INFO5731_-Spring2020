{
  "nbformat": 4,
  "nbformat_minor": 0,
  "metadata": {
    "colab": {
      "name": "Alghamdi_In class_exercise 1.ipynb",
      "provenance": [],
      "collapsed_sections": [],
      "include_colab_link": true
    },
    "kernelspec": {
      "display_name": "Python 3",
      "language": "python",
      "name": "python3"
    },
    "language_info": {
      "codemirror_mode": {
        "name": "ipython",
        "version": 3
      },
      "file_extension": ".py",
      "mimetype": "text/x-python",
      "name": "python",
      "nbconvert_exporter": "python",
      "pygments_lexer": "ipython3",
      "version": "3.7.4"
    }
  },
  "cells": [
    {
      "cell_type": "markdown",
      "metadata": {
        "id": "view-in-github",
        "colab_type": "text"
      },
      "source": [
        "<a href=\"https://colab.research.google.com/github/AsmaaAlghamd1/Asmaa_INFO5731_-Spring2020/blob/main/Alghamdi_In_class_exercise_1.ipynb\" target=\"_parent\"><img src=\"https://colab.research.google.com/assets/colab-badge.svg\" alt=\"Open In Colab\"/></a>"
      ]
    },
    {
      "cell_type": "markdown",
      "metadata": {
        "id": "DymRJbxDBCnf"
      },
      "source": [
        "# **The first In-class-exercise (1/19/2021, 20 points in total)**"
      ]
    },
    {
      "cell_type": "markdown",
      "metadata": {
        "id": "03jb4GZsBkBS"
      },
      "source": [
        "(1) Write a Python program to calculate the length of a string. (2 points)"
      ]
    },
    {
      "cell_type": "code",
      "metadata": {
        "id": "YaGLbSHHB8Ej",
        "colab": {
          "base_uri": "https://localhost:8080/"
        },
        "outputId": "5a0285a3-fab2-4ab7-8d53-d2cbb3d66c04"
      },
      "source": [
        "# write your answer here\n",
        "x= \"My name is asmaa\"\n",
        "print(len(x))"
      ],
      "execution_count": null,
      "outputs": [
        {
          "output_type": "stream",
          "text": [
            "16\n"
          ],
          "name": "stdout"
        }
      ]
    },
    {
      "cell_type": "code",
      "metadata": {
        "colab": {
          "base_uri": "https://localhost:8080/"
        },
        "id": "Q6w7yT7Scb58",
        "outputId": "21c10f60-5ff8-4ecf-e8b5-46693e9c72ca"
      },
      "source": [
        "def length_string(s):\n",
        "    count = 0\n",
        "    for string in s:\n",
        "        count += 1\n",
        "    return count\n",
        "print(length_string('my name is asmaa'))"
      ],
      "execution_count": null,
      "outputs": [
        {
          "output_type": "stream",
          "text": [
            "16\n"
          ],
          "name": "stdout"
        }
      ]
    },
    {
      "cell_type": "markdown",
      "metadata": {
        "id": "jJDe71iLB616"
      },
      "source": [
        "(2) Write a Python program to count the number of characters in a string. (2 points)\n",
        "\n",
        "Sample String : 'google.com‘, \n",
        "\n",
        "Expected Result : {'o': 3, 'g': 2, '.': 1, 'e': 1, 'l': 1, 'm': 1, 'c': 1}"
      ]
    },
    {
      "cell_type": "code",
      "metadata": {
        "colab": {
          "base_uri": "https://localhost:8080/"
        },
        "id": "tY9aQ0tUdFxx",
        "outputId": "4bf931bf-480a-4508-8487-b96225245aa0"
      },
      "source": [
        "def char_number(string):\n",
        "    dict = {}\n",
        "    for s in string:\n",
        "        keys = dict.keys()\n",
        "        if s in keys:\n",
        "            dict[s] += 1\n",
        "        else:\n",
        "            dict[s] = 1\n",
        "    return dict\n",
        "print(char_number('google.com'))"
      ],
      "execution_count": null,
      "outputs": [
        {
          "output_type": "stream",
          "text": [
            "{'g': 2, 'o': 3, 'l': 1, 'e': 1, '.': 1, 'c': 1, 'm': 1}\n"
          ],
          "name": "stdout"
        }
      ]
    },
    {
      "cell_type": "markdown",
      "metadata": {
        "id": "55W9AMdXCSpV"
      },
      "source": [
        "(3) Write a Python program to sum all the items in a list. (2 points)"
      ]
    },
    {
      "cell_type": "code",
      "metadata": {
        "colab": {
          "base_uri": "https://localhost:8080/"
        },
        "id": "nstMZJ-5fPAH",
        "outputId": "7e6ea914-621e-4fba-efa1-432ab25e9ee7"
      },
      "source": [
        "def Sum(numbers):\n",
        "    start = 0\n",
        "    for x in numbers:\n",
        "        start += x\n",
        "    return start\n",
        "print(sum([2,4,8]))"
      ],
      "execution_count": null,
      "outputs": [
        {
          "output_type": "stream",
          "text": [
            "14\n"
          ],
          "name": "stdout"
        }
      ]
    },
    {
      "cell_type": "code",
      "metadata": {
        "id": "I57NXsauCec2",
        "colab": {
          "base_uri": "https://localhost:8080/"
        },
        "outputId": "0f79efd0-8c7d-48bc-bd8b-3d1a85aaec25"
      },
      "source": [
        "S=[1,2,3, 4,5]\n",
        "print(Sum(S))"
      ],
      "execution_count": null,
      "outputs": [
        {
          "output_type": "stream",
          "text": [
            "15\n"
          ],
          "name": "stdout"
        }
      ]
    },
    {
      "cell_type": "markdown",
      "metadata": {
        "id": "4ulBZ6yhCi9F"
      },
      "source": [
        "(4) Write a Python program to get a string from a given string where all occurrences of its first char have been changed to '\\$', except the first char itself. (2 points)\n",
        "\n",
        "Sample String : 'restart‘, \n",
        "\n",
        "Expected Result : 'resta\\$t'"
      ]
    },
    {
      "cell_type": "code",
      "metadata": {
        "id": "Fj0XhwbBCw2o",
        "colab": {
          "base_uri": "https://localhost:8080/"
        },
        "outputId": "12f2827e-4051-40c5-a6da-e401f66d1c7c"
      },
      "source": [
        "def Sub_String(fstring):\n",
        "  char = fstring[5]\n",
        "  fstring = fstring.replace(char, '$')\n",
        "  fstring = char + fstring[1:]\n",
        "\n",
        "  return fstring\n",
        "\n",
        "print(Sub_String('restart'))\n"
      ],
      "execution_count": 73,
      "outputs": [
        {
          "output_type": "stream",
          "text": [
            "resta$t\n"
          ],
          "name": "stdout"
        }
      ]
    },
    {
      "cell_type": "code",
      "metadata": {
        "id": "nrQQCQyXh1h6"
      },
      "source": [
        ""
      ],
      "execution_count": null,
      "outputs": []
    },
    {
      "cell_type": "markdown",
      "metadata": {
        "id": "_bIP7s1MCzue"
      },
      "source": [
        "(5) Write a program with python which could accept two parameter a and b to calculate and output the result of S, where \n",
        "\n",
        "$\\ S=3.14*(1+a/b)^3$ (3 points)\n",
        "\n"
      ]
    },
    {
      "cell_type": "code",
      "metadata": {
        "colab": {
          "base_uri": "https://localhost:8080/"
        },
        "id": "EVZUZDVeuHOO",
        "outputId": "94e8401f-0cf1-4e5a-d70c-987fcb265b1f"
      },
      "source": [
        "a = float(input (\"Input the the value of a  : \"))\n",
        "b = float(input (\"Input the the value of b  : \"))\n",
        "pi = 3.1415933\n",
        "S= pi * (1+a/b)**3\n",
        "print(S)"
      ],
      "execution_count": 77,
      "outputs": [
        {
          "output_type": "stream",
          "text": [
            "Input the the value of a  : 2\n",
            "Input the the value of b  : 3\n",
            "14.544413425925919\n"
          ],
          "name": "stdout"
        }
      ]
    },
    {
      "cell_type": "markdown",
      "metadata": {
        "id": "xCa2bK9aD4Q3"
      },
      "source": [
        "(6) Write a Python program to concatenate following dictionaries to create a new one. (3 points)\n",
        "\n",
        "Sample Dictionary : dic1={1:10, 2:20}, dic2={3:30, 4:40}, dic3={5:50,6:60}, \n",
        "\n",
        "Expected Result : {1: 10, 2: 20, 3: 30, 4: 40, 5: 50, 6: 60}\n"
      ]
    },
    {
      "cell_type": "code",
      "metadata": {
        "id": "_z4aLqAbEET1",
        "colab": {
          "base_uri": "https://localhost:8080/"
        },
        "outputId": "899cafa9-8847-4e77-ccd8-34200f4a0a38"
      },
      "source": [
        "dic1={1:10,2:20}\n",
        "dic2={3:30,4:40}\n",
        "dic3={5:50,6:60}\n",
        "Newdic = {}\n",
        "for d in (dic1, dic2, dic3): \n",
        "  Newdic.update(d)\n",
        "print(Newdic)\n"
      ],
      "execution_count": 78,
      "outputs": [
        {
          "output_type": "stream",
          "text": [
            "{1: 10, 2: 20, 3: 30, 4: 40, 5: 50, 6: 60}\n"
          ],
          "name": "stdout"
        }
      ]
    },
    {
      "cell_type": "markdown",
      "metadata": {
        "id": "0v48Vqa7FrQh"
      },
      "source": [
        "(7) Write a Python program to check whether an element exists within a tuple. (3 points)"
      ]
    },
    {
      "cell_type": "code",
      "metadata": {
        "id": "7WEmgq-DF2P1",
        "colab": {
          "base_uri": "https://localhost:8080/"
        },
        "outputId": "01107022-f97a-4d8a-e310-485775f80356"
      },
      "source": [
        "\n",
        "X = (1,3,0,6)\n",
        "element = 2\n",
        "if element in X:\n",
        "    print(element,\" is existing in tuple\")\n",
        "else:\n",
        "    print(element,\"is not existing intuple\")\n"
      ],
      "execution_count": null,
      "outputs": [
        {
          "output_type": "stream",
          "text": [
            "2 is not existing  in tuple\n"
          ],
          "name": "stdout"
        }
      ]
    },
    {
      "cell_type": "markdown",
      "metadata": {
        "id": "vD5PYLMuGga_"
      },
      "source": [
        "(8) Write a Python program to find maximum and the minimum value in a set. (3 points)"
      ]
    },
    {
      "cell_type": "code",
      "metadata": {
        "id": "t0D5kdJUGjjw",
        "colab": {
          "base_uri": "https://localhost:8080/"
        },
        "outputId": "89c50f7f-a5e7-403f-c69b-e718f7448f58"
      },
      "source": [
        "S=[1,2,3, 4,5]\n",
        "print(max(S),'is the maximum number')\n",
        "print(min(S),'is the minimum number')"
      ],
      "execution_count": null,
      "outputs": [
        {
          "output_type": "stream",
          "text": [
            "5 is the maximum number\n",
            "1 is the minimum number\n"
          ],
          "name": "stdout"
        }
      ]
    },
    {
      "cell_type": "markdown",
      "metadata": {
        "id": "uHkd-y5VhVWC"
      },
      "source": [
        "(9) Write a Python program to randomly divide the students in this class into five groups for term projects, each group should have at least 3 students but no more than 5 students (including 5). Here is the students list: (3 points for extra)\n",
        "\n",
        "studnet_list = ['vmb0067','pc0353','snd0097','yye0005','sg0940','bk0301','rak0120','rrk0058','spk0057','vl0135','nm0547','pn0159',\n",
        "                'msp0174','dd0420','ds0761','rs0850','ss1995','at0739','at0768','mv0299','tv0119','dy0091']"
      ]
    },
    {
      "cell_type": "code",
      "metadata": {
        "id": "3iGbmcOBhTwy",
        "colab": {
          "base_uri": "https://localhost:8080/"
        },
        "outputId": "7bf00d2a-cdff-470a-9f46-fa561b854a58"
      },
      "source": [
        "import random\n",
        "student_Eud = ['vmb0067','pc0353','snd0097','yye0005','sg0940','bk0301','rak0120','rrk0058','spk0057','vl0135','nm0547','pn0159', 'msp0174','dd0420','ds0761','rs0850','ss1995','at0739','at0768','mv0299','tv0119','dy0091']\n",
        "Group_range  = []\n",
        "\n",
        "for i in range(5):\n",
        "  Group_range .append(random.randint(3,5))\n",
        "\n",
        "  \n",
        "print(\"students' list is:\", student_Eud )\n",
        "print(\" Group Range: \", Group_range )\n",
        "from itertools import islice\n",
        "\n",
        "\n",
        "Input = iter(student_list)\n",
        "Output  = [list(islice(Input, elem)) for elem in Group_range ]\n",
        "print(\"List after splitting\", Output)"
      ],
      "execution_count": 21,
      "outputs": [
        {
          "output_type": "stream",
          "text": [
            "students' list is: ['vmb0067', 'pc0353', 'snd0097', 'yye0005', 'sg0940', 'bk0301', 'rak0120', 'rrk0058', 'spk0057', 'vl0135', 'nm0547', 'pn0159', 'msp0174', 'dd0420', 'ds0761', 'rs0850', 'ss1995', 'at0739', 'at0768', 'mv0299', 'tv0119', 'dy0091']\n",
            " Group Range:  [3, 5, 5, 3, 3]\n",
            "List after splitting [['vmb0067', 'pc0353', 'snd0097'], ['yye0005', 'sg0940', 'bk0301', 'rak0120', 'rrk0058'], ['spk0057', 'vl0135', 'nm0547', 'pn0159', 'msp0174'], ['dd0420', 'ds0761', 'rs0850'], ['ss1995', 'at0739', 'at0768']]\n"
          ],
          "name": "stdout"
        }
      ]
    }
  ]
}