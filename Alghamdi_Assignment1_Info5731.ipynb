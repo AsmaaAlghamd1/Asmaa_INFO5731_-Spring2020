{
  "nbformat": 4,
  "nbformat_minor": 0,
  "metadata": {
    "colab": {
      "name": "Alghamdi_Assignment1_Info5731.ipynb",
      "provenance": [],
      "collapsed_sections": [],
      "include_colab_link": true
    },
    "kernelspec": {
      "display_name": "Python 3",
      "language": "python",
      "name": "python3"
    },
    "language_info": {
      "codemirror_mode": {
        "name": "ipython",
        "version": 3
      },
      "file_extension": ".py",
      "mimetype": "text/x-python",
      "name": "python",
      "nbconvert_exporter": "python",
      "pygments_lexer": "ipython3",
      "version": "3.7.4"
    }
  },
  "cells": [
    {
      "cell_type": "markdown",
      "metadata": {
        "id": "view-in-github",
        "colab_type": "text"
      },
      "source": [
        "<a href=\"https://colab.research.google.com/github/AsmaaAlghamd1/Asmaa_INFO5731_-Spring2021/blob/main/Alghamdi_Assignment1_Info5731.ipynb\" target=\"_parent\"><img src=\"https://colab.research.google.com/assets/colab-badge.svg\" alt=\"Open In Colab\"/></a>"
      ]
    },
    {
      "cell_type": "markdown",
      "metadata": {
        "id": "Ryk8D1Q4Wsrp"
      },
      "source": [
        "# **INFO5731 Assignment One**"
      ]
    },
    {
      "cell_type": "markdown",
      "metadata": {
        "id": "90_NR8c5XGWc"
      },
      "source": [
        "# Question 1\n",
        "\n",
        "(20 points). Write a Python program to generate 12 random numbers between 1 and 100. Sort the list of numbers in ascending order and print it out. Sort the list of numbers in descending order and print it out. Calculate the average for the group and print it out."
      ]
    },
    {
      "cell_type": "code",
      "metadata": {
        "id": "5QX6bJjGWXY9",
        "colab": {
          "base_uri": "https://localhost:8080/"
        },
        "outputId": "18e5b16b-e72a-49a4-9358-03f90ad18ad8"
      },
      "source": [
        "import random\n",
        "import numpy\n",
        "\n",
        "list1 = random.sample(range(1, 100), 12)\n",
        "print (\"Generating 12 random numbers between 1 and 100:\")\n",
        "\n",
        "print (list1)\n",
        "print('-------------')\n",
        "\n",
        "Asc_list1 = sorted(list1, reverse= False) \n",
        "print('The list of numbers in Ascending order',Asc_list1 )\n",
        "print('-------------')\n",
        "\n",
        "Dsc_list1 = sorted(list1, reverse= True) \n",
        "print('The list of numbers in Descending order',Dsc_list1 )\n",
        "print('-------------')\n",
        "\n",
        "\n",
        "Avg_Asc = numpy.mean(Asc_list1)\n",
        "Avg_Dsc = numpy.mean(Dsc_list1)\n",
        "print (\"Average of list of numbers in Ascending order: \", Avg_Asc)\n",
        "print (\"Average of list of numbers in Descending order\", Avg_Dsc)\n",
        "\n",
        "\n",
        "\n"
      ],
      "execution_count": 231,
      "outputs": [
        {
          "output_type": "stream",
          "text": [
            "Generating 12 random numbers between 1 and 100:\n",
            "[75, 98, 58, 20, 49, 9, 47, 50, 56, 83, 64, 51]\n",
            "-------------\n",
            "The list of numbers in Ascending order [9, 20, 47, 49, 50, 51, 56, 58, 64, 75, 83, 98]\n",
            "-------------\n",
            "The list of numbers in Descending order [98, 83, 75, 64, 58, 56, 51, 50, 49, 47, 20, 9]\n",
            "-------------\n",
            "Average of list of numbers in Ascending order:  55.0\n",
            "Average of list of numbers in Descending order 55.0\n"
          ],
          "name": "stdout"
        }
      ]
    },
    {
      "cell_type": "markdown",
      "metadata": {
        "id": "1F_PZdH9Sh49"
      },
      "source": [
        "# Question 2\n",
        "(25 points). Write a program that will do the following string formatting tasks:\n",
        "\n",
        "(1) Ask the user to enter two sentences.\n",
        "\n",
        "(2) Make each sentence into a list. Each element in the list should correspond to a word in the sentence. For example, if the sentence is \"Alas! Am I alive? This is my first python program\", the program should print out ['Alas, '!', 'Am', 'I', 'alive, '?', 'This', 'is', 'my', 'first', 'python', 'program'].\n",
        "\n",
        "(3) Compare the two sentences. Print out a list of words that occur in both sentences.\n",
        "\n",
        "(4) Remove any punctuation from the sentence and print it back out. It should remove at least the following characters, but it can remove more: period(“.”), comma (“,”), semicolon (“;”), and colon (“:”)\n",
        "\n",
        "(5) Count the number of vowels in the sentences. Print out each vowel and the number of times it appears in the sentences, such as: a:2, e:1, i:0, etc"
      ]
    },
    {
      "cell_type": "code",
      "metadata": {
        "colab": {
          "base_uri": "https://localhost:8080/"
        },
        "id": "FsHopaoW9qDH",
        "outputId": "66424ed2-ddd0-4d73-bc3e-db2a59b529e9"
      },
      "source": [
        "# 1 and 2\n",
        "X= input('Please Enter first sentence:')\n",
        "Sent1=X.split()\n",
        "print(Sent1)\n",
        "Y= input('Please Enter second  sentence:')\n",
        "Sent2=Y.split()\n",
        "print(Sent2)\n",
        "\n",
        "# Compare the two sentences.\n",
        "print('-------------')\n",
        "def commonItems(Sen1, Sen2):\n",
        "    Set1= set(Sent1)\n",
        "    Set2= set(Sent2)\n",
        "    common = list(Set1 & Set2)  ### get set intersection and convert to a list\n",
        "    print(\"Your two sentences  have\", len(common), \"items in common.\")\n",
        "    print(\"Here are the list of common words:\")\n",
        "    print(common)\n",
        "\n",
        "commonItems(Sent1, Sent2)\n",
        "print('-------------')\n",
        "\n",
        "# Removing punctuations in sentences\n",
        "\n",
        "import re \n",
        "import string\t\n",
        "import nltk\t\n",
        "\t\t\t\t\n",
        " \n",
        "NoPunc_1=[word for word in Sent1 if word not in string.punctuation]\n",
        "NoPunc_2=[word for word in Sent2 if word not in string.punctuation]\n",
        "print(\"your First sentence without the punctuations is : \",NoPunc_1)\n",
        "print(\"your Second sentence without the punctuations is : \",NoPunc_2)\n",
        "print('-------------')\n",
        "\n",
        "#Count the number of vowels in the sentences\n",
        "def vowels_fre (list):\n",
        "  vowels=['a','e','i','o','u']\n",
        "  Start={}\n",
        "  for V in vowels:\n",
        "    for word in list:\n",
        "      if V in word:\n",
        "        Start[V]=Start.get(V,0)+1\n",
        "  return Start\n",
        "\n",
        "vowels_fre(Sent1)\n",
        "vowels_fre(Sent2)"
      ],
      "execution_count": 234,
      "outputs": [
        {
          "output_type": "stream",
          "text": [
            "Please Enter first sentence:My name is Asmaa Alghamdi\n",
            "['My', 'name', 'is', 'Asmaa', 'Alghamdi']\n",
            "Please Enter second  sentence:My daughters name are Dyala and Elena\n",
            "['My', 'daughters', 'name', 'are', 'Dyala', 'and', 'Elena']\n",
            "-------------\n",
            "Your two sentences  have 2 items in common.\n",
            "Here are the list of common words:\n",
            "['My', 'name']\n",
            "-------------\n",
            "your First sentence without the punctuations is :  ['My', 'name', 'is', 'Asmaa', 'Alghamdi']\n",
            "your Second sentence without the punctuations is :  ['My', 'daughters', 'name', 'are', 'Dyala', 'and', 'Elena']\n",
            "-------------\n"
          ],
          "name": "stdout"
        },
        {
          "output_type": "execute_result",
          "data": {
            "text/plain": [
              "{'a': 6, 'e': 4, 'u': 1}"
            ]
          },
          "metadata": {
            "tags": []
          },
          "execution_count": 234
        }
      ]
    },
    {
      "cell_type": "code",
      "metadata": {
        "id": "VeZDOeGCgOk8"
      },
      "source": [
        ""
      ],
      "execution_count": null,
      "outputs": []
    },
    {
      "cell_type": "markdown",
      "metadata": {
        "id": "CmFoI4jDS9nx"
      },
      "source": [
        "# Question 3 \n",
        "\n",
        "(15 points). The formula that describes the volume V of a sphere with radius r is the following:\n",
        "\n",
        "$ V=\\frac{4}{3}\\ast\\ \\pi\\ast\\ r^3 $\n",
        "\n",
        "Write a program to calculate the value of V when r is in the range of 1–10. Output the result in the following format:\n",
        "\n",
        "\tr\tV\n",
        "\t1\t…\n",
        "\t2\t…\n",
        "\t3\t…\n"
      ]
    },
    {
      "cell_type": "code",
      "metadata": {
        "colab": {
          "base_uri": "https://localhost:8080/"
        },
        "id": "uwI_Ce-lVsZP",
        "outputId": "a7d00790-88e0-4dd5-da49-7aab63d14d7c"
      },
      "source": [
        "import math\n",
        "print(\"r\"+\"\\t\\t\\t\"+\"V\")\n",
        "for r in range(1,10):\n",
        "  if r <=10:\n",
        "    V=(4/3)*math.pi*(r**3)\n",
        "  print(str(r)+\"\\t\\t\"+str(V))\n",
        "  print(\"\\n\")"
      ],
      "execution_count": null,
      "outputs": [
        {
          "output_type": "stream",
          "text": [
            "r\t\t\tV\n",
            "1\t\t4.1887902047863905\n",
            "\n",
            "\n",
            "2\t\t33.510321638291124\n",
            "\n",
            "\n",
            "3\t\t113.09733552923254\n",
            "\n",
            "\n",
            "4\t\t268.082573106329\n",
            "\n",
            "\n",
            "5\t\t523.5987755982989\n",
            "\n",
            "\n",
            "6\t\t904.7786842338603\n",
            "\n",
            "\n",
            "7\t\t1436.7550402417319\n",
            "\n",
            "\n",
            "8\t\t2144.660584850632\n",
            "\n",
            "\n",
            "9\t\t3053.6280592892786\n",
            "\n",
            "\n"
          ],
          "name": "stdout"
        }
      ]
    },
    {
      "cell_type": "markdown",
      "metadata": {
        "id": "z3tBE7E-Xn5X"
      },
      "source": [
        "# Question 4\n",
        "\n",
        "(40 points). In the field of Data Science, data is often formatted as a comma-delimited (CSV) file, where each line in a file corresponds to a field's value. Refer to Chapter 9 (p. 106) for more information on comma-delimited files. To answer this question, you will need to download the file [Assignment1_denton_housing.csv](https://github.com/unt-iialab/INFO5731_Spring2020/blob/master/Assignments/Assignment1_denton_housing.csv) included with this assignment. The [file Assignment1_denton_housing.csv](https://github.com/unt-iialab/INFO5731_Spring2020/blob/master/Assignments/Assignment1_denton_housing.csv) contains statistics about housing in the city of Denton from 2008 to 2014. Write a program to implement the following questions.\n",
        "\n",
        "(1) (10 pts) Calculate the difference in the number of Occupied Housing Units from year to year and print it. The difference must be calculated for the consecutive years such as 2008-2009, 2009-2010 etc. Finally, print the values in the ascending order.\n",
        "\n",
        "(2) (10 pts) For all the years, calculate the percentage of housing units which are vacant an occupied. Print the results in the following format:\n",
        "\n",
        "Year Vacant Housing Units Occupied Housing Units\n",
        "\n",
        "    2008  30%   70%                          \n",
        "\t2009 ----- -----\n",
        "\t2010 ----- -----\n",
        "    2011 ----- -----\n",
        "\t2012 ----- -----\n",
        "    2013 ----- -----\n",
        "\t2014 ----- -----\n",
        "  \n",
        "  \n",
        "\n",
        "(3) (10 pts) Calculate and print the valued and years in which the highest number of housing units were vacant and occupied. Print the results in the following format:  \n",
        "\n",
        "                              Year\tValue\n",
        "\tVacant Housing Units\t  -----   -----\n",
        "\tOccupied Housing Units\t-----   -----\n",
        "\n",
        "(4) (10 pts) Calculate the harmonic mean of the total housing units and print it out. You can find the information about harmonic mean here: https://ncalculators.com/statistics/harmonic-mean-calculator.htm"
      ]
    },
    {
      "cell_type": "code",
      "metadata": {
        "colab": {
          "base_uri": "https://localhost:8080/"
        },
        "id": "RIE6tI2CdXiV",
        "outputId": "d5281736-395c-4a5b-a67a-922c3ac1956e"
      },
      "source": [
        "#1)Calculate the difference in the number of Occupied Housing Units \n",
        "#from year to year and print it. \n",
        "\n",
        "import csv\n",
        "Occupied_Housing ={}\n",
        "DiffUnit = {}\n",
        "with open(\"/content/Assignment1_denton_housing.csv\",'r')as Myfile:\n",
        "    FileR = csv.reader(Myfile)\n",
        "    for x in FileR: \n",
        "        if x[1] == \"Occupied Housing Units\": \n",
        "            Occupied_Housing[int(x[0])] = int(x[2])\n",
        "print(\"Year period\", \"\\t\\t\", \"Difference in the number of Occupied Housing Units\")\n",
        "Y = 2008 \n",
        "while Y < 2014:\n",
        "    DiffUnit[Occupied_Housing[Y+1]-Occupied_Housing[Y]] = str(Y)+\"-\"+str(Y+1)\n",
        "    Y+=1 \n",
        "for c in DiffUnit:\n",
        "  print(DiffUnit[c]+\"\\t\\t\\t\",c)\n",
        "    "
      ],
      "execution_count": null,
      "outputs": [
        {
          "output_type": "stream",
          "text": [
            "Year period \t\t Difference in the number of Occupied Housing Units\n",
            "2008-2009\t\t\t -795\n",
            "2009-2010\t\t\t 5091\n",
            "2010-2011\t\t\t -303\n",
            "2011-2012\t\t\t 1404\n",
            "2012-2013\t\t\t 1565\n",
            "2013-2014\t\t\t 2622\n"
          ],
          "name": "stdout"
        }
      ]
    },
    {
      "cell_type": "code",
      "metadata": {
        "id": "-da-xGkqrsiv"
      },
      "source": [
        ""
      ],
      "execution_count": null,
      "outputs": []
    },
    {
      "cell_type": "code",
      "metadata": {
        "colab": {
          "base_uri": "https://localhost:8080/"
        },
        "id": "dEwfKNZ-qb9F",
        "outputId": "c4a5d242-9602-410e-9e23-b8b77166e4df"
      },
      "source": [
        "##2) For all the years,calculate the percentage of housing units which are vacant an occupied.\n",
        "import csv\n",
        "housing_total ={}\n",
        "\n",
        "housing_occupied = {}\n",
        "housing_vacant = {}\n",
        "print(\"Year \\t Vacant Housing Units \\t Occupied Housing Units\")\n",
        "\n",
        "with open(\"/content/Assignment1_denton_housing.csv\",'r') as Myfile:\n",
        "  FileR = csv.reader(Myfile)\n",
        "  for data in FileR:\n",
        "    if data [1] == \"Total Housing Units\":\n",
        "      housing_total[int(data[0])] = int(data[2])\n",
        "    \n",
        "    elif data [1] == \"Occupied Housing Units\": \n",
        "        housing_occupied[int(data[0])] = int(data[2])\n",
        "\n",
        "    elif data [1] == \"Vacant Housing Units\": \n",
        "       housing_vacant[int(data[0])] = int(data[2])\n",
        "    pass\n",
        "        \n",
        "Y= 2008 \n",
        "while Y <= 2014: \n",
        "    vacant_percent = (housing_vacant[Y]/housing_total[Y])*100\n",
        "    occupied_percent = (housing_occupied[Y]/housing_total[Y])*100\n",
        "\n",
        "    print(str(Y)+\"\\t\\t\"+str(round(vacant_percent,1))+\"%\\t\\t\\t\"+str(round(occupied_percent,1))+\"%\")\n",
        "    Y+=1"
      ],
      "execution_count": 189,
      "outputs": [
        {
          "output_type": "stream",
          "text": [
            "Year \t Vacant Housing Units \t Occupied Housing Units\n",
            "2008\t\t10.9%\t\t\t89.1%\n",
            "2009\t\t9.1%\t\t\t90.9%\n",
            "2010\t\t8.1%\t\t\t91.9%\n",
            "2011\t\t9.4%\t\t\t90.6%\n",
            "2012\t\t6.7%\t\t\t93.3%\n",
            "2013\t\t8.8%\t\t\t91.2%\n",
            "2014\t\t5.7%\t\t\t94.3%\n"
          ],
          "name": "stdout"
        }
      ]
    },
    {
      "cell_type": "code",
      "metadata": {
        "colab": {
          "base_uri": "https://localhost:8080/"
        },
        "id": "nfmMbWI4uaAW",
        "outputId": "9ec3bb72-9723-4334-ed90-6dc72dbb4166"
      },
      "source": [
        "#3) Calculate and print the valued and years in which the highest number \n",
        "# of housing units were vacant and occupied\n",
        "\n",
        "\n",
        "with open(\"/content/Assignment1_denton_housing.csv\",'r') as Myfile:\n",
        "  FileR = csv.reader(Myfile)\n",
        "  Vac={}\n",
        "  Occ={}\n",
        "  i=0\n",
        "  for data in FileR:\n",
        "    if data[1] ==\"Vacant Housing Units\":\n",
        "      Vac[int(data[0])]=int(data[2])\n",
        "    elif data[1] == \"Occupied Housing Units\":\n",
        "        Occ[int(data[0])] = int(data[2])\n",
        "NewVac=[(value,key) for key, value in Vac.items()]\n",
        "NewOcc=[(value, key) for key, value in Occ.items()]\n",
        "MaxVac= max(NewVac)\n",
        "MaxOcc= max(NewOcc)\n",
        "\n",
        "\n",
        "print(\"\\t\\t\\t\", \"Year\",\"\\t\", \"Value\")\n",
        "print(\"Vacant Housing Units\", \"\\t\", MaxVac[1],\"\\t\", MaxVac[0])\n",
        "print(\"Occupied Housing Units\", \"\\t\", MaxOcc[1],\"\\t\", MaxOcc[0]) \n"
      ],
      "execution_count": 218,
      "outputs": [
        {
          "output_type": "stream",
          "text": [
            "\t\t\t Year \t Value\n",
            "Vacant Housing Units \t 2008 \t 4483\n",
            "Occupied Housing Units \t 2014 \t 46295\n"
          ],
          "name": "stdout"
        }
      ]
    },
    {
      "cell_type": "code",
      "metadata": {
        "id": "ye_jCAihJ2sI"
      },
      "source": [
        "##4) Calculate the harmonic mean of the total housing units and print it out\n"
      ],
      "execution_count": null,
      "outputs": []
    },
    {
      "cell_type": "code",
      "metadata": {
        "id": "WtKGjp28xheq"
      },
      "source": [
        "def Harmonic(Num):\n",
        "    Summ = 0\n",
        "    for n in Num :\n",
        "        Summ += (1/n)\n",
        "    return round(len(Num)/Summ,3)\n",
        "\n"
      ],
      "execution_count": 215,
      "outputs": []
    },
    {
      "cell_type": "code",
      "metadata": {
        "colab": {
          "base_uri": "https://localhost:8080/"
        },
        "id": "cEoxTn3GxkKl",
        "outputId": "0f081052-9e2a-45a1-eb4a-a4d0ac063fea"
      },
      "source": [
        "housing_total = []\n",
        "\n",
        "with open(\"/content/Assignment1_denton_housing.csv\",'r') as Myfile:\n",
        "  FileR = csv.reader(Myfile) \n",
        "  for data in FileR: \n",
        "        if data[1] == \"Total Housing Units\": \n",
        "            housing_total.append(int(data[2]))\n",
        "\n",
        "print(\"The harmonic mean of the total housing units is\")\n",
        "print(str(Harmonic(housing_total)))"
      ],
      "execution_count": 220,
      "outputs": [
        {
          "output_type": "stream",
          "text": [
            "The harmonic mean of the total housing units is\n",
            "44398.285\n"
          ],
          "name": "stdout"
        }
      ]
    }
  ]
}